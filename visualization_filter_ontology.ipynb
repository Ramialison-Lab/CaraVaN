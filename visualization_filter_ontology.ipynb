{
 "cells": [
  {
   "cell_type": "code",
   "execution_count": null,
   "id": "7ffb1bf9",
   "metadata": {},
   "outputs": [],
   "source": [
    "# !conda activate base\n",
    "# You will need to activate the base conda environment to use the below \n",
    "# libraries, it should be something like conda activate base"
   ]
  },
  {
   "cell_type": "code",
   "execution_count": 1,
   "id": "32ba4f4b-5d67-4761-9b0e-2e27a540b629",
   "metadata": {},
   "outputs": [],
   "source": [
    "import pandas as pd \n",
    "import numpy as np\n",
    "import math\n",
    "import sklearn \n",
    "import matplotlib.pyplot as plt"
   ]
  },
  {
   "cell_type": "markdown",
   "id": "aa1498e5-a1c2-4ec1-b1c7-141f379e327b",
   "metadata": {},
   "source": [
    "# Filtering"
   ]
  },
  {
   "cell_type": "code",
   "execution_count": 12,
   "id": "d8e6e5d6-6939-48b4-8812-943fdcb15d13",
   "metadata": {},
   "outputs": [
    {
     "data": {
      "text/html": [
       "<div>\n",
       "<style scoped>\n",
       "    .dataframe tbody tr th:only-of-type {\n",
       "        vertical-align: middle;\n",
       "    }\n",
       "\n",
       "    .dataframe tbody tr th {\n",
       "        vertical-align: top;\n",
       "    }\n",
       "\n",
       "    .dataframe thead th {\n",
       "        text-align: right;\n",
       "    }\n",
       "</style>\n",
       "<table border=\"1\" class=\"dataframe\">\n",
       "  <thead>\n",
       "    <tr style=\"text-align: right;\">\n",
       "      <th></th>\n",
       "      <th>chrom</th>\n",
       "      <th>POS</th>\n",
       "      <th>POS_INCR</th>\n",
       "      <th>score</th>\n",
       "    </tr>\n",
       "  </thead>\n",
       "  <tbody>\n",
       "    <tr>\n",
       "      <th>78050</th>\n",
       "      <td>chr20</td>\n",
       "      <td>391581</td>\n",
       "      <td>391582</td>\n",
       "      <td>0.987173</td>\n",
       "    </tr>\n",
       "    <tr>\n",
       "      <th>78051</th>\n",
       "      <td>chr20</td>\n",
       "      <td>391585</td>\n",
       "      <td>391586</td>\n",
       "      <td>0.987327</td>\n",
       "    </tr>\n",
       "    <tr>\n",
       "      <th>78052</th>\n",
       "      <td>chr20</td>\n",
       "      <td>391586</td>\n",
       "      <td>391587</td>\n",
       "      <td>0.976091</td>\n",
       "    </tr>\n",
       "    <tr>\n",
       "      <th>78053</th>\n",
       "      <td>chr20</td>\n",
       "      <td>391589</td>\n",
       "      <td>391590</td>\n",
       "      <td>0.976056</td>\n",
       "    </tr>\n",
       "    <tr>\n",
       "      <th>78054</th>\n",
       "      <td>chr20</td>\n",
       "      <td>391592</td>\n",
       "      <td>391593</td>\n",
       "      <td>0.972438</td>\n",
       "    </tr>\n",
       "    <tr>\n",
       "      <th>...</th>\n",
       "      <td>...</td>\n",
       "      <td>...</td>\n",
       "      <td>...</td>\n",
       "      <td>...</td>\n",
       "    </tr>\n",
       "    <tr>\n",
       "      <th>14706843</th>\n",
       "      <td>chr20</td>\n",
       "      <td>63451924</td>\n",
       "      <td>63451925</td>\n",
       "      <td>0.984287</td>\n",
       "    </tr>\n",
       "    <tr>\n",
       "      <th>14706857</th>\n",
       "      <td>chr20</td>\n",
       "      <td>63451980</td>\n",
       "      <td>63451981</td>\n",
       "      <td>0.985695</td>\n",
       "    </tr>\n",
       "    <tr>\n",
       "      <th>14846691</th>\n",
       "      <td>chr20</td>\n",
       "      <td>63918148</td>\n",
       "      <td>63918149</td>\n",
       "      <td>0.982119</td>\n",
       "    </tr>\n",
       "    <tr>\n",
       "      <th>14846692</th>\n",
       "      <td>chr20</td>\n",
       "      <td>63918158</td>\n",
       "      <td>63918159</td>\n",
       "      <td>0.982419</td>\n",
       "    </tr>\n",
       "    <tr>\n",
       "      <th>14934988</th>\n",
       "      <td>chr20</td>\n",
       "      <td>64241199</td>\n",
       "      <td>64241200</td>\n",
       "      <td>0.943936</td>\n",
       "    </tr>\n",
       "  </tbody>\n",
       "</table>\n",
       "<p>462 rows × 4 columns</p>\n",
       "</div>"
      ],
      "text/plain": [
       "          chrom       POS  POS_INCR     score\n",
       "78050     chr20    391581    391582  0.987173\n",
       "78051     chr20    391585    391586  0.987327\n",
       "78052     chr20    391586    391587  0.976091\n",
       "78053     chr20    391589    391590  0.976056\n",
       "78054     chr20    391592    391593  0.972438\n",
       "...         ...       ...       ...       ...\n",
       "14706843  chr20  63451924  63451925  0.984287\n",
       "14706857  chr20  63451980  63451981  0.985695\n",
       "14846691  chr20  63918148  63918149  0.982119\n",
       "14846692  chr20  63918158  63918159  0.982419\n",
       "14934988  chr20  64241199  64241200  0.943936\n",
       "\n",
       "[462 rows x 4 columns]"
      ]
     },
     "execution_count": 12,
     "metadata": {},
     "output_type": "execute_result"
    }
   ],
   "source": [
    "chromosome = 'chr20'\n",
    "threshold = 0.9\n",
    "file_path = f'predictions/proba_predictions/{chromosome}_scores.txt'\n",
    "\n",
    "df = pd.read_csv(file_path, sep = '\\t')\n",
    "df = df[df['score'] >= threshold]\n",
    "df"
   ]
  },
  {
   "cell_type": "code",
   "execution_count": 13,
   "id": "c9de9864-132c-4f7e-a124-4b3a621b1063",
   "metadata": {},
   "outputs": [
    {
     "data": {
      "text/html": [
       "<div>\n",
       "<style scoped>\n",
       "    .dataframe tbody tr th:only-of-type {\n",
       "        vertical-align: middle;\n",
       "    }\n",
       "\n",
       "    .dataframe tbody tr th {\n",
       "        vertical-align: top;\n",
       "    }\n",
       "\n",
       "    .dataframe thead th {\n",
       "        text-align: right;\n",
       "    }\n",
       "</style>\n",
       "<table border=\"1\" class=\"dataframe\">\n",
       "  <thead>\n",
       "    <tr style=\"text-align: right;\">\n",
       "      <th></th>\n",
       "      <th>chrom</th>\n",
       "      <th>POS</th>\n",
       "      <th>POS_INCR</th>\n",
       "    </tr>\n",
       "  </thead>\n",
       "  <tbody>\n",
       "    <tr>\n",
       "      <th>78050</th>\n",
       "      <td>chr20</td>\n",
       "      <td>391581</td>\n",
       "      <td>391582</td>\n",
       "    </tr>\n",
       "    <tr>\n",
       "      <th>78051</th>\n",
       "      <td>chr20</td>\n",
       "      <td>391585</td>\n",
       "      <td>391586</td>\n",
       "    </tr>\n",
       "    <tr>\n",
       "      <th>78052</th>\n",
       "      <td>chr20</td>\n",
       "      <td>391586</td>\n",
       "      <td>391587</td>\n",
       "    </tr>\n",
       "    <tr>\n",
       "      <th>78053</th>\n",
       "      <td>chr20</td>\n",
       "      <td>391589</td>\n",
       "      <td>391590</td>\n",
       "    </tr>\n",
       "    <tr>\n",
       "      <th>78054</th>\n",
       "      <td>chr20</td>\n",
       "      <td>391592</td>\n",
       "      <td>391593</td>\n",
       "    </tr>\n",
       "    <tr>\n",
       "      <th>...</th>\n",
       "      <td>...</td>\n",
       "      <td>...</td>\n",
       "      <td>...</td>\n",
       "    </tr>\n",
       "    <tr>\n",
       "      <th>14706843</th>\n",
       "      <td>chr20</td>\n",
       "      <td>63451924</td>\n",
       "      <td>63451925</td>\n",
       "    </tr>\n",
       "    <tr>\n",
       "      <th>14706857</th>\n",
       "      <td>chr20</td>\n",
       "      <td>63451980</td>\n",
       "      <td>63451981</td>\n",
       "    </tr>\n",
       "    <tr>\n",
       "      <th>14846691</th>\n",
       "      <td>chr20</td>\n",
       "      <td>63918148</td>\n",
       "      <td>63918149</td>\n",
       "    </tr>\n",
       "    <tr>\n",
       "      <th>14846692</th>\n",
       "      <td>chr20</td>\n",
       "      <td>63918158</td>\n",
       "      <td>63918159</td>\n",
       "    </tr>\n",
       "    <tr>\n",
       "      <th>14934988</th>\n",
       "      <td>chr20</td>\n",
       "      <td>64241199</td>\n",
       "      <td>64241200</td>\n",
       "    </tr>\n",
       "  </tbody>\n",
       "</table>\n",
       "<p>462 rows × 3 columns</p>\n",
       "</div>"
      ],
      "text/plain": [
       "          chrom       POS  POS_INCR\n",
       "78050     chr20    391581    391582\n",
       "78051     chr20    391585    391586\n",
       "78052     chr20    391586    391587\n",
       "78053     chr20    391589    391590\n",
       "78054     chr20    391592    391593\n",
       "...         ...       ...       ...\n",
       "14706843  chr20  63451924  63451925\n",
       "14706857  chr20  63451980  63451981\n",
       "14846691  chr20  63918148  63918149\n",
       "14846692  chr20  63918158  63918159\n",
       "14934988  chr20  64241199  64241200\n",
       "\n",
       "[462 rows x 3 columns]"
      ]
     },
     "execution_count": 13,
     "metadata": {},
     "output_type": "execute_result"
    }
   ],
   "source": [
    "df = df[['chrom', 'POS', 'POS_INCR']]\n",
    "df"
   ]
  },
  {
   "cell_type": "code",
   "execution_count": 14,
   "id": "2352c8a4-fbde-469e-80f3-105a93ccedba",
   "metadata": {},
   "outputs": [],
   "source": [
    "df.to_csv(f\"filter_ontology/{chromosome}_{threshold}.bed\", sep = '\\t', index = False, header = None)"
   ]
  },
  {
   "cell_type": "markdown",
   "id": "7f7d6550-0c57-4a86-9126-58cba6f838a0",
   "metadata": {},
   "source": [
    "# Score distribution"
   ]
  },
  {
   "cell_type": "code",
   "execution_count": 2,
   "id": "dddc3186-10ee-4836-be5a-e074670b51e6",
   "metadata": {},
   "outputs": [],
   "source": [
    "chromosome = 'chr20'\n",
    "threshold = 0.2\n",
    "import seaborn as sns\n",
    "file_path = f'predictions/proba_predictions/{chromosome}_scores.txt'\n",
    "def visualize_scores(file_path, threshold = 0):\n",
    "    plt.figure(figsize = (16,12))\n",
    "    df = pd.read_csv(file_path, sep = '\\t')\n",
    "    df = df[df['score'] > threshold]\n",
    "    # sns.displot(data=df, x=\"score\", kind=\"kde\")\n",
    "    sns.displot(data=df, x=\"score\")\n",
    "    # plt.title(\"Predicted Score Distribution\")\n",
    "    plt.xlabel(\"CaraVaN's score distribution for chr20\")\n",
    "    plt.xticks([0.2,0.4,0.6,0.8,1.0])\n",
    "    # plt.savefig(f\"filter_ontology/{chromosome}_{threshold}.png\", dpi = 1000, bbox_inches = 'tight')\n",
    "    plt.show()\n",
    "    \n",
    "\n",
    "# visualize_scores(file_path)"
   ]
  },
  {
   "cell_type": "code",
   "execution_count": 38,
   "id": "8dc5b13d-ef1c-4f52-9bf1-c0a06ea2ed4e",
   "metadata": {},
   "outputs": [
    {
     "name": "stderr",
     "output_type": "stream",
     "text": [
      "/scratch/ud84/extngocduyt/miniconda/conda/envs/jupyterlab/lib/python3.10/site-packages/seaborn/axisgrid.py:118: UserWarning: The figure layout has changed to tight\n",
      "  self._figure.tight_layout(*args, **kwargs)\n"
     ]
    },
    {
     "data": {
      "text/plain": [
       "<Figure size 1600x1200 with 0 Axes>"
      ]
     },
     "metadata": {},
     "output_type": "display_data"
    },
    {
     "data": {
      "image/png": "[encoded data removed]",
      "text/plain": [
       "<Figure size 500x500 with 1 Axes>"
      ]
     },
     "metadata": {},
     "output_type": "display_data"
    }
   ],
   "source": [
    "visualize_scores(file_path, threshold = threshold)"
   ]
  },
  {
   "cell_type": "code",
   "execution_count": 35,
   "id": "52cbe7af-7e2c-451d-80df-2e03a886e51f",
   "metadata": {},
   "outputs": [
    {
     "data": {
      "image/png": "[encoded data removed]",
      "text/plain": [
       "<Figure size 640x480 with 2 Axes>"
      ]
     },
     "metadata": {},
     "output_type": "display_data"
    }
   ],
   "source": [
    "import matplotlib.pyplot as plt\n",
    "import numpy as np\n",
    "\n",
    "np.random.seed(19680801)\n",
    "\n",
    "pts = np.random.rand(30)*.2\n",
    "# Now let's make two outlier points which are far away from everything.\n",
    "pts[[3, 14]] += .8\n",
    "\n",
    "# If we were to simply plot pts, we'd lose most of the interesting\n",
    "# details due to the outliers. So let's 'break' or 'cut-out' the y-axis\n",
    "# into two portions - use the top (ax1) for the outliers, and the bottom\n",
    "# (ax2) for the details of the majority of our data\n",
    "fig, (ax1, ax2) = plt.subplots(2, 1, sharex=True)\n",
    "fig.subplots_adjust(hspace=0.05)  # adjust space between axes\n",
    "\n",
    "# plot the same data on both axes\n",
    "ax1.plot(pts)\n",
    "ax2.plot(pts)\n",
    "\n",
    "# # zoom-in / limit the view to different portions of the data\n",
    "ax1.set_ylim(.6, 1.)  # outliers only\n",
    "ax2.set_ylim(0, .22)  # most of the data\n",
    "\n",
    "# hide the spines between ax and ax2\n",
    "ax1.spines.bottom.set_visible(False)\n",
    "ax2.spines.top.set_visible(False)\n",
    "ax1.xaxis.tick_top()\n",
    "ax1.tick_params(labeltop=False)  # don't put tick labels at the top\n",
    "ax2.xaxis.tick_bottom()\n",
    "\n",
    "# Now, let's turn towards the cut-out slanted lines.\n",
    "# We create line objects in axes coordinates, in which (0,0), (0,1),\n",
    "# (1,0), and (1,1) are the four corners of the axes.\n",
    "# The slanted lines themselves are markers at those locations, such that the\n",
    "# lines keep their angle and position, independent of the axes size or scale\n",
    "# Finally, we need to disable clipping.\n",
    "\n",
    "d = .5  # proportion of vertical to horizontal extent of the slanted line\n",
    "kwargs = dict(marker=[(-1, -d), (1, d)], markersize=12,\n",
    "              linestyle=\"none\", color='k', mec='k', mew=1, clip_on=False)\n",
    "ax1.plot([0, 1], [0, 0], transform=ax1.transAxes, **kwargs)\n",
    "ax2.plot([0, 1], [1, 1], transform=ax2.transAxes, **kwargs)\n",
    "\n",
    "\n",
    "plt.show()\n"
   ]
  }
 ],
 "metadata": {
  "kernelspec": {
   "display_name": "Python 3 (ipykernel)",
   "language": "python",
   "name": "python3"
  },
  "language_info": {
   "codemirror_mode": {
    "name": "ipython",
    "version": 3
   },
   "file_extension": ".py",
   "mimetype": "text/x-python",
   "name": "python",
   "nbconvert_exporter": "python",
   "pygments_lexer": "ipython3",
   "version": "3.10.12"
  }
 },
 "nbformat": 4,
 "nbformat_minor": 5
}
