{
 "cells": [
  {
   "cell_type": "code",
   "execution_count": 1,
   "id": "9dd203f2-3959-4f05-bed5-f42515e21051",
   "metadata": {},
   "outputs": [],
   "source": [
    "import pandas as pd \n",
    "import numpy as np"
   ]
  },
  {
   "cell_type": "code",
   "execution_count": 14,
   "id": "0642fb3e-47bd-4ee6-b32d-675e0c7b9e93",
   "metadata": {},
   "outputs": [
    {
     "name": "stdout",
     "output_type": "stream",
     "text": [
      "(1134, 3)\n"
     ]
    }
   ],
   "source": [
    "variants_file = \"/group/tran3/duytran/ngocduy.tran/Python scripts/bedtools_merging/tested_variants/ensembl_genomic_positions(in).csv\"\n",
    "df = pd.read_csv(variants_file)\n",
    "df = df[['chromosome_name', 'start_position', 'end_position']]\n",
    "\n",
    "\n",
    "# Step 1: Add chromosome prefix\n",
    "df[\"chrom\"] = \"chr\" + df[\"chromosome_name\"].astype(str)\n",
    "\n",
    "# Step 2 & 3: Rename columns\n",
    "df = df.rename(columns={\n",
    "    \"start_position\": \"POS\",\n",
    "    \"end_position\": \"POS_INCR\"\n",
    "})\n",
    "\n",
    "# Optional: keep only the final columns\n",
    "df = df[['chrom', 'POS', 'POS_INCR']]\n",
    "df = df.drop_duplicates(subset=[\"chrom\", \"POS\", \"POS_INCR\"])\n",
    "df = df.sort_values(by = ['chrom', 'POS', 'POS_INCR'], \n",
    "                ascending = [True, True, True])\n",
    "print(df.shape)\n",
    "\n",
    "# save file to a \n",
    "file_path = \"/group/tran3/duytran/ngocduy.tran/Python scripts/bedtools_merging/tested_variants/ensembl_variants.txt\"\n",
    "df.to_csv(file_path, sep='\\t', index=False)"
   ]
  },
  {
   "cell_type": "code",
   "execution_count": 12,
   "id": "6dae9934-4fa2-4ba6-a28c-56a01f7d47ff",
   "metadata": {},
   "outputs": [
    {
     "name": "stdout",
     "output_type": "stream",
     "text": [
      "(1134, 3)\n"
     ]
    }
   ],
   "source": [
    "variants_file = \"/group/tran3/duytran/ngocduy.tran/Python scripts/bedtools_merging/tested_variants/ensembl_genomic_positions(in).csv\"\n",
    "df = pd.read_csv(variants_file)\n",
    "df = df[['chromosome_name', 'start_position', 'end_position']]\n",
    "\n",
    "\n",
    "# Step 1: Add chromosome prefix\n",
    "df[\"chrom\"] = \"chr\" + df[\"chromosome_name\"].astype(str)\n",
    "\n",
    "# Step 2 & 3: Rename columns\n",
    "df = df.rename(columns={\n",
    "    \"start_position\": \"POS\",\n",
    "})\n",
    "\n",
    "df['POS_INCR'] = df['POS'] + 1\n",
    "\n",
    "# Optional: keep only the final columns\n",
    "df = df[['chrom', 'POS', 'POS_INCR']]\n",
    "df = df.drop_duplicates(subset=[\"chrom\", \"POS\", \"POS_INCR\"])\n",
    "df = df.sort_values(by = ['chrom', 'POS', 'POS_INCR'], \n",
    "                ascending = [True, True, True])\n",
    "print(df.shape)\n",
    "\n",
    "# save file to a \n",
    "file_path = \"/group/tran3/duytran/ngocduy.tran/Python scripts/bedtools_merging/tested_variants/ensembl_variants_increment.txt\"\n",
    "df.to_csv(file_path, sep='\\t', index=False)"
   ]
  },
  {
   "cell_type": "code",
   "execution_count": 9,
   "id": "e6a2986a-fa5f-498a-b5e3-62757687af35",
   "metadata": {},
   "outputs": [
    {
     "name": "stderr",
     "output_type": "stream",
     "text": [
      "/tmp/ipykernel_2854263/4046201363.py:2: DtypeWarning: Columns (0) have mixed types. Specify dtype option on import or set low_memory=False.\n",
      "  df = pd.read_csv(variants_file, sep ='\\t')\n"
     ]
    }
   ],
   "source": [
    "variants_file = \"/group/tran3/duytran/ngocduy.tran/Python scripts/bedtools_merging/tested_variants/mart_export.txt\"\n",
    "df = pd.read_csv(variants_file, sep ='\\t')\n",
    "df = df[['Chromosome/scaffold name', 'Start (bp)', 'End (bp)']]\n",
    "df\n",
    "\n",
    "# Step 2 & 3: Rename columns\n",
    "df = df.rename(columns={\n",
    "    \"Chromosome/scaffold name\": \"chrom\",\n",
    "    \"Start (bp)\": \"POS\"\n",
    "})\n",
    "\n",
    "df['POS_INCR'] = df['POS'] + 1\n",
    "\n",
    "# # Step 1: Add chromosome prefix\n",
    "df[\"chrom\"] = \"chr\" + df[\"chrom\"].astype(str)\n",
    "\n",
    "# # Optional: keep only the final columns\n",
    "df = df[['chrom', 'POS', 'POS_INCR']]\n",
    "df = df.drop_duplicates(subset=[\"chrom\", \"POS\", \"POS_INCR\"])\n",
    "df = df.sort_values(by = ['chrom', 'POS', 'POS_INCR'], \n",
    "                ascending = [True, True, True])\n",
    "df\n",
    "\n",
    "# # save file to a \n",
    "file_path = \"/group/tran3/duytran/ngocduy.tran/Python scripts/bedtools_merging/tested_variants/mart_export.txt\"\n",
    "df.to_csv(file_path, sep='\\t', index=False)"
   ]
  },
  {
   "cell_type": "code",
   "execution_count": 17,
   "id": "3f7b18f3-5c80-4760-90ea-f4fdcc18f09b",
   "metadata": {},
   "outputs": [
    {
     "name": "stdout",
     "output_type": "stream",
     "text": [
      "['heart_left_ventricle_tissue_female_adult_53_years.promoters.bed', 'heart_left_ventricle_tissue_male_adult_34_years.promoters.bed', 'heart_left_ventricle_tissue_male_child_3_years.promoters.bed', 'heart_right_ventricle_tissue_female_adult_46_years.promoters.bed', 'heart_right_ventricle_tissue_male_adult_34_years.promoters.bed', 'heart_right_ventricle_tissue_male_adult_40_years.promoters.bed', 'heart_right_ventricle_tissue_male_child_3_years.promoters.bed']\n",
      "heart_left_ventricle_tissue_female_adult_53_years.promoters\n"
     ]
    },
    {
     "ename": "FileNotFoundError",
     "evalue": "[Errno 2] No such file or directory: 'bedtools'",
     "output_type": "error",
     "traceback": [
      "\u001b[0;31m---------------------------------------------------------------------------\u001b[0m",
      "\u001b[0;31mFileNotFoundError\u001b[0m                         Traceback (most recent call last)",
      "Cell \u001b[0;32mIn[17], line 103\u001b[0m\n\u001b[1;32m    100\u001b[0m \u001b[38;5;66;03m# above\u001b[39;00m\n\u001b[1;32m    101\u001b[0m validation_file \u001b[38;5;241m=\u001b[39m file_path\n\u001b[0;32m--> 103\u001b[0m bed_starting_ind \u001b[38;5;241m=\u001b[39m \u001b[43mread_bed_files\u001b[49m\u001b[43m(\u001b[49m\u001b[43mvalidation_file\u001b[49m\u001b[43m,\u001b[49m\u001b[43m \u001b[49m\u001b[43msubject\u001b[49m\u001b[43m \u001b[49m\u001b[38;5;241;43m=\u001b[39;49m\u001b[43m \u001b[49m\u001b[38;5;124;43m\"\u001b[39;49m\u001b[38;5;124;43mHuman\u001b[39;49m\u001b[38;5;124;43m\"\u001b[39;49m\u001b[43m,\u001b[49m\u001b[43m \u001b[49m\u001b[43mstart_ind\u001b[49m\u001b[43m \u001b[49m\u001b[38;5;241;43m=\u001b[39;49m\u001b[43m \u001b[49m\u001b[38;5;241;43m0\u001b[39;49m\u001b[43m)\u001b[49m\n\u001b[1;32m    104\u001b[0m \u001b[38;5;28mprint\u001b[39m(\u001b[38;5;124mf\u001b[39m\u001b[38;5;124m\"\u001b[39m\u001b[38;5;124mbed_starting_ind: \u001b[39m\u001b[38;5;132;01m{\u001b[39;00mbed_starting_ind\u001b[38;5;132;01m}\u001b[39;00m\u001b[38;5;124m\"\u001b[39m)\n",
      "Cell \u001b[0;32mIn[17], line 80\u001b[0m, in \u001b[0;36mread_bed_files\u001b[0;34m(mastersheet, subject, start_ind)\u001b[0m\n\u001b[1;32m     78\u001b[0m ctcf \u001b[38;5;241m=\u001b[39m \u001b[38;5;28msorted\u001b[39m([ele \u001b[38;5;28;01mfor\u001b[39;00m ele \u001b[38;5;129;01min\u001b[39;00m files \u001b[38;5;28;01mif\u001b[39;00m \u001b[38;5;124m'\u001b[39m\u001b[38;5;124mCTCF\u001b[39m\u001b[38;5;124m'\u001b[39m \u001b[38;5;129;01min\u001b[39;00m ele])\n\u001b[1;32m     79\u001b[0m \u001b[38;5;28mprint\u001b[39m(promoters)\n\u001b[0;32m---> 80\u001b[0m ind \u001b[38;5;241m=\u001b[39m \u001b[43mread_cres_files_encode\u001b[49m\u001b[43m(\u001b[49m\u001b[43mmastersheet\u001b[49m\u001b[43m,\u001b[49m\u001b[43mpromoters\u001b[49m\u001b[43m,\u001b[49m\u001b[43m \u001b[49m\u001b[43mfolder\u001b[49m\u001b[43m,\u001b[49m\u001b[43m \u001b[49m\u001b[43msubject\u001b[49m\u001b[43m,\u001b[49m\u001b[43m \u001b[49m\u001b[43mstart_ind\u001b[49m\u001b[43m \u001b[49m\u001b[38;5;241;43m=\u001b[39;49m\u001b[43m \u001b[49m\u001b[43mstart_ind\u001b[49m\u001b[43m)\u001b[49m\n\u001b[1;32m     81\u001b[0m \u001b[38;5;28mprint\u001b[39m(\u001b[38;5;124mf\u001b[39m\u001b[38;5;124m\"\u001b[39m\u001b[38;5;124mStarting ind is: \u001b[39m\u001b[38;5;132;01m{\u001b[39;00mind\u001b[38;5;132;01m}\u001b[39;00m\u001b[38;5;124m\"\u001b[39m)\n\u001b[1;32m     82\u001b[0m \u001b[38;5;66;03m# investigate_levels(enhancers, folder)\u001b[39;00m\n",
      "Cell \u001b[0;32mIn[17], line 45\u001b[0m, in \u001b[0;36mread_cres_files_encode\u001b[0;34m(mastersheet, file_lst, folder, subject, start_ind)\u001b[0m\n\u001b[1;32m     43\u001b[0m   output_file\u001b[38;5;241m=\u001b[39m  output_odd\n\u001b[1;32m     44\u001b[0m   command \u001b[38;5;241m=\u001b[39m [\u001b[38;5;124m'\u001b[39m\u001b[38;5;124mbedtools\u001b[39m\u001b[38;5;124m'\u001b[39m, \u001b[38;5;124m'\u001b[39m\u001b[38;5;124mintersect\u001b[39m\u001b[38;5;124m'\u001b[39m, \u001b[38;5;124m'\u001b[39m\u001b[38;5;124m-C\u001b[39m\u001b[38;5;124m'\u001b[39m, \u001b[38;5;124m'\u001b[39m\u001b[38;5;124m-a\u001b[39m\u001b[38;5;124m'\u001b[39m, output_even, \u001b[38;5;124m'\u001b[39m\u001b[38;5;124m-b\u001b[39m\u001b[38;5;124m'\u001b[39m, os\u001b[38;5;241m.\u001b[39mpath\u001b[38;5;241m.\u001b[39mjoin(folder, bed_file)]\n\u001b[0;32m---> 45\u001b[0m result \u001b[38;5;241m=\u001b[39m \u001b[43msubprocess\u001b[49m\u001b[38;5;241;43m.\u001b[39;49m\u001b[43mrun\u001b[49m\u001b[43m(\u001b[49m\u001b[43mcommand\u001b[49m\u001b[43m,\u001b[49m\u001b[43m \u001b[49m\u001b[43mcapture_output\u001b[49m\u001b[38;5;241;43m=\u001b[39;49m\u001b[38;5;28;43;01mTrue\u001b[39;49;00m\u001b[43m,\u001b[49m\u001b[43m \u001b[49m\u001b[43mtext\u001b[49m\u001b[38;5;241;43m=\u001b[39;49m\u001b[38;5;28;43;01mTrue\u001b[39;49;00m\u001b[43m)\u001b[49m\n\u001b[1;32m     46\u001b[0m \u001b[38;5;66;03m# Save the intersected result to the output file\u001b[39;00m\n\u001b[1;32m     47\u001b[0m \u001b[38;5;28;01mwith\u001b[39;00m \u001b[38;5;28mopen\u001b[39m(output_file, \u001b[38;5;124m'\u001b[39m\u001b[38;5;124mw\u001b[39m\u001b[38;5;124m'\u001b[39m) \u001b[38;5;28;01mas\u001b[39;00m f:\n",
      "File \u001b[0;32m~/tran3/duytran/win/lib/python3.10/subprocess.py:503\u001b[0m, in \u001b[0;36mrun\u001b[0;34m(input, capture_output, timeout, check, *popenargs, **kwargs)\u001b[0m\n\u001b[1;32m    500\u001b[0m     kwargs[\u001b[38;5;124m'\u001b[39m\u001b[38;5;124mstdout\u001b[39m\u001b[38;5;124m'\u001b[39m] \u001b[38;5;241m=\u001b[39m PIPE\n\u001b[1;32m    501\u001b[0m     kwargs[\u001b[38;5;124m'\u001b[39m\u001b[38;5;124mstderr\u001b[39m\u001b[38;5;124m'\u001b[39m] \u001b[38;5;241m=\u001b[39m PIPE\n\u001b[0;32m--> 503\u001b[0m \u001b[38;5;28;01mwith\u001b[39;00m \u001b[43mPopen\u001b[49m\u001b[43m(\u001b[49m\u001b[38;5;241;43m*\u001b[39;49m\u001b[43mpopenargs\u001b[49m\u001b[43m,\u001b[49m\u001b[43m \u001b[49m\u001b[38;5;241;43m*\u001b[39;49m\u001b[38;5;241;43m*\u001b[39;49m\u001b[43mkwargs\u001b[49m\u001b[43m)\u001b[49m \u001b[38;5;28;01mas\u001b[39;00m process:\n\u001b[1;32m    504\u001b[0m     \u001b[38;5;28;01mtry\u001b[39;00m:\n\u001b[1;32m    505\u001b[0m         stdout, stderr \u001b[38;5;241m=\u001b[39m process\u001b[38;5;241m.\u001b[39mcommunicate(\u001b[38;5;28minput\u001b[39m, timeout\u001b[38;5;241m=\u001b[39mtimeout)\n",
      "File \u001b[0;32m~/tran3/duytran/win/lib/python3.10/subprocess.py:971\u001b[0m, in \u001b[0;36mPopen.__init__\u001b[0;34m(self, args, bufsize, executable, stdin, stdout, stderr, preexec_fn, close_fds, shell, cwd, env, universal_newlines, startupinfo, creationflags, restore_signals, start_new_session, pass_fds, user, group, extra_groups, encoding, errors, text, umask, pipesize)\u001b[0m\n\u001b[1;32m    967\u001b[0m         \u001b[38;5;28;01mif\u001b[39;00m \u001b[38;5;28mself\u001b[39m\u001b[38;5;241m.\u001b[39mtext_mode:\n\u001b[1;32m    968\u001b[0m             \u001b[38;5;28mself\u001b[39m\u001b[38;5;241m.\u001b[39mstderr \u001b[38;5;241m=\u001b[39m io\u001b[38;5;241m.\u001b[39mTextIOWrapper(\u001b[38;5;28mself\u001b[39m\u001b[38;5;241m.\u001b[39mstderr,\n\u001b[1;32m    969\u001b[0m                     encoding\u001b[38;5;241m=\u001b[39mencoding, errors\u001b[38;5;241m=\u001b[39merrors)\n\u001b[0;32m--> 971\u001b[0m     \u001b[38;5;28;43mself\u001b[39;49m\u001b[38;5;241;43m.\u001b[39;49m\u001b[43m_execute_child\u001b[49m\u001b[43m(\u001b[49m\u001b[43margs\u001b[49m\u001b[43m,\u001b[49m\u001b[43m \u001b[49m\u001b[43mexecutable\u001b[49m\u001b[43m,\u001b[49m\u001b[43m \u001b[49m\u001b[43mpreexec_fn\u001b[49m\u001b[43m,\u001b[49m\u001b[43m \u001b[49m\u001b[43mclose_fds\u001b[49m\u001b[43m,\u001b[49m\n\u001b[1;32m    972\u001b[0m \u001b[43m                        \u001b[49m\u001b[43mpass_fds\u001b[49m\u001b[43m,\u001b[49m\u001b[43m \u001b[49m\u001b[43mcwd\u001b[49m\u001b[43m,\u001b[49m\u001b[43m \u001b[49m\u001b[43menv\u001b[49m\u001b[43m,\u001b[49m\n\u001b[1;32m    973\u001b[0m \u001b[43m                        \u001b[49m\u001b[43mstartupinfo\u001b[49m\u001b[43m,\u001b[49m\u001b[43m \u001b[49m\u001b[43mcreationflags\u001b[49m\u001b[43m,\u001b[49m\u001b[43m \u001b[49m\u001b[43mshell\u001b[49m\u001b[43m,\u001b[49m\n\u001b[1;32m    974\u001b[0m \u001b[43m                        \u001b[49m\u001b[43mp2cread\u001b[49m\u001b[43m,\u001b[49m\u001b[43m \u001b[49m\u001b[43mp2cwrite\u001b[49m\u001b[43m,\u001b[49m\n\u001b[1;32m    975\u001b[0m \u001b[43m                        \u001b[49m\u001b[43mc2pread\u001b[49m\u001b[43m,\u001b[49m\u001b[43m \u001b[49m\u001b[43mc2pwrite\u001b[49m\u001b[43m,\u001b[49m\n\u001b[1;32m    976\u001b[0m \u001b[43m                        \u001b[49m\u001b[43merrread\u001b[49m\u001b[43m,\u001b[49m\u001b[43m \u001b[49m\u001b[43merrwrite\u001b[49m\u001b[43m,\u001b[49m\n\u001b[1;32m    977\u001b[0m \u001b[43m                        \u001b[49m\u001b[43mrestore_signals\u001b[49m\u001b[43m,\u001b[49m\n\u001b[1;32m    978\u001b[0m \u001b[43m                        \u001b[49m\u001b[43mgid\u001b[49m\u001b[43m,\u001b[49m\u001b[43m \u001b[49m\u001b[43mgids\u001b[49m\u001b[43m,\u001b[49m\u001b[43m \u001b[49m\u001b[43muid\u001b[49m\u001b[43m,\u001b[49m\u001b[43m \u001b[49m\u001b[43mumask\u001b[49m\u001b[43m,\u001b[49m\n\u001b[1;32m    979\u001b[0m \u001b[43m                        \u001b[49m\u001b[43mstart_new_session\u001b[49m\u001b[43m)\u001b[49m\n\u001b[1;32m    980\u001b[0m \u001b[38;5;28;01mexcept\u001b[39;00m:\n\u001b[1;32m    981\u001b[0m     \u001b[38;5;66;03m# Cleanup if the child failed starting.\u001b[39;00m\n\u001b[1;32m    982\u001b[0m     \u001b[38;5;28;01mfor\u001b[39;00m f \u001b[38;5;129;01min\u001b[39;00m \u001b[38;5;28mfilter\u001b[39m(\u001b[38;5;28;01mNone\u001b[39;00m, (\u001b[38;5;28mself\u001b[39m\u001b[38;5;241m.\u001b[39mstdin, \u001b[38;5;28mself\u001b[39m\u001b[38;5;241m.\u001b[39mstdout, \u001b[38;5;28mself\u001b[39m\u001b[38;5;241m.\u001b[39mstderr)):\n",
      "File \u001b[0;32m~/tran3/duytran/win/lib/python3.10/subprocess.py:1863\u001b[0m, in \u001b[0;36mPopen._execute_child\u001b[0;34m(self, args, executable, preexec_fn, close_fds, pass_fds, cwd, env, startupinfo, creationflags, shell, p2cread, p2cwrite, c2pread, c2pwrite, errread, errwrite, restore_signals, gid, gids, uid, umask, start_new_session)\u001b[0m\n\u001b[1;32m   1861\u001b[0m     \u001b[38;5;28;01mif\u001b[39;00m errno_num \u001b[38;5;241m!=\u001b[39m \u001b[38;5;241m0\u001b[39m:\n\u001b[1;32m   1862\u001b[0m         err_msg \u001b[38;5;241m=\u001b[39m os\u001b[38;5;241m.\u001b[39mstrerror(errno_num)\n\u001b[0;32m-> 1863\u001b[0m     \u001b[38;5;28;01mraise\u001b[39;00m child_exception_type(errno_num, err_msg, err_filename)\n\u001b[1;32m   1864\u001b[0m \u001b[38;5;28;01mraise\u001b[39;00m child_exception_type(err_msg)\n",
      "\u001b[0;31mFileNotFoundError\u001b[0m: [Errno 2] No such file or directory: 'bedtools'"
     ]
    }
   ],
   "source": [
    "import os\n",
    "import pandas as pd\n",
    "import numpy as np\n",
    "import subprocess\n",
    "import os\n",
    "import pandas as pd\n",
    "from datetime import date\n",
    "import argparse\n",
    "\n",
    "\n",
    "chromosome = 'ensembl_variants'\n",
    "\n",
    "# function to read the human and encode files\n",
    "# create promoters txt files with: the first initial rows as the original dataframe\n",
    "# while the most right column is the column produced by the bed file\n",
    "def read_cres_files_encode(mastersheet,file_lst, folder, subject, start_ind):\n",
    "  output_odd = f\"Validation merging test/{chromosome}/output_odd.txt\"\n",
    "  output_even = f\"Validation merging test/{chromosome}/output_even.txt\"\n",
    "  track_ind = start_ind\n",
    "  for bed_file in file_lst:\n",
    "    try:\n",
    "\n",
    "      df = pd.read_csv(os.path.join(folder, bed_file), sep = '\\t', header = None)\n",
    "    except pd.errors.EmptyDataError:\n",
    "      # handle empty file\n",
    "      print(f\"One missing file: {bed_file}\")\n",
    "      with open(logging_file, 'a') as fpo:\n",
    "          fpo.write(f\"One missing file: {bed_file}\\n\")\n",
    "      pass\n",
    "    else:\n",
    "      name = bed_file[: -4]\n",
    "      print(name)\n",
    "      # print(bed_file)\n",
    "      # Run the Bedtools intersect command\n",
    "      if track_ind == 0:\n",
    "        output_file = output_even\n",
    "        command = ['bedtools', 'intersect', '-C', '-a', mastersheet, '-b', os.path.join(folder, bed_file)]\n",
    "      elif(track_ind %2 ==0):\n",
    "        output_file = output_even\n",
    "        command = ['bedtools', 'intersect', '-C', '-a', output_odd, '-b', os.path.join(folder, bed_file)]\n",
    "\n",
    "      else:\n",
    "        output_file=  output_odd\n",
    "        command = ['bedtools', 'intersect', '-C', '-a', output_even, '-b', os.path.join(folder, bed_file)]\n",
    "      result = subprocess.run(command, capture_output=True, text=True)\n",
    "      # Save the intersected result to the output file\n",
    "      with open(output_file, 'w') as f:\n",
    "          f.write(result.stdout)\n",
    "      word_count = subprocess.run([\"wc\", output_file])\n",
    "      print(word_count.stdout)\n",
    "      overview = subprocess.run([\"sed\", \"-n\", \"1p\", output_file], capture_output = True, text = True)\n",
    "      print(overview.stdout)\n",
    "\n",
    "      # Display the output file name\n",
    "      print(track_ind)\n",
    "      print(f\"Intersection saved as {name}\")\n",
    "      with open(logging_file, 'a') as fpo:\n",
    "          fpo.write(name)\n",
    "          # fpo.write(word_count.stdout)\n",
    "          fpo.write(overview.stdout)\n",
    "          fpo.write(str(track_ind))\n",
    "      track_ind += 1\n",
    "\n",
    "  return track_ind\n",
    "\n",
    "\n",
    "def read_bed_files(mastersheet,subject, start_ind):\n",
    "  folder = f\"BED files/{subject}\"\n",
    "  embryo_folder = f\"BED files/{subject}/Clean Embryo files\"\n",
    "  files = os.listdir(folder)\n",
    "\n",
    "  promoters = sorted([ele for ele in files if 'promoter' in ele])\n",
    "  enhancers = sorted([ele for ele in files if 'enhancer' in ele])\n",
    "  # for mice, embryo is a redundant column as it is already either the\n",
    "  # promtoer or enhancer\n",
    "  if subject == 'Human':\n",
    "    embryo = sorted([ele for ele in os.listdir(embryo_folder) if 'embryo' in ele])\n",
    "  ctcf = sorted([ele for ele in files if 'CTCF' in ele])\n",
    "  print(promoters)\n",
    "  ind = read_cres_files_encode(mastersheet,promoters, folder, subject, start_ind = start_ind)\n",
    "  print(f\"Starting ind is: {ind}\")\n",
    "  # investigate_levels(enhancers, folder)\n",
    "  print(enhancers)\n",
    "  ind = read_cres_files_encode(mastersheet,enhancers, folder, subject, start_ind = ind)\n",
    "  print(f\"Starting ind is: {ind}\")\n",
    "\n",
    "  # investigate_levels(embryo, embryo_folder)\n",
    "  if subject == 'Human':\n",
    "    print(embryo)\n",
    "    ind = read_cres_files_encode(mastersheet,embryo, embryo_folder, subject, start_ind = ind)\n",
    "    print(f\"Starting ind is: {ind}\")\n",
    "  print(ctcf)\n",
    "  # investigate_levels(ctcf, folder)\n",
    "  ind = read_cres_files_encode(mastersheet,ctcf, folder, subject, start_ind = ind)\n",
    "  print(f\"Starting ind is: {ind}\")\n",
    "\n",
    "  print(len(promoters), len(enhancers), len(ctcf))\n",
    "  return ind\n",
    "\n",
    "# above\n",
    "validation_file = file_path\n",
    "\n",
    "bed_starting_ind = read_bed_files(validation_file, subject = \"Human\", start_ind = 0)\n",
    "print(f\"bed_starting_ind: {bed_starting_ind}\")"
   ]
  }
 ],
 "metadata": {
  "kernelspec": {
   "display_name": "Python (win)",
   "language": "python",
   "name": "win"
  },
  "language_info": {
   "codemirror_mode": {
    "name": "ipython",
    "version": 3
   },
   "file_extension": ".py",
   "mimetype": "text/x-python",
   "name": "python",
   "nbconvert_exporter": "python",
   "pygments_lexer": "ipython3",
   "version": "3.10.18"
  }
 },
 "nbformat": 4,
 "nbformat_minor": 5
}
