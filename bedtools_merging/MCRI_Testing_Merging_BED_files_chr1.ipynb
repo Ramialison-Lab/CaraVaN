{
 "cells": [
  {
   "cell_type": "markdown",
   "metadata": {
    "id": "qaEf6hZlISio"
   },
   "source": [
    "# Merging for validation on chromosome 1\n",
    "\n",
    "Note/Warning for merging quality check for bed files merging"
   ]
  },
  {
   "cell_type": "markdown",
   "metadata": {
    "id": "XLrLSAzKISiv"
   },
   "source": [
    "## Create validation file"
   ]
  },
  {
   "cell_type": "code",
   "execution_count": null,
   "metadata": {
    "colab": {
     "base_uri": "https://localhost:8080/"
    },
    "id": "PigmksFMISiv",
    "outputId": "ed2aeb36-b39c-4149-f1d2-d76ddc01f701"
   },
   "outputs": [
    {
     "name": "stdout",
     "output_type": "stream",
     "text": [
      "   chrom        POS   POS_INCR\n",
      "0  chr12  114704514  114704515\n",
      "1  chr15   90735064   90735065\n",
      "2  chr16   57302898   57302899\n",
      "3  chr20    1306044    1306045\n",
      "4  chr20   42780500   42780501\n",
      "5   chr7    4835971    4835972\n"
     ]
    }
   ],
   "source": [
    "# import pandas as pd\n",
    "# data = {\n",
    "#     'chrom': ['chr12', 'chr15', 'chr16', 'chr20', 'chr20', 'chr7',],\n",
    "#     'POS': [114704514, 90735064, 57302898, 1306044, 42780500, 4835971],\n",
    "#     'POS_INCR': [114704515, 90735065, 57302899, 1306045, 42780501, 4835972]\n",
    "# }\n",
    "\n",
    "# # Create DataFrame from the dictionary\n",
    "# df = pd.DataFrame(data)\n",
    "\n",
    "# print(df)"
   ]
  },
  {
   "cell_type": "code",
   "execution_count": 6,
   "metadata": {},
   "outputs": [],
   "source": [
    "import pandas as pd\n",
    "import numpy as np\n",
    "chromosome = 'chr1'\n",
    "df = pd.read_csv(\"Validation/homo_sapiens-{chromosome}.vcf\", sep = '\\t', skiprows = 36)\n",
    "# df"
   ]
  },
  {
   "cell_type": "code",
   "execution_count": 3,
   "metadata": {
    "colab": {
     "base_uri": "https://localhost:8080/",
     "height": 423
    },
    "id": "SSUKdFlfISiw",
    "outputId": "9f648116-7f6f-46ce-9114-6a27786fdef1"
   },
   "outputs": [
    {
     "ename": "KeyError",
     "evalue": "\"['ID', 'FILTER', 'REF', 'ALT', 'QUAL', 'INFO'] not found in axis\"",
     "output_type": "error",
     "traceback": [
      "\u001b[0;31m---------------------------------------------------------------------------\u001b[0m",
      "\u001b[0;31mKeyError\u001b[0m                                  Traceback (most recent call last)",
      "Cell \u001b[0;32mIn[3], line 2\u001b[0m\n\u001b[1;32m      1\u001b[0m df \u001b[38;5;241m=\u001b[39m df\u001b[38;5;241m.\u001b[39mrename({\u001b[38;5;124m'\u001b[39m\u001b[38;5;124m#CHROM\u001b[39m\u001b[38;5;124m'\u001b[39m: \u001b[38;5;124m'\u001b[39m\u001b[38;5;124mchrom\u001b[39m\u001b[38;5;124m'\u001b[39m}, axis \u001b[38;5;241m=\u001b[39m \u001b[38;5;241m1\u001b[39m)\n\u001b[0;32m----> 2\u001b[0m df \u001b[38;5;241m=\u001b[39m \u001b[43mdf\u001b[49m\u001b[38;5;241;43m.\u001b[39;49m\u001b[43mdrop\u001b[49m\u001b[43m(\u001b[49m\u001b[43m[\u001b[49m\u001b[38;5;124;43m'\u001b[39;49m\u001b[38;5;124;43mID\u001b[39;49m\u001b[38;5;124;43m'\u001b[39;49m\u001b[43m,\u001b[49m\u001b[43m \u001b[49m\u001b[38;5;124;43m'\u001b[39;49m\u001b[38;5;124;43mFILTER\u001b[39;49m\u001b[38;5;124;43m'\u001b[39;49m\u001b[43m,\u001b[49m\u001b[43m \u001b[49m\u001b[38;5;124;43m'\u001b[39;49m\u001b[38;5;124;43mREF\u001b[39;49m\u001b[38;5;124;43m'\u001b[39;49m\u001b[43m,\u001b[49m\u001b[43m \u001b[49m\u001b[38;5;124;43m'\u001b[39;49m\u001b[38;5;124;43mALT\u001b[39;49m\u001b[38;5;124;43m'\u001b[39;49m\u001b[43m,\u001b[49m\u001b[43m \u001b[49m\u001b[38;5;124;43m'\u001b[39;49m\u001b[38;5;124;43mQUAL\u001b[39;49m\u001b[38;5;124;43m'\u001b[39;49m\u001b[43m,\u001b[49m\u001b[43m \u001b[49m\u001b[38;5;124;43m'\u001b[39;49m\u001b[38;5;124;43mINFO\u001b[39;49m\u001b[38;5;124;43m'\u001b[39;49m\u001b[43m]\u001b[49m\u001b[43m,\u001b[49m\u001b[43m \u001b[49m\u001b[43maxis\u001b[49m\u001b[43m \u001b[49m\u001b[38;5;241;43m=\u001b[39;49m\u001b[43m \u001b[49m\u001b[38;5;241;43m1\u001b[39;49m\u001b[43m)\u001b[49m\n\u001b[1;32m      3\u001b[0m df \u001b[38;5;241m=\u001b[39m df\u001b[38;5;241m.\u001b[39mdrop_duplicates(subset\u001b[38;5;241m=\u001b[39m[\u001b[38;5;124m\"\u001b[39m\u001b[38;5;124mPOS\u001b[39m\u001b[38;5;124m\"\u001b[39m])\n\u001b[1;32m      4\u001b[0m df\n",
      "File \u001b[0;32m/opt/tljh/user/lib/python3.10/site-packages/pandas/util/_decorators.py:331\u001b[0m, in \u001b[0;36mdeprecate_nonkeyword_arguments.<locals>.decorate.<locals>.wrapper\u001b[0;34m(*args, **kwargs)\u001b[0m\n\u001b[1;32m    325\u001b[0m \u001b[38;5;28;01mif\u001b[39;00m \u001b[38;5;28mlen\u001b[39m(args) \u001b[38;5;241m>\u001b[39m num_allow_args:\n\u001b[1;32m    326\u001b[0m     warnings\u001b[38;5;241m.\u001b[39mwarn(\n\u001b[1;32m    327\u001b[0m         msg\u001b[38;5;241m.\u001b[39mformat(arguments\u001b[38;5;241m=\u001b[39m_format_argument_list(allow_args)),\n\u001b[1;32m    328\u001b[0m         \u001b[38;5;167;01mFutureWarning\u001b[39;00m,\n\u001b[1;32m    329\u001b[0m         stacklevel\u001b[38;5;241m=\u001b[39mfind_stack_level(),\n\u001b[1;32m    330\u001b[0m     )\n\u001b[0;32m--> 331\u001b[0m \u001b[38;5;28;01mreturn\u001b[39;00m \u001b[43mfunc\u001b[49m\u001b[43m(\u001b[49m\u001b[38;5;241;43m*\u001b[39;49m\u001b[43margs\u001b[49m\u001b[43m,\u001b[49m\u001b[43m \u001b[49m\u001b[38;5;241;43m*\u001b[39;49m\u001b[38;5;241;43m*\u001b[39;49m\u001b[43mkwargs\u001b[49m\u001b[43m)\u001b[49m\n",
      "File \u001b[0;32m/opt/tljh/user/lib/python3.10/site-packages/pandas/core/frame.py:5399\u001b[0m, in \u001b[0;36mDataFrame.drop\u001b[0;34m(self, labels, axis, index, columns, level, inplace, errors)\u001b[0m\n\u001b[1;32m   5251\u001b[0m \u001b[38;5;129m@deprecate_nonkeyword_arguments\u001b[39m(version\u001b[38;5;241m=\u001b[39m\u001b[38;5;28;01mNone\u001b[39;00m, allowed_args\u001b[38;5;241m=\u001b[39m[\u001b[38;5;124m\"\u001b[39m\u001b[38;5;124mself\u001b[39m\u001b[38;5;124m\"\u001b[39m, \u001b[38;5;124m\"\u001b[39m\u001b[38;5;124mlabels\u001b[39m\u001b[38;5;124m\"\u001b[39m])\n\u001b[1;32m   5252\u001b[0m \u001b[38;5;28;01mdef\u001b[39;00m \u001b[38;5;21mdrop\u001b[39m(  \u001b[38;5;66;03m# type: ignore[override]\u001b[39;00m\n\u001b[1;32m   5253\u001b[0m     \u001b[38;5;28mself\u001b[39m,\n\u001b[0;32m   (...)\u001b[0m\n\u001b[1;32m   5260\u001b[0m     errors: IgnoreRaise \u001b[38;5;241m=\u001b[39m \u001b[38;5;124m\"\u001b[39m\u001b[38;5;124mraise\u001b[39m\u001b[38;5;124m\"\u001b[39m,\n\u001b[1;32m   5261\u001b[0m ) \u001b[38;5;241m-\u001b[39m\u001b[38;5;241m>\u001b[39m DataFrame \u001b[38;5;241m|\u001b[39m \u001b[38;5;28;01mNone\u001b[39;00m:\n\u001b[1;32m   5262\u001b[0m \u001b[38;5;250m    \u001b[39m\u001b[38;5;124;03m\"\"\"\u001b[39;00m\n\u001b[1;32m   5263\u001b[0m \u001b[38;5;124;03m    Drop specified labels from rows or columns.\u001b[39;00m\n\u001b[1;32m   5264\u001b[0m \n\u001b[0;32m   (...)\u001b[0m\n\u001b[1;32m   5397\u001b[0m \u001b[38;5;124;03m            weight  1.0     0.8\u001b[39;00m\n\u001b[1;32m   5398\u001b[0m \u001b[38;5;124;03m    \"\"\"\u001b[39;00m\n\u001b[0;32m-> 5399\u001b[0m     \u001b[38;5;28;01mreturn\u001b[39;00m \u001b[38;5;28;43msuper\u001b[39;49m\u001b[43m(\u001b[49m\u001b[43m)\u001b[49m\u001b[38;5;241;43m.\u001b[39;49m\u001b[43mdrop\u001b[49m\u001b[43m(\u001b[49m\n\u001b[1;32m   5400\u001b[0m \u001b[43m        \u001b[49m\u001b[43mlabels\u001b[49m\u001b[38;5;241;43m=\u001b[39;49m\u001b[43mlabels\u001b[49m\u001b[43m,\u001b[49m\n\u001b[1;32m   5401\u001b[0m \u001b[43m        \u001b[49m\u001b[43maxis\u001b[49m\u001b[38;5;241;43m=\u001b[39;49m\u001b[43maxis\u001b[49m\u001b[43m,\u001b[49m\n\u001b[1;32m   5402\u001b[0m \u001b[43m        \u001b[49m\u001b[43mindex\u001b[49m\u001b[38;5;241;43m=\u001b[39;49m\u001b[43mindex\u001b[49m\u001b[43m,\u001b[49m\n\u001b[1;32m   5403\u001b[0m \u001b[43m        \u001b[49m\u001b[43mcolumns\u001b[49m\u001b[38;5;241;43m=\u001b[39;49m\u001b[43mcolumns\u001b[49m\u001b[43m,\u001b[49m\n\u001b[1;32m   5404\u001b[0m \u001b[43m        \u001b[49m\u001b[43mlevel\u001b[49m\u001b[38;5;241;43m=\u001b[39;49m\u001b[43mlevel\u001b[49m\u001b[43m,\u001b[49m\n\u001b[1;32m   5405\u001b[0m \u001b[43m        \u001b[49m\u001b[43minplace\u001b[49m\u001b[38;5;241;43m=\u001b[39;49m\u001b[43minplace\u001b[49m\u001b[43m,\u001b[49m\n\u001b[1;32m   5406\u001b[0m \u001b[43m        \u001b[49m\u001b[43merrors\u001b[49m\u001b[38;5;241;43m=\u001b[39;49m\u001b[43merrors\u001b[49m\u001b[43m,\u001b[49m\n\u001b[1;32m   5407\u001b[0m \u001b[43m    \u001b[49m\u001b[43m)\u001b[49m\n",
      "File \u001b[0;32m/opt/tljh/user/lib/python3.10/site-packages/pandas/util/_decorators.py:331\u001b[0m, in \u001b[0;36mdeprecate_nonkeyword_arguments.<locals>.decorate.<locals>.wrapper\u001b[0;34m(*args, **kwargs)\u001b[0m\n\u001b[1;32m    325\u001b[0m \u001b[38;5;28;01mif\u001b[39;00m \u001b[38;5;28mlen\u001b[39m(args) \u001b[38;5;241m>\u001b[39m num_allow_args:\n\u001b[1;32m    326\u001b[0m     warnings\u001b[38;5;241m.\u001b[39mwarn(\n\u001b[1;32m    327\u001b[0m         msg\u001b[38;5;241m.\u001b[39mformat(arguments\u001b[38;5;241m=\u001b[39m_format_argument_list(allow_args)),\n\u001b[1;32m    328\u001b[0m         \u001b[38;5;167;01mFutureWarning\u001b[39;00m,\n\u001b[1;32m    329\u001b[0m         stacklevel\u001b[38;5;241m=\u001b[39mfind_stack_level(),\n\u001b[1;32m    330\u001b[0m     )\n\u001b[0;32m--> 331\u001b[0m \u001b[38;5;28;01mreturn\u001b[39;00m \u001b[43mfunc\u001b[49m\u001b[43m(\u001b[49m\u001b[38;5;241;43m*\u001b[39;49m\u001b[43margs\u001b[49m\u001b[43m,\u001b[49m\u001b[43m \u001b[49m\u001b[38;5;241;43m*\u001b[39;49m\u001b[38;5;241;43m*\u001b[39;49m\u001b[43mkwargs\u001b[49m\u001b[43m)\u001b[49m\n",
      "File \u001b[0;32m/opt/tljh/user/lib/python3.10/site-packages/pandas/core/generic.py:4505\u001b[0m, in \u001b[0;36mNDFrame.drop\u001b[0;34m(self, labels, axis, index, columns, level, inplace, errors)\u001b[0m\n\u001b[1;32m   4503\u001b[0m \u001b[38;5;28;01mfor\u001b[39;00m axis, labels \u001b[38;5;129;01min\u001b[39;00m axes\u001b[38;5;241m.\u001b[39mitems():\n\u001b[1;32m   4504\u001b[0m     \u001b[38;5;28;01mif\u001b[39;00m labels \u001b[38;5;129;01mis\u001b[39;00m \u001b[38;5;129;01mnot\u001b[39;00m \u001b[38;5;28;01mNone\u001b[39;00m:\n\u001b[0;32m-> 4505\u001b[0m         obj \u001b[38;5;241m=\u001b[39m \u001b[43mobj\u001b[49m\u001b[38;5;241;43m.\u001b[39;49m\u001b[43m_drop_axis\u001b[49m\u001b[43m(\u001b[49m\u001b[43mlabels\u001b[49m\u001b[43m,\u001b[49m\u001b[43m \u001b[49m\u001b[43maxis\u001b[49m\u001b[43m,\u001b[49m\u001b[43m \u001b[49m\u001b[43mlevel\u001b[49m\u001b[38;5;241;43m=\u001b[39;49m\u001b[43mlevel\u001b[49m\u001b[43m,\u001b[49m\u001b[43m \u001b[49m\u001b[43merrors\u001b[49m\u001b[38;5;241;43m=\u001b[39;49m\u001b[43merrors\u001b[49m\u001b[43m)\u001b[49m\n\u001b[1;32m   4507\u001b[0m \u001b[38;5;28;01mif\u001b[39;00m inplace:\n\u001b[1;32m   4508\u001b[0m     \u001b[38;5;28mself\u001b[39m\u001b[38;5;241m.\u001b[39m_update_inplace(obj)\n",
      "File \u001b[0;32m/opt/tljh/user/lib/python3.10/site-packages/pandas/core/generic.py:4546\u001b[0m, in \u001b[0;36mNDFrame._drop_axis\u001b[0;34m(self, labels, axis, level, errors, only_slice)\u001b[0m\n\u001b[1;32m   4544\u001b[0m         new_axis \u001b[38;5;241m=\u001b[39m axis\u001b[38;5;241m.\u001b[39mdrop(labels, level\u001b[38;5;241m=\u001b[39mlevel, errors\u001b[38;5;241m=\u001b[39merrors)\n\u001b[1;32m   4545\u001b[0m     \u001b[38;5;28;01melse\u001b[39;00m:\n\u001b[0;32m-> 4546\u001b[0m         new_axis \u001b[38;5;241m=\u001b[39m \u001b[43maxis\u001b[49m\u001b[38;5;241;43m.\u001b[39;49m\u001b[43mdrop\u001b[49m\u001b[43m(\u001b[49m\u001b[43mlabels\u001b[49m\u001b[43m,\u001b[49m\u001b[43m \u001b[49m\u001b[43merrors\u001b[49m\u001b[38;5;241;43m=\u001b[39;49m\u001b[43merrors\u001b[49m\u001b[43m)\u001b[49m\n\u001b[1;32m   4547\u001b[0m     indexer \u001b[38;5;241m=\u001b[39m axis\u001b[38;5;241m.\u001b[39mget_indexer(new_axis)\n\u001b[1;32m   4549\u001b[0m \u001b[38;5;66;03m# Case for non-unique axis\u001b[39;00m\n\u001b[1;32m   4550\u001b[0m \u001b[38;5;28;01melse\u001b[39;00m:\n",
      "File \u001b[0;32m/opt/tljh/user/lib/python3.10/site-packages/pandas/core/indexes/base.py:6934\u001b[0m, in \u001b[0;36mIndex.drop\u001b[0;34m(self, labels, errors)\u001b[0m\n\u001b[1;32m   6932\u001b[0m \u001b[38;5;28;01mif\u001b[39;00m mask\u001b[38;5;241m.\u001b[39many():\n\u001b[1;32m   6933\u001b[0m     \u001b[38;5;28;01mif\u001b[39;00m errors \u001b[38;5;241m!=\u001b[39m \u001b[38;5;124m\"\u001b[39m\u001b[38;5;124mignore\u001b[39m\u001b[38;5;124m\"\u001b[39m:\n\u001b[0;32m-> 6934\u001b[0m         \u001b[38;5;28;01mraise\u001b[39;00m \u001b[38;5;167;01mKeyError\u001b[39;00m(\u001b[38;5;124mf\u001b[39m\u001b[38;5;124m\"\u001b[39m\u001b[38;5;132;01m{\u001b[39;00m\u001b[38;5;28mlist\u001b[39m(labels[mask])\u001b[38;5;132;01m}\u001b[39;00m\u001b[38;5;124m not found in axis\u001b[39m\u001b[38;5;124m\"\u001b[39m)\n\u001b[1;32m   6935\u001b[0m     indexer \u001b[38;5;241m=\u001b[39m indexer[\u001b[38;5;241m~\u001b[39mmask]\n\u001b[1;32m   6936\u001b[0m \u001b[38;5;28;01mreturn\u001b[39;00m \u001b[38;5;28mself\u001b[39m\u001b[38;5;241m.\u001b[39mdelete(indexer)\n",
      "\u001b[0;31mKeyError\u001b[0m: \"['ID', 'FILTER', 'REF', 'ALT', 'QUAL', 'INFO'] not found in axis\""
     ]
    }
   ],
   "source": [
    "df = df.rename({'#CHROM': 'chrom'}, axis = 1)\n",
    "df = df.drop(['ID', 'FILTER', 'REF', 'ALT', 'QUAL', 'INFO'], axis = 1)\n",
    "df = df.drop_duplicates(subset=[\"POS\"])\n",
    "df"
   ]
  },
  {
   "cell_type": "code",
   "execution_count": 5,
   "metadata": {
    "colab": {
     "base_uri": "https://localhost:8080/"
    },
    "id": "4iJ76E38KJ7u",
    "outputId": "6c6f10d1-fa80-4d57-f194-4820de9c9f7a"
   },
   "outputs": [
    {
     "data": {
      "text/plain": [
       "10001        1\n",
       "171139709    1\n",
       "171139665    1\n",
       "171139667    1\n",
       "171139676    1\n",
       "            ..\n",
       "76189878     1\n",
       "76189882     1\n",
       "76189883     1\n",
       "76189890     1\n",
       "248946420    1\n",
       "Name: POS, Length: 53355185, dtype: int64"
      ]
     },
     "execution_count": 5,
     "metadata": {},
     "output_type": "execute_result"
    }
   ],
   "source": [
    "df['POS'].value_counts()"
   ]
  },
  {
   "cell_type": "code",
   "execution_count": 8,
   "metadata": {
    "id": "8iEa6CiHISiw"
   },
   "outputs": [],
   "source": [
    "df.to_csv(f\"Validation/validation_{chromosome}.txt\", sep = '\\t', index = False)"
   ]
  },
  {
   "cell_type": "markdown",
   "metadata": {
    "id": "KDYZFQfSISiw"
   },
   "source": [
    "## Testing for validation file"
   ]
  },
  {
   "cell_type": "code",
   "execution_count": 1,
   "metadata": {},
   "outputs": [],
   "source": [
    "# declare your variables here\n",
    "import subprocess\n",
    "import os \n",
    "import pandas as pd\n",
    "chromosome ='chr1'\n",
    "validation_file = f\"Validation/validation_{chromosome}.txt\"\n",
    "logging_file = f\"Validation/logging_{chromosome}\"\n",
    "from datetime import date"
   ]
  },
  {
   "cell_type": "markdown",
   "metadata": {
    "id": "VvSWok48ISiw"
   },
   "source": [
    "### ENCODE"
   ]
  },
  {
   "cell_type": "markdown",
   "metadata": {
    "jp-MarkdownHeadingCollapsed": true
   },
   "source": [
    "#### Increment"
   ]
  },
  {
   "cell_type": "code",
   "execution_count": 9,
   "metadata": {
    "id": "VnySUc5rISiw"
   },
   "outputs": [],
   "source": [
    "import subprocess\n",
    "chromosome ='chr1'\n",
    "validation_file = f\"Validation/validation_{chromosome}.txt\"\n",
    "validation = pd.read_csv(validation_file, sep = '\\t')\n",
    "validation['POS_INCR'] = validation['POS'] + 1\n",
    "# Transform the 'chrom' column\n",
    "# validation['chrom'] = validation['chrom'].apply(lambda x: f'chr{x}')"
   ]
  },
  {
   "cell_type": "code",
   "execution_count": 3,
   "metadata": {
    "colab": {
     "base_uri": "https://localhost:8080/"
    },
    "id": "NpzkopvsNWSl",
    "outputId": "2c366e5d-1482-4678-ef27-ae57c4fa57ec"
   },
   "outputs": [
    {
     "data": {
      "text/plain": [
       "10010        1\n",
       "88563781     1\n",
       "88563822     1\n",
       "88563818     1\n",
       "88563813     1\n",
       "            ..\n",
       "43734930     1\n",
       "43734927     1\n",
       "43734923     1\n",
       "43734921     1\n",
       "133265295    1\n",
       "Name: POS, Length: 31176663, dtype: int64"
      ]
     },
     "execution_count": 3,
     "metadata": {},
     "output_type": "execute_result"
    }
   ],
   "source": [
    "validation['POS'].value_counts()"
   ]
  },
  {
   "cell_type": "code",
   "execution_count": 10,
   "metadata": {
    "id": "WVExnRJUISix"
   },
   "outputs": [
    {
     "data": {
      "text/plain": [
       "(53355185, 3)"
      ]
     },
     "execution_count": 10,
     "metadata": {},
     "output_type": "execute_result"
    }
   ],
   "source": [
    "validation.shape"
   ]
  },
  {
   "cell_type": "code",
   "execution_count": 11,
   "metadata": {
    "id": "Q9L0foHVKRzB"
   },
   "outputs": [],
   "source": [
    "# validation['POS'].value_counts()\n",
    "# save this validation into another txt file\n",
    "validation.to_csv(f\"Validation/validation_{chromosome}.txt\", sep = '\\t', index = False)"
   ]
  },
  {
   "cell_type": "code",
   "execution_count": 12,
   "metadata": {
    "colab": {
     "base_uri": "https://localhost:8080/"
    },
    "id": "77oe_xcDWEim",
    "outputId": "ef78e85f-92b7-4dc4-b81a-8d4b08979cd5"
   },
   "outputs": [
    {
     "name": "stdout",
     "output_type": "stream",
     "text": [
      "  53355186  160065558 1122135084 Validation/validation_chr1.txt\n"
     ]
    }
   ],
   "source": [
    "!wc \"Validation/validation_chr1.txt\""
   ]
  },
  {
   "cell_type": "code",
   "execution_count": 18,
   "metadata": {},
   "outputs": [
    {
     "data": {
      "text/plain": [
       "['chr12_atac_odd.txt',\n",
       " 'output_even.txt',\n",
       " 'chr12_atac_even.txt',\n",
       " 'ch12_cvdkp_even.txt',\n",
       " 'chr12_enc_tfbs_odd.txt',\n",
       " 'chr1',\n",
       " 'chr12_cvdkp_odd.txt',\n",
       " 'output_odd.txt',\n",
       " 'chr12_enc_tfbs_zebra_vista_even.txt',\n",
       " 'chr12_encode_even.txt',\n",
       " 'chr12_encode_odd.txt',\n",
       " 'chr12_enc_tfbs_even.txt',\n",
       " '.ipynb_checkpoints',\n",
       " 'chr12_enc_tfbs_zebra_vista_odd.txt']"
      ]
     },
     "execution_count": 18,
     "metadata": {},
     "output_type": "execute_result"
    }
   ],
   "source": [
    "os.listdir('/tljh-data/home/jupyter-ngocduy.tran/Validation merging test')"
   ]
  },
  {
   "cell_type": "code",
   "execution_count": 22,
   "metadata": {},
   "outputs": [],
   "source": [
    "os.chdir(\"/tljh-data/home/jupyter-ngocduy.tran/Validation merging test\")\n",
    "for i in range(1, 24):\n",
    "    os.makedirs(f\"chr{i}\", exist_ok = True)\n",
    "    "
   ]
  },
  {
   "cell_type": "code",
   "execution_count": 23,
   "metadata": {},
   "outputs": [],
   "source": [
    "os.chdir(\"/tljh-data/home/jupyter-ngocduy.tran/\")\n"
   ]
  },
  {
   "cell_type": "markdown",
   "metadata": {
    "id": "oBrfDpGJiQmR"
   },
   "source": [
    "#### ENCODE merging"
   ]
  },
  {
   "cell_type": "code",
   "execution_count": null,
   "metadata": {
    "colab": {
     "base_uri": "https://localhost:8080/"
    },
    "id": "clQO7kPzISix",
    "outputId": "23c0582b-d0be-4b80-f165-2c1cfe693eae"
   },
   "outputs": [
    {
     "name": "stdout",
     "output_type": "stream",
     "text": [
      "['heart_left_ventricle_tissue_female_adult_53_years.promoters.bed', 'heart_left_ventricle_tissue_male_adult_34_years.promoters.bed', 'heart_left_ventricle_tissue_male_child_3_years.promoters.bed', 'heart_right_ventricle_tissue_female_adult_46_years.promoters.bed', 'heart_right_ventricle_tissue_male_adult_34_years.promoters.bed', 'heart_right_ventricle_tissue_male_adult_40_years.promoters.bed', 'heart_right_ventricle_tissue_male_child_3_years.promoters.bed']\n",
      "heart_left_ventricle_tissue_female_adult_53_years.promoters\n",
      "  53355185  213420740 1228845435 Validation merging test/chr1/output_even.txt\n",
      "None\n",
      "1\t10001\t10002\t0\n",
      "\n",
      "0\n",
      "Intersection saved as heart_left_ventricle_tissue_female_adult_53_years.promoters\n",
      "One missing file: heart_left_ventricle_tissue_male_adult_34_years.promoters.bed\n",
      "One missing file: heart_left_ventricle_tissue_male_child_3_years.promoters.bed\n",
      "heart_right_ventricle_tissue_female_adult_46_years.promoters\n",
      "  53355185  266775925 1335555805 Validation merging test/chr1/output_odd.txt\n",
      "None\n",
      "1\t10001\t10002\t0\t0\n",
      "\n",
      "1\n",
      "Intersection saved as heart_right_ventricle_tissue_female_adult_46_years.promoters\n",
      "One missing file: heart_right_ventricle_tissue_male_adult_34_years.promoters.bed\n",
      "heart_right_ventricle_tissue_male_adult_40_years.promoters\n",
      "  53355185  320131110 1442266175 Validation merging test/chr1/output_even.txt\n",
      "None\n",
      "1\t10001\t10002\t0\t0\t0\n",
      "\n",
      "2\n",
      "Intersection saved as heart_right_ventricle_tissue_male_adult_40_years.promoters\n",
      "One missing file: heart_right_ventricle_tissue_male_child_3_years.promoters.bed\n",
      "Starting ind is: 3\n",
      "['heart_left_ventricle_tissue_female_adult_46_years.enhancers.bed', 'heart_left_ventricle_tissue_female_adult_51_years.enhancers.bed', 'heart_left_ventricle_tissue_male_adult_34_years.enhancers.bed', 'heart_left_ventricle_tissue_male_adult_40_years.enhancers.bed', 'heart_left_ventricle_tissue_male_child_3_years.enhancers.bed', 'heart_right_ventricle_tissue_female_adult_46_years.enhancers.bed', 'heart_right_ventricle_tissue_male_adult_34_years.enhancers.bed', 'heart_right_ventricle_tissue_male_adult_40_years.enhancers.bed', 'heart_right_ventricle_tissue_male_child_3_years.enhancers.bed']\n",
      "heart_left_ventricle_tissue_female_adult_46_years.enhancers\n",
      "  53355185  373486295 1548976545 Validation merging test/chr1/output_odd.txt\n",
      "None\n",
      "1\t10001\t10002\t0\t0\t0\t0\n",
      "\n",
      "3\n",
      "Intersection saved as heart_left_ventricle_tissue_female_adult_46_years.enhancers\n",
      "One missing file: heart_left_ventricle_tissue_female_adult_51_years.enhancers.bed\n",
      "One missing file: heart_left_ventricle_tissue_male_adult_34_years.enhancers.bed\n",
      "heart_left_ventricle_tissue_male_adult_40_years.enhancers\n",
      "  53355185  426841480 1655686915 Validation merging test/chr1/output_even.txt\n",
      "None\n",
      "1\t10001\t10002\t0\t0\t0\t0\t0\n",
      "\n",
      "4\n",
      "Intersection saved as heart_left_ventricle_tissue_male_adult_40_years.enhancers\n",
      "One missing file: heart_left_ventricle_tissue_male_child_3_years.enhancers.bed\n",
      "heart_right_ventricle_tissue_female_adult_46_years.enhancers\n",
      "  53355185  480196665 1762397285 Validation merging test/chr1/output_odd.txt\n",
      "None\n",
      "1\t10001\t10002\t0\t0\t0\t0\t0\t0\n",
      "\n",
      "5\n",
      "Intersection saved as heart_right_ventricle_tissue_female_adult_46_years.enhancers\n",
      "One missing file: heart_right_ventricle_tissue_male_adult_34_years.enhancers.bed\n",
      "heart_right_ventricle_tissue_male_adult_40_years.enhancers\n",
      "  53355185  533551850 1869107655 Validation merging test/chr1/output_even.txt\n",
      "None\n",
      "1\t10001\t10002\t0\t0\t0\t0\t0\t0\t0\n",
      "\n",
      "6\n",
      "Intersection saved as heart_right_ventricle_tissue_male_adult_40_years.enhancers\n",
      "One missing file: heart_right_ventricle_tissue_male_child_3_years.enhancers.bed\n",
      "Starting ind is: 7\n",
      "['cardiac fibroblast female embryo 94 days and female embryo 98 days.txt', 'heart left ventricle tissue female embryo 101 days and female embryo 103 days.txt', 'heart left ventricle tissue female embryo 136 days.txt', 'heart right ventricle tissue female embryo 101 days and female embryo 103 days.txt', 'heart tissue embryo 101 days.txt', 'heart tissue embryo 59 days and female embryo 76 days.txt', 'heart tissue embryo 80 days.txt', 'heart tissue embryo 96 days.txt', 'heart tissue female embryo 103 days.txt', 'heart tissue female embryo 105 days.txt', 'heart tissue female embryo 110 days.txt', 'heart tissue female embryo 116 days and female embryo 98 days.txt', 'heart tissue female embryo 117 days.txt', 'heart tissue female embryo 147 days.txt', 'heart tissue female embryo 91 days.txt', 'heart tissue male embryo 105 days.txt', 'heart tissue male embryo 110 days.txt', 'heart tissue male embryo 120 days.txt', 'heart tissue male embryo 72 days and male embryo 76 days.txt', 'heart tissue male embryo 91 days.txt', 'heart tissue male embryo 96 days.txt', 'left cardiac atrium tissue female embryo 101 days.txt']\n",
      "cardiac fibroblast female embryo 94 days and female embryo 98 days\n",
      "  53355185  586907035 1975818025 Validation merging test/chr1/output_odd.txt\n",
      "None\n",
      "1\t10001\t10002\t0\t0\t0\t0\t0\t0\t0\t0\n",
      "\n",
      "7\n",
      "Intersection saved as cardiac fibroblast female embryo 94 days and female embryo 98 days\n",
      "heart left ventricle tissue female embryo 101 days and female embryo 103 days\n",
      "  53355185  640262220 2082528395 Validation merging test/chr1/output_even.txt\n",
      "None\n",
      "1\t10001\t10002\t0\t0\t0\t0\t0\t0\t0\t0\t0\n",
      "\n",
      "8\n",
      "Intersection saved as heart left ventricle tissue female embryo 101 days and female embryo 103 days\n",
      "heart left ventricle tissue female embryo 136 days\n",
      "  53355185  693617405 2189238765 Validation merging test/chr1/output_odd.txt\n",
      "None\n",
      "1\t10001\t10002\t0\t0\t0\t0\t0\t0\t0\t0\t0\t0\n",
      "\n",
      "9\n",
      "Intersection saved as heart left ventricle tissue female embryo 136 days\n",
      "heart right ventricle tissue female embryo 101 days and female embryo 103 days\n",
      "  53355185  746972590 2295949135 Validation merging test/chr1/output_even.txt\n",
      "None\n",
      "1\t10001\t10002\t0\t0\t0\t0\t0\t0\t0\t0\t0\t0\t0\n",
      "\n",
      "10\n",
      "Intersection saved as heart right ventricle tissue female embryo 101 days and female embryo 103 days\n",
      "heart tissue embryo 101 days\n"
     ]
    }
   ],
   "source": [
    "today = date.today()\n",
    "import re\n",
    "\n",
    "# create promoters txt files with: the first initial rows as the original dataframe\n",
    "# while the most right column is the column produced by the bed file\n",
    "def read_cres_files(mastersheet,file_lst, folder, subject, start_ind):\n",
    "  output_odd = f\"Validation merging test/{chromosome}/output_odd.txt\"\n",
    "  output_even = f\"Validation merging test/{chromosome}/output_even.txt\"\n",
    "  track_ind = start_ind\n",
    "  for bed_file in file_lst:\n",
    "    try:\n",
    "\n",
    "      df = pd.read_csv(os.path.join(folder, bed_file), sep = '\\t', header = None)\n",
    "    except pd.errors.EmptyDataError:\n",
    "      # handle empty file\n",
    "      print(f\"One missing file: {bed_file}\")\n",
    "      with open(logging_file, 'w') as fpo:\n",
    "          fpo.write(f\"One missing file: {bed_file}\\n\")\n",
    "      pass\n",
    "    else:\n",
    "      name = bed_file[: -4]\n",
    "      print(name)\n",
    "      # print(bed_file)\n",
    "      # Run the Bedtools intersect command\n",
    "      if track_ind == 0:\n",
    "        output_file = output_even\n",
    "        command = ['bedtools', 'intersect', '-C', '-a', mastersheet, '-b', os.path.join(folder, bed_file)]\n",
    "      elif(track_ind %2 ==0):\n",
    "        output_file = output_even\n",
    "        command = ['bedtools', 'intersect', '-C', '-a', output_odd, '-b', os.path.join(folder, bed_file)]\n",
    "\n",
    "      else:\n",
    "        output_file=  output_odd\n",
    "        command = ['bedtools', 'intersect', '-C', '-a', output_even, '-b', os.path.join(folder, bed_file)]\n",
    "      result = subprocess.run(command, capture_output=True, text=True)\n",
    "      # Save the intersected result to the output file\n",
    "      with open(output_file, 'w') as f:\n",
    "          f.write(result.stdout)\n",
    "      word_count = subprocess.run([\"wc\", output_file])\n",
    "      print(word_count.stdout)\n",
    "      overview = subprocess.run([\"sed\", \"-n\", \"1p\", output_file], capture_output = True, text = True)\n",
    "      print(overview.stdout)\n",
    "\n",
    "      # Display the output file name\n",
    "      print(track_ind)\n",
    "      print(f\"Intersection saved as {name}\")\n",
    "      with open(logging_file, 'w') as fpo:\n",
    "          fpo.write(name)\n",
    "          # fpo.write(word_count.stdout)\n",
    "          fpo.write(overview.stdout)\n",
    "          fpo.write(str(track_ind))\n",
    "      track_ind += 1\n",
    "\n",
    "  return track_ind\n",
    "\n",
    "\n",
    "def read_bed_files(mastersheet,subject, start_ind):\n",
    "  folder = f\"BED files/{subject}\"\n",
    "  embryo_folder = f\"BED files/{subject}/Clean Embryo files\"\n",
    "  files = os.listdir(folder)\n",
    "\n",
    "  promoters = sorted([ele for ele in files if 'promoter' in ele])\n",
    "  enhancers = sorted([ele for ele in files if 'enhancer' in ele])\n",
    "  # for mice, embryo is a redundant column as it is already either the\n",
    "  # promtoer or enhancer\n",
    "  if subject == 'Human':\n",
    "    embryo = sorted([ele for ele in os.listdir(embryo_folder) if 'embryo' in ele])\n",
    "  ctcf = sorted([ele for ele in files if 'CTCF' in ele])\n",
    "\n",
    "  # quality check for Human: enough files generated\n",
    "  # investigate_levels only applies to human dna only\n",
    "  # investigate_levels(promoters, folder)\n",
    "  print(promoters)\n",
    "  ind = read_cres_files(mastersheet,promoters, folder, subject, start_ind = start_ind)\n",
    "  print(f\"Starting ind is: {ind}\")\n",
    "  # investigate_levels(enhancers, folder)\n",
    "  print(enhancers)\n",
    "  ind = read_cres_files(mastersheet,enhancers, folder, subject, start_ind = ind)\n",
    "  print(f\"Starting ind is: {ind}\")\n",
    "\n",
    "  # investigate_levels(embryo, embryo_folder)\n",
    "  if subject == 'Human':\n",
    "    print(embryo)\n",
    "    ind = read_cres_files(mastersheet,embryo, embryo_folder, subject, start_ind = ind)\n",
    "    print(f\"Starting ind is: {ind}\")\n",
    "  print(ctcf)\n",
    "  # investigate_levels(ctcf, folder)\n",
    "  ind = read_cres_files(mastersheet,ctcf, folder, subject, start_ind = ind)\n",
    "  print(f\"Starting ind is: {ind}\")\n",
    "\n",
    "  print(len(promoters), len(enhancers), len(ctcf))\n",
    "  return ind\n",
    "\n",
    "bed_starting_ind = read_bed_files(validation_file, subject = \"Human\", start_ind = 0)\n",
    "print(f\"bed_starting_ind: {bed_starting_ind}\")\n",
    "bed_starting_ind = read_bed_files(validation_file, subject = 'Mouse', start_ind = bed_starting_ind)\n"
   ]
  },
  {
   "cell_type": "code",
   "execution_count": 3,
   "metadata": {},
   "outputs": [
    {
     "name": "stdout",
     "output_type": "stream",
     "text": [
      "42\n"
     ]
    }
   ],
   "source": [
    "bed_starting_ind = 42\n",
    "print(bed_starting_ind)\n",
    "# order: Human - Mouse - TFBS - zebrafish - vista - cvdkp - hic - pchic -atac - genomic (fetal) - ncer - dickel"
   ]
  },
  {
   "cell_type": "markdown",
   "metadata": {
    "id": "U4UZZnisISi3"
   },
   "source": [
    "### TFBS"
   ]
  },
  {
   "cell_type": "code",
   "execution_count": 4,
   "metadata": {
    "colab": {
     "base_uri": "https://localhost:8080/"
    },
    "id": "CtELELtDISi4",
    "outputId": "3ce8d4f2-9a3b-45cf-a35a-179acf434757"
   },
   "outputs": [
    {
     "name": "stdout",
     "output_type": "stream",
     "text": [
      "76 ['ASCL1_pwmscan_hg38_29347_22951.bed', 'CREB1_pwmscan_hg38_7806_15552.bed', 'EOMES_pwmscan_hg38_45327_5339.bed', 'FOXC1_pwmscan_hg38_14051_14776.bed', 'FOXC2_pwmscan_hg38_30036_45203.bed', 'FOXF1_pwmscan_hg38_28598_34204.bed', 'FOXH1_pwmscan_hg38_43315_3114.bed', 'FOXL1_pwmscan_hg38_43316_13581.bed', 'GATA3_pwmscan_hg38_11738_12391.bed', 'GATA4_pwmscan_hg38_28596_35342.bed', 'GATA5_pwmscan_hg38_9066_18689.bed', 'GATA6_pwmscan_hg38_20055_21663.bed', 'GLI1_pwmscan_hg38_33818_38538.bed', 'GLI2_pwmscan_hg38_7492_29088.bed', 'GLI3_pwmscan_hg38_35563_38491.bed', 'GRHL2_pwmscan_hg38_29347_19788.bed', 'HAND1_pwmscan_hg38_38445_41025.bed', 'HES1_pwmscan_hg38_35815_41265.bed', 'HEY1_pwmscan_hg38_28887_46496.bed', 'HEY2_pwmscan_hg38_43317_44258.bed', 'HIF1A_pwmscan_hg38_15529_13200.bed', 'ISL1_pwmscan_hg38_35815_41742.bed', 'JUN_pwmscan_hg38_38048_1878.bed', 'LBX1_pwmscan_hg38_27664_45938.bed', 'MEF2A_pwmscan_hg38_7806_11341.bed', 'MEF2C_pwmscan_hg38_43317_529.bed', 'MEF2D_pwmscan_hg38_11121_17332.bed', 'MEIS1_pwmscan_hg38_27664_48032.bed', 'MESP1_pwmscan_hg38_38445_42157.bed', 'MIXL1_pwmscan_hg38_27664_42167.bed', 'MSX1_pwmscan_hg38_37655_41051.bed', 'NFAC4_pwmscan_hg38_33560_42902.bed', 'NFATC1_pwmscan_hg38_31217_44715.bed', 'NKX25_pwmscan_hg38_39533_43866.bed', 'NKX3_1_pwmscan_hg38_43163_4491.bed', 'NOTO_pwmscan_hg38_28887_33633.bed', 'OVOL2_pwmscan_hg38_39701_44177.bed', 'PAX8_pwmscan_hg38_44374_46322.bed', 'PITX2_pwmscan_hg38_41734_46461.bed', 'POU4F1_pwmscan_hg38_11435_12160.bed', 'POU4F1_pwmscan_hg38_47659_38526.bed', 'PPARD_pwmscan_hg38_35563_48082.bed', 'PPARG_pwmscan_hg38_27664_10529.bed', 'PRD14_pwmscan_hg38_48118_48439.bed', 'PRDM1_pwmscan_hg38_38048_46851.bed', 'PROX1_pwmscan_hg38_33324_13670.bed', 'RARA_pwmscan_hg38_47659_33241.bed', 'RARB_pwmscan_hg38_48313_3308.bed', 'RBPJ_pwmscan_hg38_10402_12301.bed', 'REST_pwmscan_hg38_11121_3574.bed', 'SHOX2_pwmscan_hg38_44375_4511.bed', 'SIX1_pwmscan_hg38_42746_19293.bed', 'SMAD1_pwmscan_hg38_44445_5787.bed', 'SMAD3_pwmscan_hg38_47659_6575.bed', 'SMAD4_pwmscan_hg38_44288_6824.bed', 'SNAI1_pwmscan_hg38_46684_9294.bed', 'SNAI2_pwmscan_hg38_27665_28556.bed', 'SOX11_pwmscan_hg38_43996_10436.bed', 'SOX17_pwmscan_hg38_9606_11798.bed', 'SOX18_pwmscan_hg38_9606_12295.bed', 'SOX4_pwmscan_hg38_20348_27236.bed', 'SOX9_pwmscan_hg38_11121_9563.bed', 'SRF_pwmscan_hg38_27664_8726.bed', 'TBX1_pwmscan_hg38_38292_542.bed', 'TBX20_pwmscan_hg38_30239_36307.bed', 'TBX2_pwmscan_hg38_30239_37929.bed', 'TBX3_pwmscan_hg38_48118_14186.bed', 'TBX5_pwmscan_hg38_47636_48695.bed', 'TEAD2_pwmscan_hg38_6370_18229.bed', 'TP53_pwmscan_hg38_20055_27716.bed', 'TP53_pwmscan_hg38_4482_5454.bed', 'TWIST1_pwmscan_hg38_38398_47795.bed', 'WT1_pwmscan_hg38_43996_14775.bed', 'YY1_pwmscan_hg38_43315_7423.bed', 'ZBT14_pwmscan_hg38_43996_16382.bed', 'ZIC3_pwmscan_hg38_33324_35656.bed']\n",
      "ASCL1_pwmscan_hg38_29347_22951\n",
      "  53355185 2454338510 5710680975 Validation merging test/chr1/output_even.txt\n",
      "1\t10001\t10002\t0\t0\t0\t0\t0\t0\t0\t0\t0\t0\t0\t0\t0\t0\t0\t0\t0\t0\t0\t0\t0\t0\t0\t0\t0\t0\t0\t0\t0\t0\t0\t0\t0\t0\t0\t0\t0\t0\t0\t0\t0\t0\t0\n",
      "\n",
      "Intersection saved as ASCL1_pwmscan_hg38_29347_22951\n",
      "CREB1_pwmscan_hg38_7806_15552\n",
      "  53355185 2507693695 5817391345 Validation merging test/chr1/output_odd.txt\n",
      "1\t10001\t10002\t0\t0\t0\t0\t0\t0\t0\t0\t0\t0\t0\t0\t0\t0\t0\t0\t0\t0\t0\t0\t0\t0\t0\t0\t0\t0\t0\t0\t0\t0\t0\t0\t0\t0\t0\t0\t0\t0\t0\t0\t0\t0\t0\t0\n",
      "\n",
      "Intersection saved as CREB1_pwmscan_hg38_7806_15552\n",
      "EOMES_pwmscan_hg38_45327_5339\n",
      "  53355185 2561048880 5924101715 Validation merging test/chr1/output_even.txt\n",
      "1\t10001\t10002\t0\t0\t0\t0\t0\t0\t0\t0\t0\t0\t0\t0\t0\t0\t0\t0\t0\t0\t0\t0\t0\t0\t0\t0\t0\t0\t0\t0\t0\t0\t0\t0\t0\t0\t0\t0\t0\t0\t0\t0\t0\t0\t0\t0\t0\n",
      "\n",
      "Intersection saved as EOMES_pwmscan_hg38_45327_5339\n",
      "FOXC1_pwmscan_hg38_14051_14776\n",
      "  53355185 2614404065 6030812085 Validation merging test/chr1/output_odd.txt\n",
      "1\t10001\t10002\t0\t0\t0\t0\t0\t0\t0\t0\t0\t0\t0\t0\t0\t0\t0\t0\t0\t0\t0\t0\t0\t0\t0\t0\t0\t0\t0\t0\t0\t0\t0\t0\t0\t0\t0\t0\t0\t0\t0\t0\t0\t0\t0\t0\t0\t0\n",
      "\n",
      "Intersection saved as FOXC1_pwmscan_hg38_14051_14776\n",
      "FOXC2_pwmscan_hg38_30036_45203\n",
      "  53355185 2667759250 6137522455 Validation merging test/chr1/output_even.txt\n",
      "1\t10001\t10002\t0\t0\t0\t0\t0\t0\t0\t0\t0\t0\t0\t0\t0\t0\t0\t0\t0\t0\t0\t0\t0\t0\t0\t0\t0\t0\t0\t0\t0\t0\t0\t0\t0\t0\t0\t0\t0\t0\t0\t0\t0\t0\t0\t0\t0\t0\t0\n",
      "\n",
      "Intersection saved as FOXC2_pwmscan_hg38_30036_45203\n",
      "FOXF1_pwmscan_hg38_28598_34204\n",
      "  53355185 2721114435 6244232825 Validation merging test/chr1/output_odd.txt\n",
      "1\t10001\t10002\t0\t0\t0\t0\t0\t0\t0\t0\t0\t0\t0\t0\t0\t0\t0\t0\t0\t0\t0\t0\t0\t0\t0\t0\t0\t0\t0\t0\t0\t0\t0\t0\t0\t0\t0\t0\t0\t0\t0\t0\t0\t0\t0\t0\t0\t0\t0\t0\n",
      "\n",
      "Intersection saved as FOXF1_pwmscan_hg38_28598_34204\n",
      "FOXH1_pwmscan_hg38_43315_3114\n",
      "  53355185 2774469620 6350943195 Validation merging test/chr1/output_even.txt\n",
      "1\t10001\t10002\t0\t0\t0\t0\t0\t0\t0\t0\t0\t0\t0\t0\t0\t0\t0\t0\t0\t0\t0\t0\t0\t0\t0\t0\t0\t0\t0\t0\t0\t0\t0\t0\t0\t0\t0\t0\t0\t0\t0\t0\t0\t0\t0\t0\t0\t0\t0\t0\t0\n",
      "\n",
      "Intersection saved as FOXH1_pwmscan_hg38_43315_3114\n",
      "FOXL1_pwmscan_hg38_43316_13581\n",
      "  53355185 2827824805 6457653565 Validation merging test/chr1/output_odd.txt\n",
      "1\t10001\t10002\t0\t0\t0\t0\t0\t0\t0\t0\t0\t0\t0\t0\t0\t0\t0\t0\t0\t0\t0\t0\t0\t0\t0\t0\t0\t0\t0\t0\t0\t0\t0\t0\t0\t0\t0\t0\t0\t0\t0\t0\t0\t0\t0\t0\t0\t0\t0\t0\t0\t0\n",
      "\n",
      "Intersection saved as FOXL1_pwmscan_hg38_43316_13581\n",
      "GATA3_pwmscan_hg38_11738_12391\n",
      "  53355185 2881179990 6564363935 Validation merging test/chr1/output_even.txt\n",
      "1\t10001\t10002\t0\t0\t0\t0\t0\t0\t0\t0\t0\t0\t0\t0\t0\t0\t0\t0\t0\t0\t0\t0\t0\t0\t0\t0\t0\t0\t0\t0\t0\t0\t0\t0\t0\t0\t0\t0\t0\t0\t0\t0\t0\t0\t0\t0\t0\t0\t0\t0\t0\t0\t0\n",
      "\n",
      "Intersection saved as GATA3_pwmscan_hg38_11738_12391\n",
      "GATA4_pwmscan_hg38_28596_35342\n",
      "  53355185 2934535175 6671074305 Validation merging test/chr1/output_odd.txt\n",
      "1\t10001\t10002\t0\t0\t0\t0\t0\t0\t0\t0\t0\t0\t0\t0\t0\t0\t0\t0\t0\t0\t0\t0\t0\t0\t0\t0\t0\t0\t0\t0\t0\t0\t0\t0\t0\t0\t0\t0\t0\t0\t0\t0\t0\t0\t0\t0\t0\t0\t0\t0\t0\t0\t0\t0\n",
      "\n",
      "Intersection saved as GATA4_pwmscan_hg38_28596_35342\n",
      "GATA5_pwmscan_hg38_9066_18689\n",
      "  53355185 2987890360 6777784675 Validation merging test/chr1/output_even.txt\n",
      "1\t10001\t10002\t0\t0\t0\t0\t0\t0\t0\t0\t0\t0\t0\t0\t0\t0\t0\t0\t0\t0\t0\t0\t0\t0\t0\t0\t0\t0\t0\t0\t0\t0\t0\t0\t0\t0\t0\t0\t0\t0\t0\t0\t0\t0\t0\t0\t0\t0\t0\t0\t0\t0\t0\t0\t0\n",
      "\n",
      "Intersection saved as GATA5_pwmscan_hg38_9066_18689\n",
      "GATA6_pwmscan_hg38_20055_21663\n",
      "  53355185 3041245545 6884495045 Validation merging test/chr1/output_odd.txt\n",
      "1\t10001\t10002\t0\t0\t0\t0\t0\t0\t0\t0\t0\t0\t0\t0\t0\t0\t0\t0\t0\t0\t0\t0\t0\t0\t0\t0\t0\t0\t0\t0\t0\t0\t0\t0\t0\t0\t0\t0\t0\t0\t0\t0\t0\t0\t0\t0\t0\t0\t0\t0\t0\t0\t0\t0\t0\t0\n",
      "\n",
      "Intersection saved as GATA6_pwmscan_hg38_20055_21663\n",
      "GLI1_pwmscan_hg38_33818_38538\n",
      "  53355185 3094600730 6991205415 Validation merging test/chr1/output_even.txt\n",
      "1\t10001\t10002\t0\t0\t0\t0\t0\t0\t0\t0\t0\t0\t0\t0\t0\t0\t0\t0\t0\t0\t0\t0\t0\t0\t0\t0\t0\t0\t0\t0\t0\t0\t0\t0\t0\t0\t0\t0\t0\t0\t0\t0\t0\t0\t0\t0\t0\t0\t0\t0\t0\t0\t0\t0\t0\t0\t0\n",
      "\n",
      "Intersection saved as GLI1_pwmscan_hg38_33818_38538\n",
      "GLI2_pwmscan_hg38_7492_29088\n",
      "  53355185 3147955915 7097915785 Validation merging test/chr1/output_odd.txt\n",
      "1\t10001\t10002\t0\t0\t0\t0\t0\t0\t0\t0\t0\t0\t0\t0\t0\t0\t0\t0\t0\t0\t0\t0\t0\t0\t0\t0\t0\t0\t0\t0\t0\t0\t0\t0\t0\t0\t0\t0\t0\t0\t0\t0\t0\t0\t0\t0\t0\t0\t0\t0\t0\t0\t0\t0\t0\t0\t0\t0\n",
      "\n",
      "Intersection saved as GLI2_pwmscan_hg38_7492_29088\n",
      "GLI3_pwmscan_hg38_35563_38491\n",
      "  53355185 3201311100 7204626155 Validation merging test/chr1/output_even.txt\n",
      "1\t10001\t10002\t0\t0\t0\t0\t0\t0\t0\t0\t0\t0\t0\t0\t0\t0\t0\t0\t0\t0\t0\t0\t0\t0\t0\t0\t0\t0\t0\t0\t0\t0\t0\t0\t0\t0\t0\t0\t0\t0\t0\t0\t0\t0\t0\t0\t0\t0\t0\t0\t0\t0\t0\t0\t0\t0\t0\t0\t0\n",
      "\n",
      "Intersection saved as GLI3_pwmscan_hg38_35563_38491\n",
      "GRHL2_pwmscan_hg38_29347_19788\n",
      "  53355185 3254666285 7311336525 Validation merging test/chr1/output_odd.txt\n",
      "1\t10001\t10002\t0\t0\t0\t0\t0\t0\t0\t0\t0\t0\t0\t0\t0\t0\t0\t0\t0\t0\t0\t0\t0\t0\t0\t0\t0\t0\t0\t0\t0\t0\t0\t0\t0\t0\t0\t0\t0\t0\t0\t0\t0\t0\t0\t0\t0\t0\t0\t0\t0\t0\t0\t0\t0\t0\t0\t0\t0\t0\n",
      "\n",
      "Intersection saved as GRHL2_pwmscan_hg38_29347_19788\n",
      "HAND1_pwmscan_hg38_38445_41025\n",
      "  53355185 3308021470 7418046895 Validation merging test/chr1/output_even.txt\n",
      "1\t10001\t10002\t0\t0\t0\t0\t0\t0\t0\t0\t0\t0\t0\t0\t0\t0\t0\t0\t0\t0\t0\t0\t0\t0\t0\t0\t0\t0\t0\t0\t0\t0\t0\t0\t0\t0\t0\t0\t0\t0\t0\t0\t0\t0\t0\t0\t0\t0\t0\t0\t0\t0\t0\t0\t0\t0\t0\t0\t0\t0\t0\n",
      "\n",
      "Intersection saved as HAND1_pwmscan_hg38_38445_41025\n",
      "HES1_pwmscan_hg38_35815_41265\n",
      "  53355185 3361376655 7524757265 Validation merging test/chr1/output_odd.txt\n",
      "1\t10001\t10002\t0\t0\t0\t0\t0\t0\t0\t0\t0\t0\t0\t0\t0\t0\t0\t0\t0\t0\t0\t0\t0\t0\t0\t0\t0\t0\t0\t0\t0\t0\t0\t0\t0\t0\t0\t0\t0\t0\t0\t0\t0\t0\t0\t0\t0\t0\t0\t0\t0\t0\t0\t0\t0\t0\t0\t0\t0\t0\t0\t0\n",
      "\n",
      "Intersection saved as HES1_pwmscan_hg38_35815_41265\n",
      "HEY1_pwmscan_hg38_28887_46496\n",
      "  53355185 3414731840 7631467635 Validation merging test/chr1/output_even.txt\n",
      "1\t10001\t10002\t0\t0\t0\t0\t0\t0\t0\t0\t0\t0\t0\t0\t0\t0\t0\t0\t0\t0\t0\t0\t0\t0\t0\t0\t0\t0\t0\t0\t0\t0\t0\t0\t0\t0\t0\t0\t0\t0\t0\t0\t0\t0\t0\t0\t0\t0\t0\t0\t0\t0\t0\t0\t0\t0\t0\t0\t0\t0\t0\t0\t0\n",
      "\n",
      "Intersection saved as HEY1_pwmscan_hg38_28887_46496\n",
      "HEY2_pwmscan_hg38_43317_44258\n",
      "  53355185 3468087025 7738178005 Validation merging test/chr1/output_odd.txt\n",
      "1\t10001\t10002\t0\t0\t0\t0\t0\t0\t0\t0\t0\t0\t0\t0\t0\t0\t0\t0\t0\t0\t0\t0\t0\t0\t0\t0\t0\t0\t0\t0\t0\t0\t0\t0\t0\t0\t0\t0\t0\t0\t0\t0\t0\t0\t0\t0\t0\t0\t0\t0\t0\t0\t0\t0\t0\t0\t0\t0\t0\t0\t0\t0\t0\t0\n",
      "\n",
      "Intersection saved as HEY2_pwmscan_hg38_43317_44258\n",
      "HIF1A_pwmscan_hg38_15529_13200\n",
      "  53355185 3521442210 7844888375 Validation merging test/chr1/output_even.txt\n",
      "1\t10001\t10002\t0\t0\t0\t0\t0\t0\t0\t0\t0\t0\t0\t0\t0\t0\t0\t0\t0\t0\t0\t0\t0\t0\t0\t0\t0\t0\t0\t0\t0\t0\t0\t0\t0\t0\t0\t0\t0\t0\t0\t0\t0\t0\t0\t0\t0\t0\t0\t0\t0\t0\t0\t0\t0\t0\t0\t0\t0\t0\t0\t0\t0\t0\t0\n",
      "\n",
      "Intersection saved as HIF1A_pwmscan_hg38_15529_13200\n",
      "ISL1_pwmscan_hg38_35815_41742\n",
      "  53355185 3574797395 7951598745 Validation merging test/chr1/output_odd.txt\n",
      "1\t10001\t10002\t0\t0\t0\t0\t0\t0\t0\t0\t0\t0\t0\t0\t0\t0\t0\t0\t0\t0\t0\t0\t0\t0\t0\t0\t0\t0\t0\t0\t0\t0\t0\t0\t0\t0\t0\t0\t0\t0\t0\t0\t0\t0\t0\t0\t0\t0\t0\t0\t0\t0\t0\t0\t0\t0\t0\t0\t0\t0\t0\t0\t0\t0\t0\t0\n",
      "\n",
      "Intersection saved as ISL1_pwmscan_hg38_35815_41742\n",
      "JUN_pwmscan_hg38_38048_1878\n",
      "  53355185 3628152580 8058309115 Validation merging test/chr1/output_even.txt\n",
      "1\t10001\t10002\t0\t0\t0\t0\t0\t0\t0\t0\t0\t0\t0\t0\t0\t0\t0\t0\t0\t0\t0\t0\t0\t0\t0\t0\t0\t0\t0\t0\t0\t0\t0\t0\t0\t0\t0\t0\t0\t0\t0\t0\t0\t0\t0\t0\t0\t0\t0\t0\t0\t0\t0\t0\t0\t0\t0\t0\t0\t0\t0\t0\t0\t0\t0\t0\t0\n",
      "\n",
      "Intersection saved as JUN_pwmscan_hg38_38048_1878\n",
      "LBX1_pwmscan_hg38_27664_45938\n",
      "  53355185 3681507765 8165019485 Validation merging test/chr1/output_odd.txt\n",
      "1\t10001\t10002\t0\t0\t0\t0\t0\t0\t0\t0\t0\t0\t0\t0\t0\t0\t0\t0\t0\t0\t0\t0\t0\t0\t0\t0\t0\t0\t0\t0\t0\t0\t0\t0\t0\t0\t0\t0\t0\t0\t0\t0\t0\t0\t0\t0\t0\t0\t0\t0\t0\t0\t0\t0\t0\t0\t0\t0\t0\t0\t0\t0\t0\t0\t0\t0\t0\t0\n",
      "\n",
      "Intersection saved as LBX1_pwmscan_hg38_27664_45938\n",
      "MEF2A_pwmscan_hg38_7806_11341\n",
      "  53355185 3734862950 8271729855 Validation merging test/chr1/output_even.txt\n",
      "1\t10001\t10002\t0\t0\t0\t0\t0\t0\t0\t0\t0\t0\t0\t0\t0\t0\t0\t0\t0\t0\t0\t0\t0\t0\t0\t0\t0\t0\t0\t0\t0\t0\t0\t0\t0\t0\t0\t0\t0\t0\t0\t0\t0\t0\t0\t0\t0\t0\t0\t0\t0\t0\t0\t0\t0\t0\t0\t0\t0\t0\t0\t0\t0\t0\t0\t0\t0\t0\t0\n",
      "\n",
      "Intersection saved as MEF2A_pwmscan_hg38_7806_11341\n",
      "MEF2C_pwmscan_hg38_43317_529\n",
      "  53355185 3788218135 8378440225 Validation merging test/chr1/output_odd.txt\n",
      "1\t10001\t10002\t0\t0\t0\t0\t0\t0\t0\t0\t0\t0\t0\t0\t0\t0\t0\t0\t0\t0\t0\t0\t0\t0\t0\t0\t0\t0\t0\t0\t0\t0\t0\t0\t0\t0\t0\t0\t0\t0\t0\t0\t0\t0\t0\t0\t0\t0\t0\t0\t0\t0\t0\t0\t0\t0\t0\t0\t0\t0\t0\t0\t0\t0\t0\t0\t0\t0\t0\t0\n",
      "\n",
      "Intersection saved as MEF2C_pwmscan_hg38_43317_529\n",
      "MEF2D_pwmscan_hg38_11121_17332\n",
      "  53355185 3841573320 8485150595 Validation merging test/chr1/output_even.txt\n",
      "1\t10001\t10002\t0\t0\t0\t0\t0\t0\t0\t0\t0\t0\t0\t0\t0\t0\t0\t0\t0\t0\t0\t0\t0\t0\t0\t0\t0\t0\t0\t0\t0\t0\t0\t0\t0\t0\t0\t0\t0\t0\t0\t0\t0\t0\t0\t0\t0\t0\t0\t0\t0\t0\t0\t0\t0\t0\t0\t0\t0\t0\t0\t0\t0\t0\t0\t0\t0\t0\t0\t0\t0\n",
      "\n",
      "Intersection saved as MEF2D_pwmscan_hg38_11121_17332\n",
      "MEIS1_pwmscan_hg38_27664_48032\n",
      "  53355185 3894928505 8591860965 Validation merging test/chr1/output_odd.txt\n",
      "1\t10001\t10002\t0\t0\t0\t0\t0\t0\t0\t0\t0\t0\t0\t0\t0\t0\t0\t0\t0\t0\t0\t0\t0\t0\t0\t0\t0\t0\t0\t0\t0\t0\t0\t0\t0\t0\t0\t0\t0\t0\t0\t0\t0\t0\t0\t0\t0\t0\t0\t0\t0\t0\t0\t0\t0\t0\t0\t0\t0\t0\t0\t0\t0\t0\t0\t0\t0\t0\t0\t0\t0\t0\n",
      "\n",
      "Intersection saved as MEIS1_pwmscan_hg38_27664_48032\n",
      "MESP1_pwmscan_hg38_38445_42157\n",
      "  53355185 3948283690 8698571335 Validation merging test/chr1/output_even.txt\n",
      "1\t10001\t10002\t0\t0\t0\t0\t0\t0\t0\t0\t0\t0\t0\t0\t0\t0\t0\t0\t0\t0\t0\t0\t0\t0\t0\t0\t0\t0\t0\t0\t0\t0\t0\t0\t0\t0\t0\t0\t0\t0\t0\t0\t0\t0\t0\t0\t0\t0\t0\t0\t0\t0\t0\t0\t0\t0\t0\t0\t0\t0\t0\t0\t0\t0\t0\t0\t0\t0\t0\t0\t0\t0\t0\n",
      "\n",
      "Intersection saved as MESP1_pwmscan_hg38_38445_42157\n",
      "MIXL1_pwmscan_hg38_27664_42167\n",
      "  53355185 4001638875 8805281705 Validation merging test/chr1/output_odd.txt\n",
      "1\t10001\t10002\t0\t0\t0\t0\t0\t0\t0\t0\t0\t0\t0\t0\t0\t0\t0\t0\t0\t0\t0\t0\t0\t0\t0\t0\t0\t0\t0\t0\t0\t0\t0\t0\t0\t0\t0\t0\t0\t0\t0\t0\t0\t0\t0\t0\t0\t0\t0\t0\t0\t0\t0\t0\t0\t0\t0\t0\t0\t0\t0\t0\t0\t0\t0\t0\t0\t0\t0\t0\t0\t0\t0\t0\n",
      "\n",
      "Intersection saved as MIXL1_pwmscan_hg38_27664_42167\n",
      "MSX1_pwmscan_hg38_37655_41051\n",
      "  53355185 4054994060 8911992075 Validation merging test/chr1/output_even.txt\n",
      "1\t10001\t10002\t0\t0\t0\t0\t0\t0\t0\t0\t0\t0\t0\t0\t0\t0\t0\t0\t0\t0\t0\t0\t0\t0\t0\t0\t0\t0\t0\t0\t0\t0\t0\t0\t0\t0\t0\t0\t0\t0\t0\t0\t0\t0\t0\t0\t0\t0\t0\t0\t0\t0\t0\t0\t0\t0\t0\t0\t0\t0\t0\t0\t0\t0\t0\t0\t0\t0\t0\t0\t0\t0\t0\t0\t0\n",
      "\n",
      "Intersection saved as MSX1_pwmscan_hg38_37655_41051\n",
      "NFAC4_pwmscan_hg38_33560_42902\n",
      "  53355185 4108349245 9018702445 Validation merging test/chr1/output_odd.txt\n",
      "1\t10001\t10002\t0\t0\t0\t0\t0\t0\t0\t0\t0\t0\t0\t0\t0\t0\t0\t0\t0\t0\t0\t0\t0\t0\t0\t0\t0\t0\t0\t0\t0\t0\t0\t0\t0\t0\t0\t0\t0\t0\t0\t0\t0\t0\t0\t0\t0\t0\t0\t0\t0\t0\t0\t0\t0\t0\t0\t0\t0\t0\t0\t0\t0\t0\t0\t0\t0\t0\t0\t0\t0\t0\t0\t0\t0\t0\n",
      "\n",
      "Intersection saved as NFAC4_pwmscan_hg38_33560_42902\n",
      "NFATC1_pwmscan_hg38_31217_44715\n",
      "  53355185 4161704430 9125412815 Validation merging test/chr1/output_even.txt\n",
      "1\t10001\t10002\t0\t0\t0\t0\t0\t0\t0\t0\t0\t0\t0\t0\t0\t0\t0\t0\t0\t0\t0\t0\t0\t0\t0\t0\t0\t0\t0\t0\t0\t0\t0\t0\t0\t0\t0\t0\t0\t0\t0\t0\t0\t0\t0\t0\t0\t0\t0\t0\t0\t0\t0\t0\t0\t0\t0\t0\t0\t0\t0\t0\t0\t0\t0\t0\t0\t0\t0\t0\t0\t0\t0\t0\t0\t0\t0\n",
      "\n",
      "Intersection saved as NFATC1_pwmscan_hg38_31217_44715\n",
      "NKX25_pwmscan_hg38_39533_43866\n",
      "  53355185 4215059615 9232123185 Validation merging test/chr1/output_odd.txt\n",
      "1\t10001\t10002\t0\t0\t0\t0\t0\t0\t0\t0\t0\t0\t0\t0\t0\t0\t0\t0\t0\t0\t0\t0\t0\t0\t0\t0\t0\t0\t0\t0\t0\t0\t0\t0\t0\t0\t0\t0\t0\t0\t0\t0\t0\t0\t0\t0\t0\t0\t0\t0\t0\t0\t0\t0\t0\t0\t0\t0\t0\t0\t0\t0\t0\t0\t0\t0\t0\t0\t0\t0\t0\t0\t0\t0\t0\t0\t0\t0\n",
      "\n",
      "Intersection saved as NKX25_pwmscan_hg38_39533_43866\n",
      "NKX3_1_pwmscan_hg38_43163_4491\n",
      "  53355185 4268414800 9338833555 Validation merging test/chr1/output_even.txt\n",
      "1\t10001\t10002\t0\t0\t0\t0\t0\t0\t0\t0\t0\t0\t0\t0\t0\t0\t0\t0\t0\t0\t0\t0\t0\t0\t0\t0\t0\t0\t0\t0\t0\t0\t0\t0\t0\t0\t0\t0\t0\t0\t0\t0\t0\t0\t0\t0\t0\t0\t0\t0\t0\t0\t0\t0\t0\t0\t0\t0\t0\t0\t0\t0\t0\t0\t0\t0\t0\t0\t0\t0\t0\t0\t0\t0\t0\t0\t0\t0\t0\n",
      "\n",
      "Intersection saved as NKX3_1_pwmscan_hg38_43163_4491\n",
      "NOTO_pwmscan_hg38_28887_33633\n",
      "  53355185 4321769985 9445543925 Validation merging test/chr1/output_odd.txt\n",
      "1\t10001\t10002\t0\t0\t0\t0\t0\t0\t0\t0\t0\t0\t0\t0\t0\t0\t0\t0\t0\t0\t0\t0\t0\t0\t0\t0\t0\t0\t0\t0\t0\t0\t0\t0\t0\t0\t0\t0\t0\t0\t0\t0\t0\t0\t0\t0\t0\t0\t0\t0\t0\t0\t0\t0\t0\t0\t0\t0\t0\t0\t0\t0\t0\t0\t0\t0\t0\t0\t0\t0\t0\t0\t0\t0\t0\t0\t0\t0\t0\t0\n",
      "\n",
      "Intersection saved as NOTO_pwmscan_hg38_28887_33633\n",
      "OVOL2_pwmscan_hg38_39701_44177\n",
      "  53355185 4375125170 9552254295 Validation merging test/chr1/output_even.txt\n",
      "1\t10001\t10002\t0\t0\t0\t0\t0\t0\t0\t0\t0\t0\t0\t0\t0\t0\t0\t0\t0\t0\t0\t0\t0\t0\t0\t0\t0\t0\t0\t0\t0\t0\t0\t0\t0\t0\t0\t0\t0\t0\t0\t0\t0\t0\t0\t0\t0\t0\t0\t0\t0\t0\t0\t0\t0\t0\t0\t0\t0\t0\t0\t0\t0\t0\t0\t0\t0\t0\t0\t0\t0\t0\t0\t0\t0\t0\t0\t0\t0\t0\t0\n",
      "\n",
      "Intersection saved as OVOL2_pwmscan_hg38_39701_44177\n",
      "PAX8_pwmscan_hg38_44374_46322\n",
      "  53355185 4428480355 9658964665 Validation merging test/chr1/output_odd.txt\n",
      "1\t10001\t10002\t0\t0\t0\t0\t0\t0\t0\t0\t0\t0\t0\t0\t0\t0\t0\t0\t0\t0\t0\t0\t0\t0\t0\t0\t0\t0\t0\t0\t0\t0\t0\t0\t0\t0\t0\t0\t0\t0\t0\t0\t0\t0\t0\t0\t0\t0\t0\t0\t0\t0\t0\t0\t0\t0\t0\t0\t0\t0\t0\t0\t0\t0\t0\t0\t0\t0\t0\t0\t0\t0\t0\t0\t0\t0\t0\t0\t0\t0\t0\t0\n",
      "\n",
      "Intersection saved as PAX8_pwmscan_hg38_44374_46322\n",
      "PITX2_pwmscan_hg38_41734_46461\n",
      "  53355185 4481835540 9765675035 Validation merging test/chr1/output_even.txt\n",
      "1\t10001\t10002\t0\t0\t0\t0\t0\t0\t0\t0\t0\t0\t0\t0\t0\t0\t0\t0\t0\t0\t0\t0\t0\t0\t0\t0\t0\t0\t0\t0\t0\t0\t0\t0\t0\t0\t0\t0\t0\t0\t0\t0\t0\t0\t0\t0\t0\t0\t0\t0\t0\t0\t0\t0\t0\t0\t0\t0\t0\t0\t0\t0\t0\t0\t0\t0\t0\t0\t0\t0\t0\t0\t0\t0\t0\t0\t0\t0\t0\t0\t0\t0\t0\n",
      "\n",
      "Intersection saved as PITX2_pwmscan_hg38_41734_46461\n",
      "POU4F1_pwmscan_hg38_11435_12160\n",
      "  53355185 4535190725 9872385405 Validation merging test/chr1/output_odd.txt\n",
      "1\t10001\t10002\t0\t0\t0\t0\t0\t0\t0\t0\t0\t0\t0\t0\t0\t0\t0\t0\t0\t0\t0\t0\t0\t0\t0\t0\t0\t0\t0\t0\t0\t0\t0\t0\t0\t0\t0\t0\t0\t0\t0\t0\t0\t0\t0\t0\t0\t0\t0\t0\t0\t0\t0\t0\t0\t0\t0\t0\t0\t0\t0\t0\t0\t0\t0\t0\t0\t0\t0\t0\t0\t0\t0\t0\t0\t0\t0\t0\t0\t0\t0\t0\t0\t0\n",
      "\n",
      "Intersection saved as POU4F1_pwmscan_hg38_11435_12160\n",
      "POU4F1_pwmscan_hg38_47659_38526\n",
      "  53355185 4588545910 9979095775 Validation merging test/chr1/output_even.txt\n",
      "1\t10001\t10002\t0\t0\t0\t0\t0\t0\t0\t0\t0\t0\t0\t0\t0\t0\t0\t0\t0\t0\t0\t0\t0\t0\t0\t0\t0\t0\t0\t0\t0\t0\t0\t0\t0\t0\t0\t0\t0\t0\t0\t0\t0\t0\t0\t0\t0\t0\t0\t0\t0\t0\t0\t0\t0\t0\t0\t0\t0\t0\t0\t0\t0\t0\t0\t0\t0\t0\t0\t0\t0\t0\t0\t0\t0\t0\t0\t0\t0\t0\t0\t0\t0\t0\t0\n",
      "\n",
      "Intersection saved as POU4F1_pwmscan_hg38_47659_38526\n",
      "PPARD_pwmscan_hg38_35563_48082\n",
      "   53355185  4641901095 10085806145 Validation merging test/chr1/output_odd.txt\n",
      "1\t10001\t10002\t0\t0\t0\t0\t0\t0\t0\t0\t0\t0\t0\t0\t0\t0\t0\t0\t0\t0\t0\t0\t0\t0\t0\t0\t0\t0\t0\t0\t0\t0\t0\t0\t0\t0\t0\t0\t0\t0\t0\t0\t0\t0\t0\t0\t0\t0\t0\t0\t0\t0\t0\t0\t0\t0\t0\t0\t0\t0\t0\t0\t0\t0\t0\t0\t0\t0\t0\t0\t0\t0\t0\t0\t0\t0\t0\t0\t0\t0\t0\t0\t0\t0\t0\t0\n",
      "\n",
      "Intersection saved as PPARD_pwmscan_hg38_35563_48082\n",
      "PPARG_pwmscan_hg38_27664_10529\n",
      "   53355185  4695256280 10192516515 Validation merging test/chr1/output_even.txt\n",
      "1\t10001\t10002\t0\t0\t0\t0\t0\t0\t0\t0\t0\t0\t0\t0\t0\t0\t0\t0\t0\t0\t0\t0\t0\t0\t0\t0\t0\t0\t0\t0\t0\t0\t0\t0\t0\t0\t0\t0\t0\t0\t0\t0\t0\t0\t0\t0\t0\t0\t0\t0\t0\t0\t0\t0\t0\t0\t0\t0\t0\t0\t0\t0\t0\t0\t0\t0\t0\t0\t0\t0\t0\t0\t0\t0\t0\t0\t0\t0\t0\t0\t0\t0\t0\t0\t0\t0\t0\n",
      "\n",
      "Intersection saved as PPARG_pwmscan_hg38_27664_10529\n",
      "PRD14_pwmscan_hg38_48118_48439\n",
      "   53355185  4748611465 10299226885 Validation merging test/chr1/output_odd.txt\n",
      "1\t10001\t10002\t0\t0\t0\t0\t0\t0\t0\t0\t0\t0\t0\t0\t0\t0\t0\t0\t0\t0\t0\t0\t0\t0\t0\t0\t0\t0\t0\t0\t0\t0\t0\t0\t0\t0\t0\t0\t0\t0\t0\t0\t0\t0\t0\t0\t0\t0\t0\t0\t0\t0\t0\t0\t0\t0\t0\t0\t0\t0\t0\t0\t0\t0\t0\t0\t0\t0\t0\t0\t0\t0\t0\t0\t0\t0\t0\t0\t0\t0\t0\t0\t0\t0\t0\t0\t0\t0\n",
      "\n",
      "Intersection saved as PRD14_pwmscan_hg38_48118_48439\n",
      "PRDM1_pwmscan_hg38_38048_46851\n",
      "   53355185  4801966650 10405937255 Validation merging test/chr1/output_even.txt\n",
      "1\t10001\t10002\t0\t0\t0\t0\t0\t0\t0\t0\t0\t0\t0\t0\t0\t0\t0\t0\t0\t0\t0\t0\t0\t0\t0\t0\t0\t0\t0\t0\t0\t0\t0\t0\t0\t0\t0\t0\t0\t0\t0\t0\t0\t0\t0\t0\t0\t0\t0\t0\t0\t0\t0\t0\t0\t0\t0\t0\t0\t0\t0\t0\t0\t0\t0\t0\t0\t0\t0\t0\t0\t0\t0\t0\t0\t0\t0\t0\t0\t0\t0\t0\t0\t0\t0\t0\t0\t0\t0\n",
      "\n",
      "Intersection saved as PRDM1_pwmscan_hg38_38048_46851\n",
      "PROX1_pwmscan_hg38_33324_13670\n",
      "   53355185  4855321835 10512647625 Validation merging test/chr1/output_odd.txt\n",
      "1\t10001\t10002\t0\t0\t0\t0\t0\t0\t0\t0\t0\t0\t0\t0\t0\t0\t0\t0\t0\t0\t0\t0\t0\t0\t0\t0\t0\t0\t0\t0\t0\t0\t0\t0\t0\t0\t0\t0\t0\t0\t0\t0\t0\t0\t0\t0\t0\t0\t0\t0\t0\t0\t0\t0\t0\t0\t0\t0\t0\t0\t0\t0\t0\t0\t0\t0\t0\t0\t0\t0\t0\t0\t0\t0\t0\t0\t0\t0\t0\t0\t0\t0\t0\t0\t0\t0\t0\t0\t0\t0\n",
      "\n",
      "Intersection saved as PROX1_pwmscan_hg38_33324_13670\n",
      "RARA_pwmscan_hg38_47659_33241\n",
      "   53355185  4908677020 10619357995 Validation merging test/chr1/output_even.txt\n",
      "1\t10001\t10002\t0\t0\t0\t0\t0\t0\t0\t0\t0\t0\t0\t0\t0\t0\t0\t0\t0\t0\t0\t0\t0\t0\t0\t0\t0\t0\t0\t0\t0\t0\t0\t0\t0\t0\t0\t0\t0\t0\t0\t0\t0\t0\t0\t0\t0\t0\t0\t0\t0\t0\t0\t0\t0\t0\t0\t0\t0\t0\t0\t0\t0\t0\t0\t0\t0\t0\t0\t0\t0\t0\t0\t0\t0\t0\t0\t0\t0\t0\t0\t0\t0\t0\t0\t0\t0\t0\t0\t0\t0\n",
      "\n",
      "Intersection saved as RARA_pwmscan_hg38_47659_33241\n",
      "RARB_pwmscan_hg38_48313_3308\n",
      "   53355185  4962032205 10726068365 Validation merging test/chr1/output_odd.txt\n",
      "1\t10001\t10002\t0\t0\t0\t0\t0\t0\t0\t0\t0\t0\t0\t0\t0\t0\t0\t0\t0\t0\t0\t0\t0\t0\t0\t0\t0\t0\t0\t0\t0\t0\t0\t0\t0\t0\t0\t0\t0\t0\t0\t0\t0\t0\t0\t0\t0\t0\t0\t0\t0\t0\t0\t0\t0\t0\t0\t0\t0\t0\t0\t0\t0\t0\t0\t0\t0\t0\t0\t0\t0\t0\t0\t0\t0\t0\t0\t0\t0\t0\t0\t0\t0\t0\t0\t0\t0\t0\t0\t0\t0\t0\n",
      "\n",
      "Intersection saved as RARB_pwmscan_hg38_48313_3308\n",
      "RBPJ_pwmscan_hg38_10402_12301\n",
      "   53355185  5015387390 10832778735 Validation merging test/chr1/output_even.txt\n",
      "1\t10001\t10002\t0\t0\t0\t0\t0\t0\t0\t0\t0\t0\t0\t0\t0\t0\t0\t0\t0\t0\t0\t0\t0\t0\t0\t0\t0\t0\t0\t0\t0\t0\t0\t0\t0\t0\t0\t0\t0\t0\t0\t0\t0\t0\t0\t0\t0\t0\t0\t0\t0\t0\t0\t0\t0\t0\t0\t0\t0\t0\t0\t0\t0\t0\t0\t0\t0\t0\t0\t0\t0\t0\t0\t0\t0\t0\t0\t0\t0\t0\t0\t0\t0\t0\t0\t0\t0\t0\t0\t0\t0\t0\t0\n",
      "\n",
      "Intersection saved as RBPJ_pwmscan_hg38_10402_12301\n",
      "REST_pwmscan_hg38_11121_3574\n",
      "   53355185  5068742575 10939489105 Validation merging test/chr1/output_odd.txt\n",
      "1\t10001\t10002\t0\t0\t0\t0\t0\t0\t0\t0\t0\t0\t0\t0\t0\t0\t0\t0\t0\t0\t0\t0\t0\t0\t0\t0\t0\t0\t0\t0\t0\t0\t0\t0\t0\t0\t0\t0\t0\t0\t0\t0\t0\t0\t0\t0\t0\t0\t0\t0\t0\t0\t0\t0\t0\t0\t0\t0\t0\t0\t0\t0\t0\t0\t0\t0\t0\t0\t0\t0\t0\t0\t0\t0\t0\t0\t0\t0\t0\t0\t0\t0\t0\t0\t0\t0\t0\t0\t0\t0\t0\t0\t0\t0\n",
      "\n",
      "Intersection saved as REST_pwmscan_hg38_11121_3574\n",
      "SHOX2_pwmscan_hg38_44375_4511\n",
      "   53355185  5122097760 11046199475 Validation merging test/chr1/output_even.txt\n",
      "1\t10001\t10002\t0\t0\t0\t0\t0\t0\t0\t0\t0\t0\t0\t0\t0\t0\t0\t0\t0\t0\t0\t0\t0\t0\t0\t0\t0\t0\t0\t0\t0\t0\t0\t0\t0\t0\t0\t0\t0\t0\t0\t0\t0\t0\t0\t0\t0\t0\t0\t0\t0\t0\t0\t0\t0\t0\t0\t0\t0\t0\t0\t0\t0\t0\t0\t0\t0\t0\t0\t0\t0\t0\t0\t0\t0\t0\t0\t0\t0\t0\t0\t0\t0\t0\t0\t0\t0\t0\t0\t0\t0\t0\t0\t0\t0\n",
      "\n",
      "Intersection saved as SHOX2_pwmscan_hg38_44375_4511\n",
      "SIX1_pwmscan_hg38_42746_19293\n",
      "   53355185  5175452945 11152909845 Validation merging test/chr1/output_odd.txt\n",
      "1\t10001\t10002\t0\t0\t0\t0\t0\t0\t0\t0\t0\t0\t0\t0\t0\t0\t0\t0\t0\t0\t0\t0\t0\t0\t0\t0\t0\t0\t0\t0\t0\t0\t0\t0\t0\t0\t0\t0\t0\t0\t0\t0\t0\t0\t0\t0\t0\t0\t0\t0\t0\t0\t0\t0\t0\t0\t0\t0\t0\t0\t0\t0\t0\t0\t0\t0\t0\t0\t0\t0\t0\t0\t0\t0\t0\t0\t0\t0\t0\t0\t0\t0\t0\t0\t0\t0\t0\t0\t0\t0\t0\t0\t0\t0\t0\t0\n",
      "\n",
      "Intersection saved as SIX1_pwmscan_hg38_42746_19293\n",
      "SMAD1_pwmscan_hg38_44445_5787\n",
      "   53355185  5228808130 11259620215 Validation merging test/chr1/output_even.txt\n",
      "1\t10001\t10002\t0\t0\t0\t0\t0\t0\t0\t0\t0\t0\t0\t0\t0\t0\t0\t0\t0\t0\t0\t0\t0\t0\t0\t0\t0\t0\t0\t0\t0\t0\t0\t0\t0\t0\t0\t0\t0\t0\t0\t0\t0\t0\t0\t0\t0\t0\t0\t0\t0\t0\t0\t0\t0\t0\t0\t0\t0\t0\t0\t0\t0\t0\t0\t0\t0\t0\t0\t0\t0\t0\t0\t0\t0\t0\t0\t0\t0\t0\t0\t0\t0\t0\t0\t0\t0\t0\t0\t0\t0\t0\t0\t0\t0\t0\t0\n",
      "\n",
      "Intersection saved as SMAD1_pwmscan_hg38_44445_5787\n",
      "SMAD3_pwmscan_hg38_47659_6575\n",
      "   53355185  5282163315 11366330585 Validation merging test/chr1/output_odd.txt\n",
      "1\t10001\t10002\t0\t0\t0\t0\t0\t0\t0\t0\t0\t0\t0\t0\t0\t0\t0\t0\t0\t0\t0\t0\t0\t0\t0\t0\t0\t0\t0\t0\t0\t0\t0\t0\t0\t0\t0\t0\t0\t0\t0\t0\t0\t0\t0\t0\t0\t0\t0\t0\t0\t0\t0\t0\t0\t0\t0\t0\t0\t0\t0\t0\t0\t0\t0\t0\t0\t0\t0\t0\t0\t0\t0\t0\t0\t0\t0\t0\t0\t0\t0\t0\t0\t0\t0\t0\t0\t0\t0\t0\t0\t0\t0\t0\t0\t0\t0\t0\n",
      "\n",
      "Intersection saved as SMAD3_pwmscan_hg38_47659_6575\n",
      "SMAD4_pwmscan_hg38_44288_6824\n",
      "   53355185  5335518500 11473040955 Validation merging test/chr1/output_even.txt\n",
      "1\t10001\t10002\t0\t0\t0\t0\t0\t0\t0\t0\t0\t0\t0\t0\t0\t0\t0\t0\t0\t0\t0\t0\t0\t0\t0\t0\t0\t0\t0\t0\t0\t0\t0\t0\t0\t0\t0\t0\t0\t0\t0\t0\t0\t0\t0\t0\t0\t0\t0\t0\t0\t0\t0\t0\t0\t0\t0\t0\t0\t0\t0\t0\t0\t0\t0\t0\t0\t0\t0\t0\t0\t0\t0\t0\t0\t0\t0\t0\t0\t0\t0\t0\t0\t0\t0\t0\t0\t0\t0\t0\t0\t0\t0\t0\t0\t0\t0\t0\t0\n",
      "\n",
      "Intersection saved as SMAD4_pwmscan_hg38_44288_6824\n",
      "SNAI1_pwmscan_hg38_46684_9294\n",
      "   53355185  5388873685 11579751325 Validation merging test/chr1/output_odd.txt\n",
      "1\t10001\t10002\t0\t0\t0\t0\t0\t0\t0\t0\t0\t0\t0\t0\t0\t0\t0\t0\t0\t0\t0\t0\t0\t0\t0\t0\t0\t0\t0\t0\t0\t0\t0\t0\t0\t0\t0\t0\t0\t0\t0\t0\t0\t0\t0\t0\t0\t0\t0\t0\t0\t0\t0\t0\t0\t0\t0\t0\t0\t0\t0\t0\t0\t0\t0\t0\t0\t0\t0\t0\t0\t0\t0\t0\t0\t0\t0\t0\t0\t0\t0\t0\t0\t0\t0\t0\t0\t0\t0\t0\t0\t0\t0\t0\t0\t0\t0\t0\t0\t0\n",
      "\n",
      "Intersection saved as SNAI1_pwmscan_hg38_46684_9294\n",
      "SNAI2_pwmscan_hg38_27665_28556\n",
      "   53355185  5442228870 11686461695 Validation merging test/chr1/output_even.txt\n",
      "1\t10001\t10002\t0\t0\t0\t0\t0\t0\t0\t0\t0\t0\t0\t0\t0\t0\t0\t0\t0\t0\t0\t0\t0\t0\t0\t0\t0\t0\t0\t0\t0\t0\t0\t0\t0\t0\t0\t0\t0\t0\t0\t0\t0\t0\t0\t0\t0\t0\t0\t0\t0\t0\t0\t0\t0\t0\t0\t0\t0\t0\t0\t0\t0\t0\t0\t0\t0\t0\t0\t0\t0\t0\t0\t0\t0\t0\t0\t0\t0\t0\t0\t0\t0\t0\t0\t0\t0\t0\t0\t0\t0\t0\t0\t0\t0\t0\t0\t0\t0\t0\t0\n",
      "\n",
      "Intersection saved as SNAI2_pwmscan_hg38_27665_28556\n",
      "SOX11_pwmscan_hg38_43996_10436\n",
      "   53355185  5495584055 11793172065 Validation merging test/chr1/output_odd.txt\n",
      "1\t10001\t10002\t0\t0\t0\t0\t0\t0\t0\t0\t0\t0\t0\t0\t0\t0\t0\t0\t0\t0\t0\t0\t0\t0\t0\t0\t0\t0\t0\t0\t0\t0\t0\t0\t0\t0\t0\t0\t0\t0\t0\t0\t0\t0\t0\t0\t0\t0\t0\t0\t0\t0\t0\t0\t0\t0\t0\t0\t0\t0\t0\t0\t0\t0\t0\t0\t0\t0\t0\t0\t0\t0\t0\t0\t0\t0\t0\t0\t0\t0\t0\t0\t0\t0\t0\t0\t0\t0\t0\t0\t0\t0\t0\t0\t0\t0\t0\t0\t0\t0\t0\t0\n",
      "\n",
      "Intersection saved as SOX11_pwmscan_hg38_43996_10436\n",
      "SOX17_pwmscan_hg38_9606_11798\n",
      "   53355185  5548939240 11899882435 Validation merging test/chr1/output_even.txt\n",
      "1\t10001\t10002\t0\t0\t0\t0\t0\t0\t0\t0\t0\t0\t0\t0\t0\t0\t0\t0\t0\t0\t0\t0\t0\t0\t0\t0\t0\t0\t0\t0\t0\t0\t0\t0\t0\t0\t0\t0\t0\t0\t0\t0\t0\t0\t0\t0\t0\t0\t0\t0\t0\t0\t0\t0\t0\t0\t0\t0\t0\t0\t0\t0\t0\t0\t0\t0\t0\t0\t0\t0\t0\t0\t0\t0\t0\t0\t0\t0\t0\t0\t0\t0\t0\t0\t0\t0\t0\t0\t0\t0\t0\t0\t0\t0\t0\t0\t0\t0\t0\t0\t0\t0\t0\n",
      "\n",
      "Intersection saved as SOX17_pwmscan_hg38_9606_11798\n",
      "SOX18_pwmscan_hg38_9606_12295\n",
      "   53355185  5602294425 12006592805 Validation merging test/chr1/output_odd.txt\n",
      "1\t10001\t10002\t0\t0\t0\t0\t0\t0\t0\t0\t0\t0\t0\t0\t0\t0\t0\t0\t0\t0\t0\t0\t0\t0\t0\t0\t0\t0\t0\t0\t0\t0\t0\t0\t0\t0\t0\t0\t0\t0\t0\t0\t0\t0\t0\t0\t0\t0\t0\t0\t0\t0\t0\t0\t0\t0\t0\t0\t0\t0\t0\t0\t0\t0\t0\t0\t0\t0\t0\t0\t0\t0\t0\t0\t0\t0\t0\t0\t0\t0\t0\t0\t0\t0\t0\t0\t0\t0\t0\t0\t0\t0\t0\t0\t0\t0\t0\t0\t0\t0\t0\t0\t0\t0\n",
      "\n",
      "Intersection saved as SOX18_pwmscan_hg38_9606_12295\n",
      "SOX4_pwmscan_hg38_20348_27236\n",
      "   53355185  5655649610 12113303175 Validation merging test/chr1/output_even.txt\n",
      "1\t10001\t10002\t0\t0\t0\t0\t0\t0\t0\t0\t0\t0\t0\t0\t0\t0\t0\t0\t0\t0\t0\t0\t0\t0\t0\t0\t0\t0\t0\t0\t0\t0\t0\t0\t0\t0\t0\t0\t0\t0\t0\t0\t0\t0\t0\t0\t0\t0\t0\t0\t0\t0\t0\t0\t0\t0\t0\t0\t0\t0\t0\t0\t0\t0\t0\t0\t0\t0\t0\t0\t0\t0\t0\t0\t0\t0\t0\t0\t0\t0\t0\t0\t0\t0\t0\t0\t0\t0\t0\t0\t0\t0\t0\t0\t0\t0\t0\t0\t0\t0\t0\t0\t0\t0\t0\n",
      "\n",
      "Intersection saved as SOX4_pwmscan_hg38_20348_27236\n",
      "SOX9_pwmscan_hg38_11121_9563\n",
      "   53355185  5709004795 12220013545 Validation merging test/chr1/output_odd.txt\n",
      "1\t10001\t10002\t0\t0\t0\t0\t0\t0\t0\t0\t0\t0\t0\t0\t0\t0\t0\t0\t0\t0\t0\t0\t0\t0\t0\t0\t0\t0\t0\t0\t0\t0\t0\t0\t0\t0\t0\t0\t0\t0\t0\t0\t0\t0\t0\t0\t0\t0\t0\t0\t0\t0\t0\t0\t0\t0\t0\t0\t0\t0\t0\t0\t0\t0\t0\t0\t0\t0\t0\t0\t0\t0\t0\t0\t0\t0\t0\t0\t0\t0\t0\t0\t0\t0\t0\t0\t0\t0\t0\t0\t0\t0\t0\t0\t0\t0\t0\t0\t0\t0\t0\t0\t0\t0\t0\t0\n",
      "\n",
      "Intersection saved as SOX9_pwmscan_hg38_11121_9563\n",
      "SRF_pwmscan_hg38_27664_8726\n",
      "   53355185  5762359980 12326723915 Validation merging test/chr1/output_even.txt\n",
      "1\t10001\t10002\t0\t0\t0\t0\t0\t0\t0\t0\t0\t0\t0\t0\t0\t0\t0\t0\t0\t0\t0\t0\t0\t0\t0\t0\t0\t0\t0\t0\t0\t0\t0\t0\t0\t0\t0\t0\t0\t0\t0\t0\t0\t0\t0\t0\t0\t0\t0\t0\t0\t0\t0\t0\t0\t0\t0\t0\t0\t0\t0\t0\t0\t0\t0\t0\t0\t0\t0\t0\t0\t0\t0\t0\t0\t0\t0\t0\t0\t0\t0\t0\t0\t0\t0\t0\t0\t0\t0\t0\t0\t0\t0\t0\t0\t0\t0\t0\t0\t0\t0\t0\t0\t0\t0\t0\t0\n",
      "\n",
      "Intersection saved as SRF_pwmscan_hg38_27664_8726\n",
      "TBX1_pwmscan_hg38_38292_542\n",
      "   53355185  5815715165 12433434285 Validation merging test/chr1/output_odd.txt\n",
      "1\t10001\t10002\t0\t0\t0\t0\t0\t0\t0\t0\t0\t0\t0\t0\t0\t0\t0\t0\t0\t0\t0\t0\t0\t0\t0\t0\t0\t0\t0\t0\t0\t0\t0\t0\t0\t0\t0\t0\t0\t0\t0\t0\t0\t0\t0\t0\t0\t0\t0\t0\t0\t0\t0\t0\t0\t0\t0\t0\t0\t0\t0\t0\t0\t0\t0\t0\t0\t0\t0\t0\t0\t0\t0\t0\t0\t0\t0\t0\t0\t0\t0\t0\t0\t0\t0\t0\t0\t0\t0\t0\t0\t0\t0\t0\t0\t0\t0\t0\t0\t0\t0\t0\t0\t0\t0\t0\t0\t0\n",
      "\n",
      "Intersection saved as TBX1_pwmscan_hg38_38292_542\n",
      "TBX20_pwmscan_hg38_30239_36307\n",
      "   53355185  5869070350 12540144655 Validation merging test/chr1/output_even.txt\n",
      "1\t10001\t10002\t0\t0\t0\t0\t0\t0\t0\t0\t0\t0\t0\t0\t0\t0\t0\t0\t0\t0\t0\t0\t0\t0\t0\t0\t0\t0\t0\t0\t0\t0\t0\t0\t0\t0\t0\t0\t0\t0\t0\t0\t0\t0\t0\t0\t0\t0\t0\t0\t0\t0\t0\t0\t0\t0\t0\t0\t0\t0\t0\t0\t0\t0\t0\t0\t0\t0\t0\t0\t0\t0\t0\t0\t0\t0\t0\t0\t0\t0\t0\t0\t0\t0\t0\t0\t0\t0\t0\t0\t0\t0\t0\t0\t0\t0\t0\t0\t0\t0\t0\t0\t0\t0\t0\t0\t0\t0\t0\n",
      "\n",
      "Intersection saved as TBX20_pwmscan_hg38_30239_36307\n",
      "TBX2_pwmscan_hg38_30239_37929\n",
      "   53355185  5922425535 12646855025 Validation merging test/chr1/output_odd.txt\n",
      "1\t10001\t10002\t0\t0\t0\t0\t0\t0\t0\t0\t0\t0\t0\t0\t0\t0\t0\t0\t0\t0\t0\t0\t0\t0\t0\t0\t0\t0\t0\t0\t0\t0\t0\t0\t0\t0\t0\t0\t0\t0\t0\t0\t0\t0\t0\t0\t0\t0\t0\t0\t0\t0\t0\t0\t0\t0\t0\t0\t0\t0\t0\t0\t0\t0\t0\t0\t0\t0\t0\t0\t0\t0\t0\t0\t0\t0\t0\t0\t0\t0\t0\t0\t0\t0\t0\t0\t0\t0\t0\t0\t0\t0\t0\t0\t0\t0\t0\t0\t0\t0\t0\t0\t0\t0\t0\t0\t0\t0\t0\t0\n",
      "\n",
      "Intersection saved as TBX2_pwmscan_hg38_30239_37929\n",
      "TBX3_pwmscan_hg38_48118_14186\n",
      "   53355185  5975780720 12753565395 Validation merging test/chr1/output_even.txt\n",
      "1\t10001\t10002\t0\t0\t0\t0\t0\t0\t0\t0\t0\t0\t0\t0\t0\t0\t0\t0\t0\t0\t0\t0\t0\t0\t0\t0\t0\t0\t0\t0\t0\t0\t0\t0\t0\t0\t0\t0\t0\t0\t0\t0\t0\t0\t0\t0\t0\t0\t0\t0\t0\t0\t0\t0\t0\t0\t0\t0\t0\t0\t0\t0\t0\t0\t0\t0\t0\t0\t0\t0\t0\t0\t0\t0\t0\t0\t0\t0\t0\t0\t0\t0\t0\t0\t0\t0\t0\t0\t0\t0\t0\t0\t0\t0\t0\t0\t0\t0\t0\t0\t0\t0\t0\t0\t0\t0\t0\t0\t0\t0\t0\n",
      "\n",
      "Intersection saved as TBX3_pwmscan_hg38_48118_14186\n",
      "TBX5_pwmscan_hg38_47636_48695\n",
      "   53355185  6029135905 12860275765 Validation merging test/chr1/output_odd.txt\n",
      "1\t10001\t10002\t0\t0\t0\t0\t0\t0\t0\t0\t0\t0\t0\t0\t0\t0\t0\t0\t0\t0\t0\t0\t0\t0\t0\t0\t0\t0\t0\t0\t0\t0\t0\t0\t0\t0\t0\t0\t0\t0\t0\t0\t0\t0\t0\t0\t0\t0\t0\t0\t0\t0\t0\t0\t0\t0\t0\t0\t0\t0\t0\t0\t0\t0\t0\t0\t0\t0\t0\t0\t0\t0\t0\t0\t0\t0\t0\t0\t0\t0\t0\t0\t0\t0\t0\t0\t0\t0\t0\t0\t0\t0\t0\t0\t0\t0\t0\t0\t0\t0\t0\t0\t0\t0\t0\t0\t0\t0\t0\t0\t0\t0\n",
      "\n",
      "Intersection saved as TBX5_pwmscan_hg38_47636_48695\n",
      "TEAD2_pwmscan_hg38_6370_18229\n",
      "   53355185  6082491090 12966986135 Validation merging test/chr1/output_even.txt\n",
      "1\t10001\t10002\t0\t0\t0\t0\t0\t0\t0\t0\t0\t0\t0\t0\t0\t0\t0\t0\t0\t0\t0\t0\t0\t0\t0\t0\t0\t0\t0\t0\t0\t0\t0\t0\t0\t0\t0\t0\t0\t0\t0\t0\t0\t0\t0\t0\t0\t0\t0\t0\t0\t0\t0\t0\t0\t0\t0\t0\t0\t0\t0\t0\t0\t0\t0\t0\t0\t0\t0\t0\t0\t0\t0\t0\t0\t0\t0\t0\t0\t0\t0\t0\t0\t0\t0\t0\t0\t0\t0\t0\t0\t0\t0\t0\t0\t0\t0\t0\t0\t0\t0\t0\t0\t0\t0\t0\t0\t0\t0\t0\t0\t0\t0\n",
      "\n",
      "Intersection saved as TEAD2_pwmscan_hg38_6370_18229\n",
      "TP53_pwmscan_hg38_20055_27716\n",
      "   53355185  6135846275 13073696505 Validation merging test/chr1/output_odd.txt\n",
      "1\t10001\t10002\t0\t0\t0\t0\t0\t0\t0\t0\t0\t0\t0\t0\t0\t0\t0\t0\t0\t0\t0\t0\t0\t0\t0\t0\t0\t0\t0\t0\t0\t0\t0\t0\t0\t0\t0\t0\t0\t0\t0\t0\t0\t0\t0\t0\t0\t0\t0\t0\t0\t0\t0\t0\t0\t0\t0\t0\t0\t0\t0\t0\t0\t0\t0\t0\t0\t0\t0\t0\t0\t0\t0\t0\t0\t0\t0\t0\t0\t0\t0\t0\t0\t0\t0\t0\t0\t0\t0\t0\t0\t0\t0\t0\t0\t0\t0\t0\t0\t0\t0\t0\t0\t0\t0\t0\t0\t0\t0\t0\t0\t0\t0\t0\n",
      "\n",
      "Intersection saved as TP53_pwmscan_hg38_20055_27716\n",
      "TP53_pwmscan_hg38_4482_5454\n",
      "   53355185  6189201460 13180406875 Validation merging test/chr1/output_even.txt\n",
      "1\t10001\t10002\t0\t0\t0\t0\t0\t0\t0\t0\t0\t0\t0\t0\t0\t0\t0\t0\t0\t0\t0\t0\t0\t0\t0\t0\t0\t0\t0\t0\t0\t0\t0\t0\t0\t0\t0\t0\t0\t0\t0\t0\t0\t0\t0\t0\t0\t0\t0\t0\t0\t0\t0\t0\t0\t0\t0\t0\t0\t0\t0\t0\t0\t0\t0\t0\t0\t0\t0\t0\t0\t0\t0\t0\t0\t0\t0\t0\t0\t0\t0\t0\t0\t0\t0\t0\t0\t0\t0\t0\t0\t0\t0\t0\t0\t0\t0\t0\t0\t0\t0\t0\t0\t0\t0\t0\t0\t0\t0\t0\t0\t0\t0\t0\t0\n",
      "\n",
      "Intersection saved as TP53_pwmscan_hg38_4482_5454\n",
      "TWIST1_pwmscan_hg38_38398_47795\n",
      "   53355185  6242556645 13287117245 Validation merging test/chr1/output_odd.txt\n",
      "1\t10001\t10002\t0\t0\t0\t0\t0\t0\t0\t0\t0\t0\t0\t0\t0\t0\t0\t0\t0\t0\t0\t0\t0\t0\t0\t0\t0\t0\t0\t0\t0\t0\t0\t0\t0\t0\t0\t0\t0\t0\t0\t0\t0\t0\t0\t0\t0\t0\t0\t0\t0\t0\t0\t0\t0\t0\t0\t0\t0\t0\t0\t0\t0\t0\t0\t0\t0\t0\t0\t0\t0\t0\t0\t0\t0\t0\t0\t0\t0\t0\t0\t0\t0\t0\t0\t0\t0\t0\t0\t0\t0\t0\t0\t0\t0\t0\t0\t0\t0\t0\t0\t0\t0\t0\t0\t0\t0\t0\t0\t0\t0\t0\t0\t0\t0\t0\n",
      "\n",
      "Intersection saved as TWIST1_pwmscan_hg38_38398_47795\n",
      "WT1_pwmscan_hg38_43996_14775\n",
      "   53355185  6295911830 13393827615 Validation merging test/chr1/output_even.txt\n",
      "1\t10001\t10002\t0\t0\t0\t0\t0\t0\t0\t0\t0\t0\t0\t0\t0\t0\t0\t0\t0\t0\t0\t0\t0\t0\t0\t0\t0\t0\t0\t0\t0\t0\t0\t0\t0\t0\t0\t0\t0\t0\t0\t0\t0\t0\t0\t0\t0\t0\t0\t0\t0\t0\t0\t0\t0\t0\t0\t0\t0\t0\t0\t0\t0\t0\t0\t0\t0\t0\t0\t0\t0\t0\t0\t0\t0\t0\t0\t0\t0\t0\t0\t0\t0\t0\t0\t0\t0\t0\t0\t0\t0\t0\t0\t0\t0\t0\t0\t0\t0\t0\t0\t0\t0\t0\t0\t0\t0\t0\t0\t0\t0\t0\t0\t0\t0\t0\t0\n",
      "\n",
      "Intersection saved as WT1_pwmscan_hg38_43996_14775\n",
      "YY1_pwmscan_hg38_43315_7423\n",
      "   53355185  6349267015 13500537985 Validation merging test/chr1/output_odd.txt\n",
      "1\t10001\t10002\t0\t0\t0\t0\t0\t0\t0\t0\t0\t0\t0\t0\t0\t0\t0\t0\t0\t0\t0\t0\t0\t0\t0\t0\t0\t0\t0\t0\t0\t0\t0\t0\t0\t0\t0\t0\t0\t0\t0\t0\t0\t0\t0\t0\t0\t0\t0\t0\t0\t0\t0\t0\t0\t0\t0\t0\t0\t0\t0\t0\t0\t0\t0\t0\t0\t0\t0\t0\t0\t0\t0\t0\t0\t0\t0\t0\t0\t0\t0\t0\t0\t0\t0\t0\t0\t0\t0\t0\t0\t0\t0\t0\t0\t0\t0\t0\t0\t0\t0\t0\t0\t0\t0\t0\t0\t0\t0\t0\t0\t0\t0\t0\t0\t0\t0\t0\n",
      "\n",
      "Intersection saved as YY1_pwmscan_hg38_43315_7423\n",
      "ZBT14_pwmscan_hg38_43996_16382\n",
      "   53355185  6402622200 13607248355 Validation merging test/chr1/output_even.txt\n",
      "1\t10001\t10002\t0\t0\t0\t0\t0\t0\t0\t0\t0\t0\t0\t0\t0\t0\t0\t0\t0\t0\t0\t0\t0\t0\t0\t0\t0\t0\t0\t0\t0\t0\t0\t0\t0\t0\t0\t0\t0\t0\t0\t0\t0\t0\t0\t0\t0\t0\t0\t0\t0\t0\t0\t0\t0\t0\t0\t0\t0\t0\t0\t0\t0\t0\t0\t0\t0\t0\t0\t0\t0\t0\t0\t0\t0\t0\t0\t0\t0\t0\t0\t0\t0\t0\t0\t0\t0\t0\t0\t0\t0\t0\t0\t0\t0\t0\t0\t0\t0\t0\t0\t0\t0\t0\t0\t0\t0\t0\t0\t0\t0\t0\t0\t0\t0\t0\t0\t0\t0\n",
      "\n",
      "Intersection saved as ZBT14_pwmscan_hg38_43996_16382\n",
      "ZIC3_pwmscan_hg38_33324_35656\n",
      "   53355185  6455977385 13713958725 Validation merging test/chr1/output_odd.txt\n",
      "1\t10001\t10002\t0\t0\t0\t0\t0\t0\t0\t0\t0\t0\t0\t0\t0\t0\t0\t0\t0\t0\t0\t0\t0\t0\t0\t0\t0\t0\t0\t0\t0\t0\t0\t0\t0\t0\t0\t0\t0\t0\t0\t0\t0\t0\t0\t0\t0\t0\t0\t0\t0\t0\t0\t0\t0\t0\t0\t0\t0\t0\t0\t0\t0\t0\t0\t0\t0\t0\t0\t0\t0\t0\t0\t0\t0\t0\t0\t0\t0\t0\t0\t0\t0\t0\t0\t0\t0\t0\t0\t0\t0\t0\t0\t0\t0\t0\t0\t0\t0\t0\t0\t0\t0\t0\t0\t0\t0\t0\t0\t0\t0\t0\t0\t0\t0\t0\t0\t0\t0\t0\n",
      "\n",
      "Intersection saved as ZIC3_pwmscan_hg38_33324_35656\n"
     ]
    }
   ],
   "source": [
    "import os\n",
    "import subprocess\n",
    "import numpy as np \n",
    "import pandas as pd\n",
    "from datetime import date\n",
    "today = date.today()\n",
    "import re\n",
    "\n",
    "def read_cres_files(mastersheet,file_lst, folder, start_ind, intersect):\n",
    "  output_odd = f\"Validation merging test/{chromosome}/output_odd.txt\"\n",
    "  output_even = f\"Validation merging test/{chromosome}/output_even.txt\"\n",
    "  track_ind = start_ind\n",
    "  for bed_file in file_lst:\n",
    "    try:\n",
    "\n",
    "      df = pd.read_csv(os.path.join(folder, bed_file), sep = '\\t', header = None)\n",
    "    except pd.errors.EmptyDataError:\n",
    "      # handle empty file\n",
    "      print(f\"One missing file: {bed_file}\")\n",
    "      pass\n",
    "    else:\n",
    "      name = bed_file[: -4]\n",
    "      print(name)\n",
    "      # print(bed_file)\n",
    "      # Run the Bedtools intersect command\n",
    "      if track_ind == 0:\n",
    "        output_file = output_even\n",
    "        command = ['bedtools', 'intersect', intersect, '-a', mastersheet, '-b', os.path.join(folder, bed_file)]\n",
    "      elif(track_ind %2 ==0):\n",
    "        output_file = output_even\n",
    "        command = ['bedtools', 'intersect', intersect, '-a', output_odd, '-b', os.path.join(folder, bed_file)]\n",
    "\n",
    "      else:\n",
    "        output_file=  output_odd\n",
    "        command = ['bedtools', 'intersect', intersect, '-a', output_even, '-b', os.path.join(folder, bed_file)]\n",
    "      result = subprocess.run(command, capture_output=True, text=True)\n",
    "      # Save the intersected result to the output file\n",
    "      with open(output_file, 'w') as f:\n",
    "          f.write(result.stdout)\n",
    "\n",
    "      word_count = subprocess.run([\"wc\", output_file])\n",
    "      overview = subprocess.run([\"sed\", \"-n\", \"1p\", output_file], capture_output = True, text = True)\n",
    "      print(overview.stdout)\n",
    "      with open(logging_file, 'a') as fpo:\n",
    "          fpo.write(name)\n",
    "          fpo.write(\"\\n\")\n",
    "          fpo.write(overview.stdout)\n",
    "          fpo.write(\"\\n\")\n",
    "          fpo.write(str(track_ind))\n",
    "          fpo.write(\"\\n\")\n",
    "          \n",
    "\n",
    "      # Display the output file name\n",
    "      print(f\"Intersection saved as {name}\")\n",
    "      track_ind += 1\n",
    "\n",
    "  return track_ind\n",
    "\n",
    "# example of subfolder: /hg38\n",
    "def read_general_files(mastersheet,subject, start_ind, sub_folder = \"\", intersect = '-C'):\n",
    "  folder = f\"BED files/{subject}{sub_folder}\"\n",
    "\n",
    "  if subject in ['CVDKP', 'Hi-C']:\n",
    "      files = [ele for ele in sorted(os.listdir(folder)) if 'unmapped' not in ele]\n",
    "  elif subject in ['TFBS']:\n",
    "      files = [ele for ele in sorted(os.listdir(folder)) if 'bed' in ele]\n",
    "      \n",
    "  else:    \n",
    "      files = [ele for ele in sorted(os.listdir(folder))]\n",
    "\n",
    "  print(len(files), files)\n",
    "\n",
    "  ind = read_cres_files(mastersheet,files, folder, start_ind = start_ind, intersect = intersect)\n",
    "  return ind\n",
    "# cvdkp and hi-c requires unmapped\n",
    "bed_starting_ind_tfbs = read_general_files(validation_file, \"TFBS\", start_ind = bed_starting_ind, intersect = '-C')\n",
    "# zebrafish is good, vista requires sub_folder, cvdkp requires subfolder, hic is fine, pchic is fine, atac is fine, genomic analysis is fine \n",
    "# bed_starting_ind_zebra = read_general_files(validation_file, \"Zebrafish\", start_ind = bed_starting_ind_tfbs, intersect = '-C')"
   ]
  },
  {
   "cell_type": "code",
   "execution_count": 5,
   "metadata": {},
   "outputs": [
    {
     "name": "stdout",
     "output_type": "stream",
     "text": [
      "118\n"
     ]
    }
   ],
   "source": [
    "print(bed_starting_ind_tfbs) # bed_starting_ind_tfbs = 118"
   ]
  },
  {
   "cell_type": "code",
   "execution_count": null,
   "metadata": {},
   "outputs": [],
   "source": [
    "# bed_starting_ind_zebra = read_general_files(validation_file, \"Zebrafish\", start_ind = bed_starting_ind_tfbs, intersect = '-C')\n",
    "# print(bed_starting_ind_zebra)\n",
    "# remove this feature "
   ]
  },
  {
   "cell_type": "code",
   "execution_count": 6,
   "metadata": {},
   "outputs": [
    {
     "name": "stdout",
     "output_type": "stream",
     "text": [
      "1 ['vista_hg38.bed']\n",
      "vista_hg38\n",
      "   53355185  6509332570 13820669095 Validation merging test/chr1/output_even.txt\n",
      "1\t10001\t10002\t0\t0\t0\t0\t0\t0\t0\t0\t0\t0\t0\t0\t0\t0\t0\t0\t0\t0\t0\t0\t0\t0\t0\t0\t0\t0\t0\t0\t0\t0\t0\t0\t0\t0\t0\t0\t0\t0\t0\t0\t0\t0\t0\t0\t0\t0\t0\t0\t0\t0\t0\t0\t0\t0\t0\t0\t0\t0\t0\t0\t0\t0\t0\t0\t0\t0\t0\t0\t0\t0\t0\t0\t0\t0\t0\t0\t0\t0\t0\t0\t0\t0\t0\t0\t0\t0\t0\t0\t0\t0\t0\t0\t0\t0\t0\t0\t0\t0\t0\t0\t0\t0\t0\t0\t0\t0\t0\t0\t0\t0\t0\t0\t0\t0\t0\t0\t0\t0\t0\n",
      "\n",
      "Intersection saved as vista_hg38\n"
     ]
    }
   ],
   "source": [
    "bed_starting_ind_vista = read_general_files(validation_file, \"Vista_human_heart_enhancers\", start_ind = bed_starting_ind_tfbs, \n",
    "                                            intersect = \"-C\", sub_folder = \"/hg38\")"
   ]
  },
  {
   "cell_type": "code",
   "execution_count": 7,
   "metadata": {},
   "outputs": [
    {
     "name": "stdout",
     "output_type": "stream",
     "text": [
      "119\n"
     ]
    }
   ],
   "source": [
    "print(bed_starting_ind_vista)"
   ]
  },
  {
   "cell_type": "code",
   "execution_count": 8,
   "metadata": {},
   "outputs": [
    {
     "name": "stdout",
     "output_type": "stream",
     "text": [
      "30 ['DFF012AGB.bed', 'DFF017NNG.bed', 'DFF029APW.bed', 'DFF090AWG.bed', 'DFF165PSK.bed', 'DFF201AVG.bed', 'DFF208QZK.bed', 'DFF233YXQ.bed', 'DFF249RGM.bed', 'DFF262NPA.bed', 'DFF307JWU.bed', 'DFF307LLE.bed', 'DFF316NIT.bed', 'DFF367ZAV.bed', 'DFF371HWB.bed', 'DFF444FXW.bed', 'DFF491GMJ.bed', 'DFF512TCX.bed', 'DFF528FIC.bed', 'DFF552AGR.bed', 'DFF559UZT.bed', 'DFF564GOU.bed', 'DFF565QGM.bed', 'DFF621YNV.bed', 'DFF653TBJ.bed', 'DFF729PKJ.bed', 'DFF803PYP.bed', 'DFF842KEC.bed', 'DFF923IAT.bed', 'DFF975AHB.bed']\n",
      "DFF012AGB\n",
      "   53355185  6562687755 13927379465 Validation merging test/chr1/output_odd.txt\n",
      "1\t10001\t10002\t0\t0\t0\t0\t0\t0\t0\t0\t0\t0\t0\t0\t0\t0\t0\t0\t0\t0\t0\t0\t0\t0\t0\t0\t0\t0\t0\t0\t0\t0\t0\t0\t0\t0\t0\t0\t0\t0\t0\t0\t0\t0\t0\t0\t0\t0\t0\t0\t0\t0\t0\t0\t0\t0\t0\t0\t0\t0\t0\t0\t0\t0\t0\t0\t0\t0\t0\t0\t0\t0\t0\t0\t0\t0\t0\t0\t0\t0\t0\t0\t0\t0\t0\t0\t0\t0\t0\t0\t0\t0\t0\t0\t0\t0\t0\t0\t0\t0\t0\t0\t0\t0\t0\t0\t0\t0\t0\t0\t0\t0\t0\t0\t0\t0\t0\t0\t0\t0\t0\t0\n",
      "\n",
      "Intersection saved as DFF012AGB\n",
      "DFF017NNG\n",
      "   53355185  6616042940 14034089835 Validation merging test/chr1/output_even.txt\n",
      "1\t10001\t10002\t0\t0\t0\t0\t0\t0\t0\t0\t0\t0\t0\t0\t0\t0\t0\t0\t0\t0\t0\t0\t0\t0\t0\t0\t0\t0\t0\t0\t0\t0\t0\t0\t0\t0\t0\t0\t0\t0\t0\t0\t0\t0\t0\t0\t0\t0\t0\t0\t0\t0\t0\t0\t0\t0\t0\t0\t0\t0\t0\t0\t0\t0\t0\t0\t0\t0\t0\t0\t0\t0\t0\t0\t0\t0\t0\t0\t0\t0\t0\t0\t0\t0\t0\t0\t0\t0\t0\t0\t0\t0\t0\t0\t0\t0\t0\t0\t0\t0\t0\t0\t0\t0\t0\t0\t0\t0\t0\t0\t0\t0\t0\t0\t0\t0\t0\t0\t0\t0\t0\t0\t0\n",
      "\n",
      "Intersection saved as DFF017NNG\n",
      "DFF029APW\n",
      "   53355185  6669398125 14140800205 Validation merging test/chr1/output_odd.txt\n",
      "1\t10001\t10002\t0\t0\t0\t0\t0\t0\t0\t0\t0\t0\t0\t0\t0\t0\t0\t0\t0\t0\t0\t0\t0\t0\t0\t0\t0\t0\t0\t0\t0\t0\t0\t0\t0\t0\t0\t0\t0\t0\t0\t0\t0\t0\t0\t0\t0\t0\t0\t0\t0\t0\t0\t0\t0\t0\t0\t0\t0\t0\t0\t0\t0\t0\t0\t0\t0\t0\t0\t0\t0\t0\t0\t0\t0\t0\t0\t0\t0\t0\t0\t0\t0\t0\t0\t0\t0\t0\t0\t0\t0\t0\t0\t0\t0\t0\t0\t0\t0\t0\t0\t0\t0\t0\t0\t0\t0\t0\t0\t0\t0\t0\t0\t0\t0\t0\t0\t0\t0\t0\t0\t0\t0\t0\n",
      "\n",
      "Intersection saved as DFF029APW\n",
      "DFF090AWG\n",
      "   53355185  6722753310 14247510575 Validation merging test/chr1/output_even.txt\n",
      "1\t10001\t10002\t0\t0\t0\t0\t0\t0\t0\t0\t0\t0\t0\t0\t0\t0\t0\t0\t0\t0\t0\t0\t0\t0\t0\t0\t0\t0\t0\t0\t0\t0\t0\t0\t0\t0\t0\t0\t0\t0\t0\t0\t0\t0\t0\t0\t0\t0\t0\t0\t0\t0\t0\t0\t0\t0\t0\t0\t0\t0\t0\t0\t0\t0\t0\t0\t0\t0\t0\t0\t0\t0\t0\t0\t0\t0\t0\t0\t0\t0\t0\t0\t0\t0\t0\t0\t0\t0\t0\t0\t0\t0\t0\t0\t0\t0\t0\t0\t0\t0\t0\t0\t0\t0\t0\t0\t0\t0\t0\t0\t0\t0\t0\t0\t0\t0\t0\t0\t0\t0\t0\t0\t0\t0\t0\n",
      "\n",
      "Intersection saved as DFF090AWG\n",
      "DFF165PSK\n",
      "   53355185  6776108495 14354220945 Validation merging test/chr1/output_odd.txt\n",
      "1\t10001\t10002\t0\t0\t0\t0\t0\t0\t0\t0\t0\t0\t0\t0\t0\t0\t0\t0\t0\t0\t0\t0\t0\t0\t0\t0\t0\t0\t0\t0\t0\t0\t0\t0\t0\t0\t0\t0\t0\t0\t0\t0\t0\t0\t0\t0\t0\t0\t0\t0\t0\t0\t0\t0\t0\t0\t0\t0\t0\t0\t0\t0\t0\t0\t0\t0\t0\t0\t0\t0\t0\t0\t0\t0\t0\t0\t0\t0\t0\t0\t0\t0\t0\t0\t0\t0\t0\t0\t0\t0\t0\t0\t0\t0\t0\t0\t0\t0\t0\t0\t0\t0\t0\t0\t0\t0\t0\t0\t0\t0\t0\t0\t0\t0\t0\t0\t0\t0\t0\t0\t0\t0\t0\t0\t0\t0\n",
      "\n",
      "Intersection saved as DFF165PSK\n",
      "DFF201AVG\n",
      "   53355185  6829463680 14460931315 Validation merging test/chr1/output_even.txt\n",
      "1\t10001\t10002\t0\t0\t0\t0\t0\t0\t0\t0\t0\t0\t0\t0\t0\t0\t0\t0\t0\t0\t0\t0\t0\t0\t0\t0\t0\t0\t0\t0\t0\t0\t0\t0\t0\t0\t0\t0\t0\t0\t0\t0\t0\t0\t0\t0\t0\t0\t0\t0\t0\t0\t0\t0\t0\t0\t0\t0\t0\t0\t0\t0\t0\t0\t0\t0\t0\t0\t0\t0\t0\t0\t0\t0\t0\t0\t0\t0\t0\t0\t0\t0\t0\t0\t0\t0\t0\t0\t0\t0\t0\t0\t0\t0\t0\t0\t0\t0\t0\t0\t0\t0\t0\t0\t0\t0\t0\t0\t0\t0\t0\t0\t0\t0\t0\t0\t0\t0\t0\t0\t0\t0\t0\t0\t0\t0\t0\n",
      "\n",
      "Intersection saved as DFF201AVG\n",
      "DFF208QZK\n",
      "   53355185  6882818865 14567641685 Validation merging test/chr1/output_odd.txt\n",
      "1\t10001\t10002\t0\t0\t0\t0\t0\t0\t0\t0\t0\t0\t0\t0\t0\t0\t0\t0\t0\t0\t0\t0\t0\t0\t0\t0\t0\t0\t0\t0\t0\t0\t0\t0\t0\t0\t0\t0\t0\t0\t0\t0\t0\t0\t0\t0\t0\t0\t0\t0\t0\t0\t0\t0\t0\t0\t0\t0\t0\t0\t0\t0\t0\t0\t0\t0\t0\t0\t0\t0\t0\t0\t0\t0\t0\t0\t0\t0\t0\t0\t0\t0\t0\t0\t0\t0\t0\t0\t0\t0\t0\t0\t0\t0\t0\t0\t0\t0\t0\t0\t0\t0\t0\t0\t0\t0\t0\t0\t0\t0\t0\t0\t0\t0\t0\t0\t0\t0\t0\t0\t0\t0\t0\t0\t0\t0\t0\t0\n",
      "\n",
      "Intersection saved as DFF208QZK\n",
      "DFF233YXQ\n",
      "   53355185  6936174050 14674352055 Validation merging test/chr1/output_even.txt\n",
      "1\t10001\t10002\t0\t0\t0\t0\t0\t0\t0\t0\t0\t0\t0\t0\t0\t0\t0\t0\t0\t0\t0\t0\t0\t0\t0\t0\t0\t0\t0\t0\t0\t0\t0\t0\t0\t0\t0\t0\t0\t0\t0\t0\t0\t0\t0\t0\t0\t0\t0\t0\t0\t0\t0\t0\t0\t0\t0\t0\t0\t0\t0\t0\t0\t0\t0\t0\t0\t0\t0\t0\t0\t0\t0\t0\t0\t0\t0\t0\t0\t0\t0\t0\t0\t0\t0\t0\t0\t0\t0\t0\t0\t0\t0\t0\t0\t0\t0\t0\t0\t0\t0\t0\t0\t0\t0\t0\t0\t0\t0\t0\t0\t0\t0\t0\t0\t0\t0\t0\t0\t0\t0\t0\t0\t0\t0\t0\t0\t0\t0\n",
      "\n",
      "Intersection saved as DFF233YXQ\n",
      "DFF249RGM\n",
      "   53355185  6989529235 14781062425 Validation merging test/chr1/output_odd.txt\n",
      "1\t10001\t10002\t0\t0\t0\t0\t0\t0\t0\t0\t0\t0\t0\t0\t0\t0\t0\t0\t0\t0\t0\t0\t0\t0\t0\t0\t0\t0\t0\t0\t0\t0\t0\t0\t0\t0\t0\t0\t0\t0\t0\t0\t0\t0\t0\t0\t0\t0\t0\t0\t0\t0\t0\t0\t0\t0\t0\t0\t0\t0\t0\t0\t0\t0\t0\t0\t0\t0\t0\t0\t0\t0\t0\t0\t0\t0\t0\t0\t0\t0\t0\t0\t0\t0\t0\t0\t0\t0\t0\t0\t0\t0\t0\t0\t0\t0\t0\t0\t0\t0\t0\t0\t0\t0\t0\t0\t0\t0\t0\t0\t0\t0\t0\t0\t0\t0\t0\t0\t0\t0\t0\t0\t0\t0\t0\t0\t0\t0\t0\t0\n",
      "\n",
      "Intersection saved as DFF249RGM\n",
      "DFF262NPA\n",
      "   53355185  7042884420 14887772795 Validation merging test/chr1/output_even.txt\n",
      "1\t10001\t10002\t0\t0\t0\t0\t0\t0\t0\t0\t0\t0\t0\t0\t0\t0\t0\t0\t0\t0\t0\t0\t0\t0\t0\t0\t0\t0\t0\t0\t0\t0\t0\t0\t0\t0\t0\t0\t0\t0\t0\t0\t0\t0\t0\t0\t0\t0\t0\t0\t0\t0\t0\t0\t0\t0\t0\t0\t0\t0\t0\t0\t0\t0\t0\t0\t0\t0\t0\t0\t0\t0\t0\t0\t0\t0\t0\t0\t0\t0\t0\t0\t0\t0\t0\t0\t0\t0\t0\t0\t0\t0\t0\t0\t0\t0\t0\t0\t0\t0\t0\t0\t0\t0\t0\t0\t0\t0\t0\t0\t0\t0\t0\t0\t0\t0\t0\t0\t0\t0\t0\t0\t0\t0\t0\t0\t0\t0\t0\t0\t0\n",
      "\n",
      "Intersection saved as DFF262NPA\n",
      "DFF307JWU\n",
      "   53355185  7096239605 14994483165 Validation merging test/chr1/output_odd.txt\n",
      "1\t10001\t10002\t0\t0\t0\t0\t0\t0\t0\t0\t0\t0\t0\t0\t0\t0\t0\t0\t0\t0\t0\t0\t0\t0\t0\t0\t0\t0\t0\t0\t0\t0\t0\t0\t0\t0\t0\t0\t0\t0\t0\t0\t0\t0\t0\t0\t0\t0\t0\t0\t0\t0\t0\t0\t0\t0\t0\t0\t0\t0\t0\t0\t0\t0\t0\t0\t0\t0\t0\t0\t0\t0\t0\t0\t0\t0\t0\t0\t0\t0\t0\t0\t0\t0\t0\t0\t0\t0\t0\t0\t0\t0\t0\t0\t0\t0\t0\t0\t0\t0\t0\t0\t0\t0\t0\t0\t0\t0\t0\t0\t0\t0\t0\t0\t0\t0\t0\t0\t0\t0\t0\t0\t0\t0\t0\t0\t0\t0\t0\t0\t0\t0\n",
      "\n",
      "Intersection saved as DFF307JWU\n",
      "DFF307LLE\n",
      "   53355185  7149594790 15101193535 Validation merging test/chr1/output_even.txt\n",
      "1\t10001\t10002\t0\t0\t0\t0\t0\t0\t0\t0\t0\t0\t0\t0\t0\t0\t0\t0\t0\t0\t0\t0\t0\t0\t0\t0\t0\t0\t0\t0\t0\t0\t0\t0\t0\t0\t0\t0\t0\t0\t0\t0\t0\t0\t0\t0\t0\t0\t0\t0\t0\t0\t0\t0\t0\t0\t0\t0\t0\t0\t0\t0\t0\t0\t0\t0\t0\t0\t0\t0\t0\t0\t0\t0\t0\t0\t0\t0\t0\t0\t0\t0\t0\t0\t0\t0\t0\t0\t0\t0\t0\t0\t0\t0\t0\t0\t0\t0\t0\t0\t0\t0\t0\t0\t0\t0\t0\t0\t0\t0\t0\t0\t0\t0\t0\t0\t0\t0\t0\t0\t0\t0\t0\t0\t0\t0\t0\t0\t0\t0\t0\t0\t0\n",
      "\n",
      "Intersection saved as DFF307LLE\n",
      "DFF316NIT\n",
      "   53355185  7202949975 15207903905 Validation merging test/chr1/output_odd.txt\n",
      "1\t10001\t10002\t0\t0\t0\t0\t0\t0\t0\t0\t0\t0\t0\t0\t0\t0\t0\t0\t0\t0\t0\t0\t0\t0\t0\t0\t0\t0\t0\t0\t0\t0\t0\t0\t0\t0\t0\t0\t0\t0\t0\t0\t0\t0\t0\t0\t0\t0\t0\t0\t0\t0\t0\t0\t0\t0\t0\t0\t0\t0\t0\t0\t0\t0\t0\t0\t0\t0\t0\t0\t0\t0\t0\t0\t0\t0\t0\t0\t0\t0\t0\t0\t0\t0\t0\t0\t0\t0\t0\t0\t0\t0\t0\t0\t0\t0\t0\t0\t0\t0\t0\t0\t0\t0\t0\t0\t0\t0\t0\t0\t0\t0\t0\t0\t0\t0\t0\t0\t0\t0\t0\t0\t0\t0\t0\t0\t0\t0\t0\t0\t0\t0\t0\t0\n",
      "\n",
      "Intersection saved as DFF316NIT\n",
      "DFF367ZAV\n",
      "   53355185  7256305160 15314614275 Validation merging test/chr1/output_even.txt\n",
      "1\t10001\t10002\t0\t0\t0\t0\t0\t0\t0\t0\t0\t0\t0\t0\t0\t0\t0\t0\t0\t0\t0\t0\t0\t0\t0\t0\t0\t0\t0\t0\t0\t0\t0\t0\t0\t0\t0\t0\t0\t0\t0\t0\t0\t0\t0\t0\t0\t0\t0\t0\t0\t0\t0\t0\t0\t0\t0\t0\t0\t0\t0\t0\t0\t0\t0\t0\t0\t0\t0\t0\t0\t0\t0\t0\t0\t0\t0\t0\t0\t0\t0\t0\t0\t0\t0\t0\t0\t0\t0\t0\t0\t0\t0\t0\t0\t0\t0\t0\t0\t0\t0\t0\t0\t0\t0\t0\t0\t0\t0\t0\t0\t0\t0\t0\t0\t0\t0\t0\t0\t0\t0\t0\t0\t0\t0\t0\t0\t0\t0\t0\t0\t0\t0\t0\t0\n",
      "\n",
      "Intersection saved as DFF367ZAV\n",
      "DFF371HWB\n",
      "   53355185  7309660345 15421324645 Validation merging test/chr1/output_odd.txt\n",
      "1\t10001\t10002\t0\t0\t0\t0\t0\t0\t0\t0\t0\t0\t0\t0\t0\t0\t0\t0\t0\t0\t0\t0\t0\t0\t0\t0\t0\t0\t0\t0\t0\t0\t0\t0\t0\t0\t0\t0\t0\t0\t0\t0\t0\t0\t0\t0\t0\t0\t0\t0\t0\t0\t0\t0\t0\t0\t0\t0\t0\t0\t0\t0\t0\t0\t0\t0\t0\t0\t0\t0\t0\t0\t0\t0\t0\t0\t0\t0\t0\t0\t0\t0\t0\t0\t0\t0\t0\t0\t0\t0\t0\t0\t0\t0\t0\t0\t0\t0\t0\t0\t0\t0\t0\t0\t0\t0\t0\t0\t0\t0\t0\t0\t0\t0\t0\t0\t0\t0\t0\t0\t0\t0\t0\t0\t0\t0\t0\t0\t0\t0\t0\t0\t0\t0\t0\t0\n",
      "\n",
      "Intersection saved as DFF371HWB\n",
      "DFF444FXW\n",
      "   53355185  7363015530 15528035015 Validation merging test/chr1/output_even.txt\n",
      "1\t10001\t10002\t0\t0\t0\t0\t0\t0\t0\t0\t0\t0\t0\t0\t0\t0\t0\t0\t0\t0\t0\t0\t0\t0\t0\t0\t0\t0\t0\t0\t0\t0\t0\t0\t0\t0\t0\t0\t0\t0\t0\t0\t0\t0\t0\t0\t0\t0\t0\t0\t0\t0\t0\t0\t0\t0\t0\t0\t0\t0\t0\t0\t0\t0\t0\t0\t0\t0\t0\t0\t0\t0\t0\t0\t0\t0\t0\t0\t0\t0\t0\t0\t0\t0\t0\t0\t0\t0\t0\t0\t0\t0\t0\t0\t0\t0\t0\t0\t0\t0\t0\t0\t0\t0\t0\t0\t0\t0\t0\t0\t0\t0\t0\t0\t0\t0\t0\t0\t0\t0\t0\t0\t0\t0\t0\t0\t0\t0\t0\t0\t0\t0\t0\t0\t0\t0\t0\n",
      "\n",
      "Intersection saved as DFF444FXW\n",
      "DFF491GMJ\n",
      "   53355185  7416370715 15634745385 Validation merging test/chr1/output_odd.txt\n",
      "1\t10001\t10002\t0\t0\t0\t0\t0\t0\t0\t0\t0\t0\t0\t0\t0\t0\t0\t0\t0\t0\t0\t0\t0\t0\t0\t0\t0\t0\t0\t0\t0\t0\t0\t0\t0\t0\t0\t0\t0\t0\t0\t0\t0\t0\t0\t0\t0\t0\t0\t0\t0\t0\t0\t0\t0\t0\t0\t0\t0\t0\t0\t0\t0\t0\t0\t0\t0\t0\t0\t0\t0\t0\t0\t0\t0\t0\t0\t0\t0\t0\t0\t0\t0\t0\t0\t0\t0\t0\t0\t0\t0\t0\t0\t0\t0\t0\t0\t0\t0\t0\t0\t0\t0\t0\t0\t0\t0\t0\t0\t0\t0\t0\t0\t0\t0\t0\t0\t0\t0\t0\t0\t0\t0\t0\t0\t0\t0\t0\t0\t0\t0\t0\t0\t0\t0\t0\t0\t0\n",
      "\n",
      "Intersection saved as DFF491GMJ\n",
      "DFF512TCX\n",
      "   53355185  7469725900 15741455755 Validation merging test/chr1/output_even.txt\n",
      "1\t10001\t10002\t0\t0\t0\t0\t0\t0\t0\t0\t0\t0\t0\t0\t0\t0\t0\t0\t0\t0\t0\t0\t0\t0\t0\t0\t0\t0\t0\t0\t0\t0\t0\t0\t0\t0\t0\t0\t0\t0\t0\t0\t0\t0\t0\t0\t0\t0\t0\t0\t0\t0\t0\t0\t0\t0\t0\t0\t0\t0\t0\t0\t0\t0\t0\t0\t0\t0\t0\t0\t0\t0\t0\t0\t0\t0\t0\t0\t0\t0\t0\t0\t0\t0\t0\t0\t0\t0\t0\t0\t0\t0\t0\t0\t0\t0\t0\t0\t0\t0\t0\t0\t0\t0\t0\t0\t0\t0\t0\t0\t0\t0\t0\t0\t0\t0\t0\t0\t0\t0\t0\t0\t0\t0\t0\t0\t0\t0\t0\t0\t0\t0\t0\t0\t0\t0\t0\t0\t0\n",
      "\n",
      "Intersection saved as DFF512TCX\n",
      "DFF528FIC\n",
      "   53355185  7523081085 15848166125 Validation merging test/chr1/output_odd.txt\n",
      "1\t10001\t10002\t0\t0\t0\t0\t0\t0\t0\t0\t0\t0\t0\t0\t0\t0\t0\t0\t0\t0\t0\t0\t0\t0\t0\t0\t0\t0\t0\t0\t0\t0\t0\t0\t0\t0\t0\t0\t0\t0\t0\t0\t0\t0\t0\t0\t0\t0\t0\t0\t0\t0\t0\t0\t0\t0\t0\t0\t0\t0\t0\t0\t0\t0\t0\t0\t0\t0\t0\t0\t0\t0\t0\t0\t0\t0\t0\t0\t0\t0\t0\t0\t0\t0\t0\t0\t0\t0\t0\t0\t0\t0\t0\t0\t0\t0\t0\t0\t0\t0\t0\t0\t0\t0\t0\t0\t0\t0\t0\t0\t0\t0\t0\t0\t0\t0\t0\t0\t0\t0\t0\t0\t0\t0\t0\t0\t0\t0\t0\t0\t0\t0\t0\t0\t0\t0\t0\t0\t0\t0\n",
      "\n",
      "Intersection saved as DFF528FIC\n",
      "DFF552AGR\n",
      "   53355185  7576436270 15954876495 Validation merging test/chr1/output_even.txt\n",
      "1\t10001\t10002\t0\t0\t0\t0\t0\t0\t0\t0\t0\t0\t0\t0\t0\t0\t0\t0\t0\t0\t0\t0\t0\t0\t0\t0\t0\t0\t0\t0\t0\t0\t0\t0\t0\t0\t0\t0\t0\t0\t0\t0\t0\t0\t0\t0\t0\t0\t0\t0\t0\t0\t0\t0\t0\t0\t0\t0\t0\t0\t0\t0\t0\t0\t0\t0\t0\t0\t0\t0\t0\t0\t0\t0\t0\t0\t0\t0\t0\t0\t0\t0\t0\t0\t0\t0\t0\t0\t0\t0\t0\t0\t0\t0\t0\t0\t0\t0\t0\t0\t0\t0\t0\t0\t0\t0\t0\t0\t0\t0\t0\t0\t0\t0\t0\t0\t0\t0\t0\t0\t0\t0\t0\t0\t0\t0\t0\t0\t0\t0\t0\t0\t0\t0\t0\t0\t0\t0\t0\t0\t0\n",
      "\n",
      "Intersection saved as DFF552AGR\n",
      "DFF559UZT\n",
      "   53355185  7629791455 16061586865 Validation merging test/chr1/output_odd.txt\n",
      "1\t10001\t10002\t0\t0\t0\t0\t0\t0\t0\t0\t0\t0\t0\t0\t0\t0\t0\t0\t0\t0\t0\t0\t0\t0\t0\t0\t0\t0\t0\t0\t0\t0\t0\t0\t0\t0\t0\t0\t0\t0\t0\t0\t0\t0\t0\t0\t0\t0\t0\t0\t0\t0\t0\t0\t0\t0\t0\t0\t0\t0\t0\t0\t0\t0\t0\t0\t0\t0\t0\t0\t0\t0\t0\t0\t0\t0\t0\t0\t0\t0\t0\t0\t0\t0\t0\t0\t0\t0\t0\t0\t0\t0\t0\t0\t0\t0\t0\t0\t0\t0\t0\t0\t0\t0\t0\t0\t0\t0\t0\t0\t0\t0\t0\t0\t0\t0\t0\t0\t0\t0\t0\t0\t0\t0\t0\t0\t0\t0\t0\t0\t0\t0\t0\t0\t0\t0\t0\t0\t0\t0\t0\t0\n",
      "\n",
      "Intersection saved as DFF559UZT\n",
      "DFF564GOU\n",
      "   53355185  7683146640 16168297235 Validation merging test/chr1/output_even.txt\n",
      "1\t10001\t10002\t0\t0\t0\t0\t0\t0\t0\t0\t0\t0\t0\t0\t0\t0\t0\t0\t0\t0\t0\t0\t0\t0\t0\t0\t0\t0\t0\t0\t0\t0\t0\t0\t0\t0\t0\t0\t0\t0\t0\t0\t0\t0\t0\t0\t0\t0\t0\t0\t0\t0\t0\t0\t0\t0\t0\t0\t0\t0\t0\t0\t0\t0\t0\t0\t0\t0\t0\t0\t0\t0\t0\t0\t0\t0\t0\t0\t0\t0\t0\t0\t0\t0\t0\t0\t0\t0\t0\t0\t0\t0\t0\t0\t0\t0\t0\t0\t0\t0\t0\t0\t0\t0\t0\t0\t0\t0\t0\t0\t0\t0\t0\t0\t0\t0\t0\t0\t0\t0\t0\t0\t0\t0\t0\t0\t0\t0\t0\t0\t0\t0\t0\t0\t0\t0\t0\t0\t0\t0\t0\t0\t0\n",
      "\n",
      "Intersection saved as DFF564GOU\n",
      "DFF565QGM\n",
      "   53355185  7736501825 16275007605 Validation merging test/chr1/output_odd.txt\n",
      "1\t10001\t10002\t0\t0\t0\t0\t0\t0\t0\t0\t0\t0\t0\t0\t0\t0\t0\t0\t0\t0\t0\t0\t0\t0\t0\t0\t0\t0\t0\t0\t0\t0\t0\t0\t0\t0\t0\t0\t0\t0\t0\t0\t0\t0\t0\t0\t0\t0\t0\t0\t0\t0\t0\t0\t0\t0\t0\t0\t0\t0\t0\t0\t0\t0\t0\t0\t0\t0\t0\t0\t0\t0\t0\t0\t0\t0\t0\t0\t0\t0\t0\t0\t0\t0\t0\t0\t0\t0\t0\t0\t0\t0\t0\t0\t0\t0\t0\t0\t0\t0\t0\t0\t0\t0\t0\t0\t0\t0\t0\t0\t0\t0\t0\t0\t0\t0\t0\t0\t0\t0\t0\t0\t0\t0\t0\t0\t0\t0\t0\t0\t0\t0\t0\t0\t0\t0\t0\t0\t0\t0\t0\t0\t0\t0\n",
      "\n",
      "Intersection saved as DFF565QGM\n",
      "DFF621YNV\n",
      "   53355185  7789857010 16381717975 Validation merging test/chr1/output_even.txt\n",
      "1\t10001\t10002\t0\t0\t0\t0\t0\t0\t0\t0\t0\t0\t0\t0\t0\t0\t0\t0\t0\t0\t0\t0\t0\t0\t0\t0\t0\t0\t0\t0\t0\t0\t0\t0\t0\t0\t0\t0\t0\t0\t0\t0\t0\t0\t0\t0\t0\t0\t0\t0\t0\t0\t0\t0\t0\t0\t0\t0\t0\t0\t0\t0\t0\t0\t0\t0\t0\t0\t0\t0\t0\t0\t0\t0\t0\t0\t0\t0\t0\t0\t0\t0\t0\t0\t0\t0\t0\t0\t0\t0\t0\t0\t0\t0\t0\t0\t0\t0\t0\t0\t0\t0\t0\t0\t0\t0\t0\t0\t0\t0\t0\t0\t0\t0\t0\t0\t0\t0\t0\t0\t0\t0\t0\t0\t0\t0\t0\t0\t0\t0\t0\t0\t0\t0\t0\t0\t0\t0\t0\t0\t0\t0\t0\t0\t0\n",
      "\n",
      "Intersection saved as DFF621YNV\n",
      "DFF653TBJ\n",
      "   53355185  7843212195 16488428345 Validation merging test/chr1/output_odd.txt\n",
      "1\t10001\t10002\t0\t0\t0\t0\t0\t0\t0\t0\t0\t0\t0\t0\t0\t0\t0\t0\t0\t0\t0\t0\t0\t0\t0\t0\t0\t0\t0\t0\t0\t0\t0\t0\t0\t0\t0\t0\t0\t0\t0\t0\t0\t0\t0\t0\t0\t0\t0\t0\t0\t0\t0\t0\t0\t0\t0\t0\t0\t0\t0\t0\t0\t0\t0\t0\t0\t0\t0\t0\t0\t0\t0\t0\t0\t0\t0\t0\t0\t0\t0\t0\t0\t0\t0\t0\t0\t0\t0\t0\t0\t0\t0\t0\t0\t0\t0\t0\t0\t0\t0\t0\t0\t0\t0\t0\t0\t0\t0\t0\t0\t0\t0\t0\t0\t0\t0\t0\t0\t0\t0\t0\t0\t0\t0\t0\t0\t0\t0\t0\t0\t0\t0\t0\t0\t0\t0\t0\t0\t0\t0\t0\t0\t0\t0\t0\n",
      "\n",
      "Intersection saved as DFF653TBJ\n",
      "DFF729PKJ\n",
      "   53355185  7896567380 16595138715 Validation merging test/chr1/output_even.txt\n",
      "1\t10001\t10002\t0\t0\t0\t0\t0\t0\t0\t0\t0\t0\t0\t0\t0\t0\t0\t0\t0\t0\t0\t0\t0\t0\t0\t0\t0\t0\t0\t0\t0\t0\t0\t0\t0\t0\t0\t0\t0\t0\t0\t0\t0\t0\t0\t0\t0\t0\t0\t0\t0\t0\t0\t0\t0\t0\t0\t0\t0\t0\t0\t0\t0\t0\t0\t0\t0\t0\t0\t0\t0\t0\t0\t0\t0\t0\t0\t0\t0\t0\t0\t0\t0\t0\t0\t0\t0\t0\t0\t0\t0\t0\t0\t0\t0\t0\t0\t0\t0\t0\t0\t0\t0\t0\t0\t0\t0\t0\t0\t0\t0\t0\t0\t0\t0\t0\t0\t0\t0\t0\t0\t0\t0\t0\t0\t0\t0\t0\t0\t0\t0\t0\t0\t0\t0\t0\t0\t0\t0\t0\t0\t0\t0\t0\t0\t0\t0\n",
      "\n",
      "Intersection saved as DFF729PKJ\n",
      "DFF803PYP\n",
      "   53355185  7949922565 16701849085 Validation merging test/chr1/output_odd.txt\n",
      "1\t10001\t10002\t0\t0\t0\t0\t0\t0\t0\t0\t0\t0\t0\t0\t0\t0\t0\t0\t0\t0\t0\t0\t0\t0\t0\t0\t0\t0\t0\t0\t0\t0\t0\t0\t0\t0\t0\t0\t0\t0\t0\t0\t0\t0\t0\t0\t0\t0\t0\t0\t0\t0\t0\t0\t0\t0\t0\t0\t0\t0\t0\t0\t0\t0\t0\t0\t0\t0\t0\t0\t0\t0\t0\t0\t0\t0\t0\t0\t0\t0\t0\t0\t0\t0\t0\t0\t0\t0\t0\t0\t0\t0\t0\t0\t0\t0\t0\t0\t0\t0\t0\t0\t0\t0\t0\t0\t0\t0\t0\t0\t0\t0\t0\t0\t0\t0\t0\t0\t0\t0\t0\t0\t0\t0\t0\t0\t0\t0\t0\t0\t0\t0\t0\t0\t0\t0\t0\t0\t0\t0\t0\t0\t0\t0\t0\t0\t0\t0\n",
      "\n",
      "Intersection saved as DFF803PYP\n",
      "DFF842KEC\n",
      "   53355185  8003277750 16808559455 Validation merging test/chr1/output_even.txt\n",
      "1\t10001\t10002\t0\t0\t0\t0\t0\t0\t0\t0\t0\t0\t0\t0\t0\t0\t0\t0\t0\t0\t0\t0\t0\t0\t0\t0\t0\t0\t0\t0\t0\t0\t0\t0\t0\t0\t0\t0\t0\t0\t0\t0\t0\t0\t0\t0\t0\t0\t0\t0\t0\t0\t0\t0\t0\t0\t0\t0\t0\t0\t0\t0\t0\t0\t0\t0\t0\t0\t0\t0\t0\t0\t0\t0\t0\t0\t0\t0\t0\t0\t0\t0\t0\t0\t0\t0\t0\t0\t0\t0\t0\t0\t0\t0\t0\t0\t0\t0\t0\t0\t0\t0\t0\t0\t0\t0\t0\t0\t0\t0\t0\t0\t0\t0\t0\t0\t0\t0\t0\t0\t0\t0\t0\t0\t0\t0\t0\t0\t0\t0\t0\t0\t0\t0\t0\t0\t0\t0\t0\t0\t0\t0\t0\t0\t0\t0\t0\t0\t0\n",
      "\n",
      "Intersection saved as DFF842KEC\n",
      "DFF923IAT\n",
      "   53355185  8056632935 16915269825 Validation merging test/chr1/output_odd.txt\n",
      "1\t10001\t10002\t0\t0\t0\t0\t0\t0\t0\t0\t0\t0\t0\t0\t0\t0\t0\t0\t0\t0\t0\t0\t0\t0\t0\t0\t0\t0\t0\t0\t0\t0\t0\t0\t0\t0\t0\t0\t0\t0\t0\t0\t0\t0\t0\t0\t0\t0\t0\t0\t0\t0\t0\t0\t0\t0\t0\t0\t0\t0\t0\t0\t0\t0\t0\t0\t0\t0\t0\t0\t0\t0\t0\t0\t0\t0\t0\t0\t0\t0\t0\t0\t0\t0\t0\t0\t0\t0\t0\t0\t0\t0\t0\t0\t0\t0\t0\t0\t0\t0\t0\t0\t0\t0\t0\t0\t0\t0\t0\t0\t0\t0\t0\t0\t0\t0\t0\t0\t0\t0\t0\t0\t0\t0\t0\t0\t0\t0\t0\t0\t0\t0\t0\t0\t0\t0\t0\t0\t0\t0\t0\t0\t0\t0\t0\t0\t0\t0\t0\t0\n",
      "\n",
      "Intersection saved as DFF923IAT\n",
      "DFF975AHB\n",
      "   53355185  8109988120 17021980195 Validation merging test/chr1/output_even.txt\n",
      "1\t10001\t10002\t0\t0\t0\t0\t0\t0\t0\t0\t0\t0\t0\t0\t0\t0\t0\t0\t0\t0\t0\t0\t0\t0\t0\t0\t0\t0\t0\t0\t0\t0\t0\t0\t0\t0\t0\t0\t0\t0\t0\t0\t0\t0\t0\t0\t0\t0\t0\t0\t0\t0\t0\t0\t0\t0\t0\t0\t0\t0\t0\t0\t0\t0\t0\t0\t0\t0\t0\t0\t0\t0\t0\t0\t0\t0\t0\t0\t0\t0\t0\t0\t0\t0\t0\t0\t0\t0\t0\t0\t0\t0\t0\t0\t0\t0\t0\t0\t0\t0\t0\t0\t0\t0\t0\t0\t0\t0\t0\t0\t0\t0\t0\t0\t0\t0\t0\t0\t0\t0\t0\t0\t0\t0\t0\t0\t0\t0\t0\t0\t0\t0\t0\t0\t0\t0\t0\t0\t0\t0\t0\t0\t0\t0\t0\t0\t0\t0\t0\t0\t0\n",
      "\n",
      "Intersection saved as DFF975AHB\n",
      "149\n"
     ]
    }
   ],
   "source": [
    "# order: Human - Mouse - TFBS - zebrafish - vista - cvdkp - hic - pchic -atac - genomic (fetal) - ncer - dickel\n",
    "# bed_starting_ind_zebra = read_general_files(validation_file, \"Zebrafish\", start_ind = bed_starting_ind_tfbs, intersect = '-C')\n",
    "# print(bed_starting_ind_zebra)\n",
    "# bed_starting_ind_vista = read_general_files(validation_file, \"Vista_human_heart_enhancers\", start_ind = bed_starting_ind_zebra, \n",
    "                                            # intersect = \"-C\", sub_folder = \"/hg38\")\n",
    "bed_starting_ind_cvdkp = read_general_files(validation_file, \"CVDKP\", start_ind = bed_starting_ind_vista, \n",
    "                                            intersect = \"-C\", sub_folder = \"/gz lifted bed files\")\n",
    "print(bed_starting_ind_cvdkp)\n",
    "# bed_starting_ind_hic = read_general_files(validation_file, \"Hi-C\", start_ind = bed_starting_ind_cvdkp, intersect = '-C')\n",
    "# bed_starting_ind_pchic = read_general_files(validation_file, \"PCHiC\", start_ind = bed_starting_ind_hic, intersect = '-C')   \n",
    "# bed_starting_ind_atac = read_general_files(validation_file, \"ATAC\", start_ind = bed_starting_ind_pchic, intersect = '-C')\n",
    "# bed_starting_ind_fetal = read_general_files(validation_file, \"Genomic analyses clean fetal heart enhancers\", start_ind = bed_starting_ind_atac)"
   ]
  },
  {
   "cell_type": "code",
   "execution_count": null,
   "metadata": {},
   "outputs": [
    {
     "name": "stdout",
     "output_type": "stream",
     "text": [
      "149\n",
      "38 ['ENCFF024FSS.bed', 'ENCFF055YGM.bed', 'ENCFF072LFQ.bed', 'ENCFF124JSN.bed', 'ENCFF174HPZ.bed', 'ENCFF179JFB.bed', 'ENCFF199VHV.bed', 'ENCFF237JBZ.bed', 'ENCFF239PZJ.bed', 'ENCFF251ADS.bed', 'ENCFF257UAY.bed', 'ENCFF258HEB.bed', 'ENCFF291YRH.bed', 'ENCFF303AKJ.bed', 'ENCFF315UYG.bed', 'ENCFF372VNL.bed', 'ENCFF525ZRG.bed', 'ENCFF529QEX.bed', 'ENCFF556YGF.bed', 'ENCFF560EBG.bed', 'ENCFF567VUC.bed', 'ENCFF643QLU.bed', 'ENCFF718BTP.bed', 'ENCFF720GJU.bed', 'ENCFF731JBR.bed', 'ENCFF783MYY.bed', 'ENCFF792EIF.bed', 'ENCFF811VNG.bed', 'ENCFF820DKN.bed', 'ENCFF830CEC.bed', 'ENCFF890NRK.bed', 'ENCFF898WYV.bed', 'ENCFF901EKY.bed', 'ENCFF953FJE.bed', 'ENCFF968YWL.bed', 'ENCFF984UBD.bed', 'ENCFF988KSK.bed', 'ENCFF991MKU.bed']\n",
      "ENCFF024FSS\n",
      "   53355185  8163343305 17128690565 Validation merging test/chr1/output_odd.txt\n",
      "1\t10001\t10002\t0\t0\t0\t0\t0\t0\t0\t0\t0\t0\t0\t0\t0\t0\t0\t0\t0\t0\t0\t0\t0\t0\t0\t0\t0\t0\t0\t0\t0\t0\t0\t0\t0\t0\t0\t0\t0\t0\t0\t0\t0\t0\t0\t0\t0\t0\t0\t0\t0\t0\t0\t0\t0\t0\t0\t0\t0\t0\t0\t0\t0\t0\t0\t0\t0\t0\t0\t0\t0\t0\t0\t0\t0\t0\t0\t0\t0\t0\t0\t0\t0\t0\t0\t0\t0\t0\t0\t0\t0\t0\t0\t0\t0\t0\t0\t0\t0\t0\t0\t0\t0\t0\t0\t0\t0\t0\t0\t0\t0\t0\t0\t0\t0\t0\t0\t0\t0\t0\t0\t0\t0\t0\t0\t0\t0\t0\t0\t0\t0\t0\t0\t0\t0\t0\t0\t0\t0\t0\t0\t0\t0\t0\t0\t0\t0\t0\t0\t0\t0\t0\n",
      "\n",
      "Intersection saved as ENCFF024FSS\n",
      "ENCFF055YGM\n",
      "   53355185  8216698490 17235400935 Validation merging test/chr1/output_even.txt\n",
      "1\t10001\t10002\t0\t0\t0\t0\t0\t0\t0\t0\t0\t0\t0\t0\t0\t0\t0\t0\t0\t0\t0\t0\t0\t0\t0\t0\t0\t0\t0\t0\t0\t0\t0\t0\t0\t0\t0\t0\t0\t0\t0\t0\t0\t0\t0\t0\t0\t0\t0\t0\t0\t0\t0\t0\t0\t0\t0\t0\t0\t0\t0\t0\t0\t0\t0\t0\t0\t0\t0\t0\t0\t0\t0\t0\t0\t0\t0\t0\t0\t0\t0\t0\t0\t0\t0\t0\t0\t0\t0\t0\t0\t0\t0\t0\t0\t0\t0\t0\t0\t0\t0\t0\t0\t0\t0\t0\t0\t0\t0\t0\t0\t0\t0\t0\t0\t0\t0\t0\t0\t0\t0\t0\t0\t0\t0\t0\t0\t0\t0\t0\t0\t0\t0\t0\t0\t0\t0\t0\t0\t0\t0\t0\t0\t0\t0\t0\t0\t0\t0\t0\t0\t0\t0\n",
      "\n",
      "Intersection saved as ENCFF055YGM\n",
      "ENCFF072LFQ\n"
     ]
    }
   ],
   "source": [
    "print(bed_starting_ind_cvdkp) #150\n",
    "bed_starting_ind_atac = read_general_files(validation_file, \"ATAC\", start_ind = bed_starting_ind_cvdkp, intersect = '-C')\n",
    "# bed_starting_ind_atac = 188"
   ]
  },
  {
   "cell_type": "code",
   "execution_count": null,
   "metadata": {},
   "outputs": [],
   "source": [
    "print(bed_starting_ind_atac)\n",
    "bed_starting_ind_hic = read_general_files(validation_file, \"Hi-C\", start_ind = bed_starting_ind_atac, intersect = '-C')\n",
    "bed_starting_ind_pchic = read_general_files(validation_file, \"PCHiC\", start_ind = bed_starting_ind_hic, intersect = '-C')  "
   ]
  },
  {
   "cell_type": "code",
   "execution_count": null,
   "metadata": {},
   "outputs": [],
   "source": [
    "print(bed_starting_ind_pchic)\n",
    "bed_starting_ind_fetal = read_general_files(validation_file, \"Genomic analyses clean fetal heart enhancers\", start_ind = bed_starting_ind_pchic)\n",
    "print(bed_starting_ind_fetal)"
   ]
  },
  {
   "cell_type": "code",
   "execution_count": null,
   "metadata": {},
   "outputs": [],
   "source": [
    "# for dickel and ncer\n",
    "# run bedtools intersection with the chr12_encode_even.txt with ncer and dickel then use paste -d'\\t' to append the last column to the dataset"
   ]
  }
 ],
 "metadata": {
  "colab": {
   "collapsed_sections": [
    "nCJf0QXviLOg",
    "IqRuUzrr6wS-",
    "3wOdMMdf67Z7",
    "rWECDC9RIfNZ"
   ],
   "provenance": [],
   "toc_visible": true
  },
  "kernelspec": {
   "display_name": "Python 3 (ipykernel)",
   "language": "python",
   "name": "python3"
  },
  "language_info": {
   "codemirror_mode": {
    "name": "ipython",
    "version": 3
   },
   "file_extension": ".py",
   "mimetype": "text/x-python",
   "name": "python",
   "nbconvert_exporter": "python",
   "pygments_lexer": "ipython3",
   "version": "3.10.10"
  }
 },
 "nbformat": 4,
 "nbformat_minor": 4
}
